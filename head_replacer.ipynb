{
 "cells": [
  {
   "cell_type": "code",
   "id": "initial_id",
   "metadata": {
    "collapsed": true
   },
   "source": [
    "import pandas as pd\n",
    "import numpy as np\n",
    "import os\n",
    "from IPython.display import display\n",
    "from fuzzywuzzy import fuzz\n",
    "from fuzzywuzzy import process\n",
    "from ITUtils import *\n",
    "from tqdm.notebook import tqdm\n",
    "import re"
   ],
   "outputs": [],
   "execution_count": null
  },
  {
   "metadata": {},
   "cell_type": "code",
   "source": "# replace the header in the newcountriestables folder",
   "id": "5502b76589ff1652",
   "outputs": [],
   "execution_count": null
  },
  {
   "metadata": {},
   "cell_type": "code",
   "source": [
    "# folder\n",
    "folder = 'newcountriestables'\n",
    "# ref file\n",
    "lut  = 'lookupnew.csv'"
   ],
   "id": "49ecd4d4f58c39c9",
   "outputs": [],
   "execution_count": null
  },
  {
   "metadata": {},
   "cell_type": "code",
   "source": [
    "# open lut\n",
    "pdlut = pd.read_csv(lut, header=None)\n",
    "display(pdlut)\n",
    "oldnames = pdlut[:1].values.flatten().tolist()\n",
    "\n",
    "newnames = pdlut[1:2].values.flatten().tolist()\n",
    "\n",
    "rename_dict = dict(zip(oldnames, newnames))\n",
    "print(rename_dict)"
   ],
   "id": "242d1e3d117a6de3",
   "outputs": [],
   "execution_count": null
  },
  {
   "metadata": {},
   "cell_type": "markdown",
   "source": "example use",
   "id": "346db3ed3979de1a"
  },
  {
   "metadata": {},
   "cell_type": "code",
   "source": [
    "# # open an example file\n",
    "# hol = pd.read_csv(os.path.join(folder, 'HOL.csv'))\n",
    "# display(hol)\n",
    "# # Replace headers in hol using the lookup table\n",
    "# hol.rename(columns=rename_dict, inplace=True)\n",
    "# display(hol)"
   ],
   "id": "b3a9b8fa53393f4f",
   "outputs": [],
   "execution_count": null
  },
  {
   "metadata": {},
   "cell_type": "markdown",
   "source": "full folder replacement",
   "id": "4bf299b25400399b"
  },
  {
   "metadata": {},
   "cell_type": "code",
   "source": [
    "# do it for every file in the folder\n",
    "for file in tqdm(os.listdir(folder)):\n",
    "    df = pd.read_csv(os.path.join(folder, file), low_memory=False)\n",
    "    df.rename(columns=rename_dict, inplace=True)\n",
    "    # save \n",
    "    df.to_csv(os.path.join(folder, file), index=False)"
   ],
   "id": "c4c27676484ec561",
   "outputs": [],
   "execution_count": null
  }
 ],
 "metadata": {
  "kernelspec": {
   "display_name": "Python 3",
   "language": "python",
   "name": "python3"
  },
  "language_info": {
   "codemirror_mode": {
    "name": "ipython",
    "version": 2
   },
   "file_extension": ".py",
   "mimetype": "text/x-python",
   "name": "python",
   "nbconvert_exporter": "python",
   "pygments_lexer": "ipython2",
   "version": "2.7.6"
  }
 },
 "nbformat": 4,
 "nbformat_minor": 5
}
