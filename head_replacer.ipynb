{
 "cells": [
  {
   "cell_type": "code",
   "id": "initial_id",
   "metadata": {
    "collapsed": true,
    "ExecuteTime": {
     "end_time": "2025-05-30T02:06:26.239179Z",
     "start_time": "2025-05-30T02:06:26.226978Z"
    }
   },
   "source": [
    "import pandas as pd\n",
    "import numpy as np\n",
    "import os\n",
    "from IPython.display import display\n",
    "from fuzzywuzzy import fuzz\n",
    "from fuzzywuzzy import process\n",
    "from ITUtils import *\n",
    "from tqdm.notebook import tqdm\n",
    "import re"
   ],
   "outputs": [],
   "execution_count": 7
  },
  {
   "metadata": {
    "ExecuteTime": {
     "end_time": "2025-05-30T02:06:26.302340Z",
     "start_time": "2025-05-30T02:06:26.297803Z"
    }
   },
   "cell_type": "code",
   "source": "# replace the header in the newcountriestables folder",
   "id": "5502b76589ff1652",
   "outputs": [],
   "execution_count": 8
  },
  {
   "metadata": {
    "ExecuteTime": {
     "end_time": "2025-05-30T02:06:26.317883Z",
     "start_time": "2025-05-30T02:06:26.305338Z"
    }
   },
   "cell_type": "code",
   "source": [
    "# folder\n",
    "folder = 'countriestables'\n",
    "# ref file\n",
    "lut  = 'lookupnew.csv'"
   ],
   "id": "49ecd4d4f58c39c9",
   "outputs": [],
   "execution_count": 9
  },
  {
   "metadata": {
    "ExecuteTime": {
     "end_time": "2025-05-30T02:06:26.364541Z",
     "start_time": "2025-05-30T02:06:26.320404Z"
    }
   },
   "cell_type": "code",
   "source": [
    "# open lut\n",
    "pdlut = pd.read_csv(lut, header=None)\n",
    "display(pdlut)\n",
    "oldnames = pdlut[:1].values.flatten().tolist()\n",
    "\n",
    "newnames = pdlut[1:2].values.flatten().tolist()\n",
    "\n",
    "rename_dict = dict(zip(oldnames, newnames))\n",
    "print(rename_dict)"
   ],
   "id": "242d1e3d117a6de3",
   "outputs": [
    {
     "data": {
      "text/plain": [
       "              0                   1            2                 3   \\\n",
       "0         ntc_id          tgt_ntc_id          adm          ntwk_org   \n",
       "1  com_el.ntc_id   com_el.tgt_ntc_id   com_el.adm   com_el.ntwk_org   \n",
       "\n",
       "                 4             5              6               7   \\\n",
       "0          sat_name      long_nom           prov           d_rcv   \n",
       "1   com_el.sat_name   com_el.prov   com_el.d_rcv   com_el.st_cur   \n",
       "\n",
       "              8                  9   ...               22          23  \\\n",
       "0         st_cur             orb_id  ...       d_prot_eff       f_biu   \n",
       "1   orbit.orb_id   orbit.nbr_sat_pl  ...   grp.d_prot_eff   grp.f_biu   \n",
       "\n",
       "              24                 25                 26                     27  \\\n",
       "0   emiss.seq_no         pwr_ds_max         design_emi              freq_carr   \n",
       "1   emiss.seq_no   emiss.pwr_ds_max   emiss.design_emi   carrier_fr.freq_carr   \n",
       "\n",
       "                      28                  29              30  \\\n",
       "0              seq_emiss   carrier_fr.seq_no            ctry   \n",
       "1   carrier_fr.seq_emiss   carrier_fr.seq_no   srv_area.ctry   \n",
       "\n",
       "                     31  \n",
       "0            f_excl_api  \n",
       "1   srv_area.f_excl_api  \n",
       "\n",
       "[2 rows x 32 columns]"
      ],
      "text/html": [
       "<div>\n",
       "<style scoped>\n",
       "    .dataframe tbody tr th:only-of-type {\n",
       "        vertical-align: middle;\n",
       "    }\n",
       "\n",
       "    .dataframe tbody tr th {\n",
       "        vertical-align: top;\n",
       "    }\n",
       "\n",
       "    .dataframe thead th {\n",
       "        text-align: right;\n",
       "    }\n",
       "</style>\n",
       "<table border=\"1\" class=\"dataframe\">\n",
       "  <thead>\n",
       "    <tr style=\"text-align: right;\">\n",
       "      <th></th>\n",
       "      <th>0</th>\n",
       "      <th>1</th>\n",
       "      <th>2</th>\n",
       "      <th>3</th>\n",
       "      <th>4</th>\n",
       "      <th>5</th>\n",
       "      <th>6</th>\n",
       "      <th>7</th>\n",
       "      <th>8</th>\n",
       "      <th>9</th>\n",
       "      <th>...</th>\n",
       "      <th>22</th>\n",
       "      <th>23</th>\n",
       "      <th>24</th>\n",
       "      <th>25</th>\n",
       "      <th>26</th>\n",
       "      <th>27</th>\n",
       "      <th>28</th>\n",
       "      <th>29</th>\n",
       "      <th>30</th>\n",
       "      <th>31</th>\n",
       "    </tr>\n",
       "  </thead>\n",
       "  <tbody>\n",
       "    <tr>\n",
       "      <th>0</th>\n",
       "      <td>ntc_id</td>\n",
       "      <td>tgt_ntc_id</td>\n",
       "      <td>adm</td>\n",
       "      <td>ntwk_org</td>\n",
       "      <td>sat_name</td>\n",
       "      <td>long_nom</td>\n",
       "      <td>prov</td>\n",
       "      <td>d_rcv</td>\n",
       "      <td>st_cur</td>\n",
       "      <td>orb_id</td>\n",
       "      <td>...</td>\n",
       "      <td>d_prot_eff</td>\n",
       "      <td>f_biu</td>\n",
       "      <td>emiss.seq_no</td>\n",
       "      <td>pwr_ds_max</td>\n",
       "      <td>design_emi</td>\n",
       "      <td>freq_carr</td>\n",
       "      <td>seq_emiss</td>\n",
       "      <td>carrier_fr.seq_no</td>\n",
       "      <td>ctry</td>\n",
       "      <td>f_excl_api</td>\n",
       "    </tr>\n",
       "    <tr>\n",
       "      <th>1</th>\n",
       "      <td>com_el.ntc_id</td>\n",
       "      <td>com_el.tgt_ntc_id</td>\n",
       "      <td>com_el.adm</td>\n",
       "      <td>com_el.ntwk_org</td>\n",
       "      <td>com_el.sat_name</td>\n",
       "      <td>com_el.prov</td>\n",
       "      <td>com_el.d_rcv</td>\n",
       "      <td>com_el.st_cur</td>\n",
       "      <td>orbit.orb_id</td>\n",
       "      <td>orbit.nbr_sat_pl</td>\n",
       "      <td>...</td>\n",
       "      <td>grp.d_prot_eff</td>\n",
       "      <td>grp.f_biu</td>\n",
       "      <td>emiss.seq_no</td>\n",
       "      <td>emiss.pwr_ds_max</td>\n",
       "      <td>emiss.design_emi</td>\n",
       "      <td>carrier_fr.freq_carr</td>\n",
       "      <td>carrier_fr.seq_emiss</td>\n",
       "      <td>carrier_fr.seq_no</td>\n",
       "      <td>srv_area.ctry</td>\n",
       "      <td>srv_area.f_excl_api</td>\n",
       "    </tr>\n",
       "  </tbody>\n",
       "</table>\n",
       "<p>2 rows × 32 columns</p>\n",
       "</div>"
      ]
     },
     "metadata": {},
     "output_type": "display_data"
    },
    {
     "name": "stdout",
     "output_type": "stream",
     "text": [
      "{'ntc_id': 'com_el.ntc_id', 'tgt_ntc_id': ' com_el.tgt_ntc_id', 'adm': ' com_el.adm', 'ntwk_org': ' com_el.ntwk_org', 'sat_name': ' com_el.sat_name', 'long_nom': ' com_el.prov', 'prov': ' com_el.d_rcv', 'd_rcv': ' com_el.st_cur', 'st_cur': ' orbit.orb_id', 'orb_id': ' orbit.nbr_sat_pl', 'nbr_sat_pl': ' orbit.inclin_ang', 'apog_km': ' orbit.apog_km', 'perig_km': ' orbit.perig_km', 'op_ht_km': ' orbit.op_ht_km', 'emi_rcp': ' s_beam.emi_rcp', 'beam_name': ' s_beam.beam_name', 'grp_id': ' grp.grp_id', 'freq_min': ' grp.freq_min', 'freq_max': ' grp.freq_max', 'bdwdth': ' grp.bdwdth', 'd_inuse': ' grp.d_inuse', 'd_reg_limit': ' grp.d_reg_limit', 'd_prot_eff': ' grp.d_prot_eff', 'f_biu': ' grp.f_biu', 'emiss.seq_no': ' emiss.seq_no', 'pwr_ds_max': ' emiss.pwr_ds_max', 'design_emi': ' emiss.design_emi', 'freq_carr': ' carrier_fr.freq_carr', 'seq_emiss': ' carrier_fr.seq_emiss', 'carrier_fr.seq_no': ' carrier_fr.seq_no', 'ctry': ' srv_area.ctry', 'f_excl_api': ' srv_area.f_excl_api'}\n"
     ]
    }
   ],
   "execution_count": 10
  },
  {
   "metadata": {},
   "cell_type": "markdown",
   "source": "example use",
   "id": "346db3ed3979de1a"
  },
  {
   "metadata": {
    "ExecuteTime": {
     "end_time": "2025-05-30T02:06:26.380100Z",
     "start_time": "2025-05-30T02:06:26.367541Z"
    }
   },
   "cell_type": "code",
   "source": [
    "# # open an example file\n",
    "# hol = pd.read_csv(os.path.join(folder, 'HOL.csv'))\n",
    "# display(hol)\n",
    "# # Replace headers in hol using the lookup table\n",
    "# hol.rename(columns=rename_dict, inplace=True)\n",
    "# display(hol)"
   ],
   "id": "b3a9b8fa53393f4f",
   "outputs": [],
   "execution_count": 11
  },
  {
   "metadata": {},
   "cell_type": "markdown",
   "source": "full folder replacement",
   "id": "4bf299b25400399b"
  },
  {
   "metadata": {
    "ExecuteTime": {
     "end_time": "2025-05-30T02:09:02.401146Z",
     "start_time": "2025-05-30T02:06:26.446330Z"
    }
   },
   "cell_type": "code",
   "source": [
    "# do it for every file in the folder\n",
    "for file in tqdm(os.listdir(folder)):\n",
    "    df = pd.read_csv(os.path.join(folder, file), low_memory=False)\n",
    "    df.rename(columns=rename_dict, inplace=True)\n",
    "    # save \n",
    "    df.to_csv(os.path.join(folder, file), index=False)"
   ],
   "id": "c4c27676484ec561",
   "outputs": [
    {
     "data": {
      "text/plain": [
       "  0%|          | 0/42 [00:00<?, ?it/s]"
      ],
      "application/vnd.jupyter.widget-view+json": {
       "version_major": 2,
       "version_minor": 0,
       "model_id": "8e0464b3069b46d4ba9ff75eafb27fd4"
      }
     },
     "metadata": {},
     "output_type": "display_data"
    }
   ],
   "execution_count": 12
  }
 ],
 "metadata": {
  "kernelspec": {
   "display_name": "Python 3",
   "language": "python",
   "name": "python3"
  },
  "language_info": {
   "codemirror_mode": {
    "name": "ipython",
    "version": 2
   },
   "file_extension": ".py",
   "mimetype": "text/x-python",
   "name": "python",
   "nbconvert_exporter": "python",
   "pygments_lexer": "ipython2",
   "version": "2.7.6"
  }
 },
 "nbformat": 4,
 "nbformat_minor": 5
}
