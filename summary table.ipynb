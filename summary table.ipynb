{
 "cells": [
  {
   "cell_type": "code",
   "id": "initial_id",
   "metadata": {
    "collapsed": true,
    "ExecuteTime": {
     "end_time": "2025-05-07T06:24:34.889052Z",
     "start_time": "2025-05-07T06:24:33.754178Z"
    }
   },
   "source": [
    "import pandas as pd\n",
    "import numpy as np\n",
    "import os\n",
    "import re\n",
    "import matplotlib.pyplot as plt\n",
    "from tqdm.notebook import tqdm\n",
    "from collections import defaultdict\n",
    "from IPython.display import display\n",
    "from fuzzywuzzy import fuzz, process\n",
    "from ITUtils import country_conflicts_finder  # Assuming you have this util function\n",
    "from pandarallel import pandarallel\n",
    "\n",
    "# show all columns\n",
    "pd.set_option('display.max_rows', None)"
   ],
   "outputs": [],
   "execution_count": 1
  },
  {
   "metadata": {
    "ExecuteTime": {
     "end_time": "2025-05-07T06:24:35.835687Z",
     "start_time": "2025-05-07T06:24:34.890879Z"
    }
   },
   "cell_type": "code",
   "source": [
    "# pick a country and import the conflicts\n",
    "adm = 'G'\n",
    "file = 'expanded_combined_tables_conflicts_lettersatnames.csv'\n",
    "filepath = os.path.join('.', 'adm_conflicts', adm, file)\n",
    "df = pd.read_csv(filepath, low_memory=False)\n",
    "display(df.head())\n",
    "print(df.columns)"
   ],
   "id": "3a8826ffd5f60ade",
   "outputs": [
    {
     "data": {
      "text/plain": [
       "   com_el.ntc_id   com_el.tgt_ntc_id  com_el.adm   com_el.ntwk_org  \\\n",
       "0      118545036                 NaN           G               NaN   \n",
       "1      118545036                 NaN           G               NaN   \n",
       "2      118545036                 NaN           G               NaN   \n",
       "3      118545036                 NaN           G               NaN   \n",
       "4      118545036                 NaN           G               NaN   \n",
       "\n",
       "   com_el.sat_name   com_el.long_nom  com_el.prov  com_el.d_rcv  \\\n",
       "0          SSG-CSL               NaN       9.1/IA    30.05.2018   \n",
       "1          SSG-CSL               NaN       9.1/IA    30.05.2018   \n",
       "2          SSG-CSL               NaN       9.1/IA    30.05.2018   \n",
       "3          SSG-CSL               NaN       9.1/IA    30.05.2018   \n",
       "4          SSG-CSL               NaN       9.1/IA    30.05.2018   \n",
       "\n",
       "    com_el.st_cur   orbit.orb_id  ...  TPA1.2055.475-2055.725_R  \\\n",
       "0              50            1.0  ...                       NaN   \n",
       "1              50            1.0  ...                       NaN   \n",
       "2              50            1.0  ...                       NaN   \n",
       "3              50            1.0  ...                       NaN   \n",
       "4              50            2.0  ...                       NaN   \n",
       "\n",
       "   TPA1.401.89525-401.90475_R  TPA1.2237.0-2238.0_E  TPA1.2065.575-2065.825_R  \\\n",
       "0                         NaN                   NaN                       NaN   \n",
       "1                         NaN                   NaN                       NaN   \n",
       "2                         NaN                   NaN                       NaN   \n",
       "3                         NaN                   NaN                       NaN   \n",
       "4                         NaN                   NaN                       NaN   \n",
       "\n",
       "  TPA1.401.9501-401.9699_E TPA1.401.8901-401.9099_R  \\\n",
       "0                      NaN                      NaN   \n",
       "1                      NaN                      NaN   \n",
       "2                      NaN                      NaN   \n",
       "3                      NaN                      NaN   \n",
       "4                      NaN                      NaN   \n",
       "\n",
       "   TPA1.401.95525-401.96475_E  TPA1.401.8901-401.9099_E  \\\n",
       "0                         NaN                       NaN   \n",
       "1                         NaN                       NaN   \n",
       "2                         NaN                       NaN   \n",
       "3                         NaN                       NaN   \n",
       "4                         NaN                       NaN   \n",
       "\n",
       "   TPA1.401.89525-401.90475_E  TPA1.2202.4-2203.4_E  \n",
       "0                         NaN                   NaN  \n",
       "1                         NaN                   NaN  \n",
       "2                         NaN                   NaN  \n",
       "3                         NaN                   NaN  \n",
       "4                         NaN                   NaN  \n",
       "\n",
       "[5 rows x 45 columns]"
      ],
      "text/html": [
       "<div>\n",
       "<style scoped>\n",
       "    .dataframe tbody tr th:only-of-type {\n",
       "        vertical-align: middle;\n",
       "    }\n",
       "\n",
       "    .dataframe tbody tr th {\n",
       "        vertical-align: top;\n",
       "    }\n",
       "\n",
       "    .dataframe thead th {\n",
       "        text-align: right;\n",
       "    }\n",
       "</style>\n",
       "<table border=\"1\" class=\"dataframe\">\n",
       "  <thead>\n",
       "    <tr style=\"text-align: right;\">\n",
       "      <th></th>\n",
       "      <th>com_el.ntc_id</th>\n",
       "      <th>com_el.tgt_ntc_id</th>\n",
       "      <th>com_el.adm</th>\n",
       "      <th>com_el.ntwk_org</th>\n",
       "      <th>com_el.sat_name</th>\n",
       "      <th>com_el.long_nom</th>\n",
       "      <th>com_el.prov</th>\n",
       "      <th>com_el.d_rcv</th>\n",
       "      <th>com_el.st_cur</th>\n",
       "      <th>orbit.orb_id</th>\n",
       "      <th>...</th>\n",
       "      <th>TPA1.2055.475-2055.725_R</th>\n",
       "      <th>TPA1.401.89525-401.90475_R</th>\n",
       "      <th>TPA1.2237.0-2238.0_E</th>\n",
       "      <th>TPA1.2065.575-2065.825_R</th>\n",
       "      <th>TPA1.401.9501-401.9699_E</th>\n",
       "      <th>TPA1.401.8901-401.9099_R</th>\n",
       "      <th>TPA1.401.95525-401.96475_E</th>\n",
       "      <th>TPA1.401.8901-401.9099_E</th>\n",
       "      <th>TPA1.401.89525-401.90475_E</th>\n",
       "      <th>TPA1.2202.4-2203.4_E</th>\n",
       "    </tr>\n",
       "  </thead>\n",
       "  <tbody>\n",
       "    <tr>\n",
       "      <th>0</th>\n",
       "      <td>118545036</td>\n",
       "      <td>NaN</td>\n",
       "      <td>G</td>\n",
       "      <td>NaN</td>\n",
       "      <td>SSG-CSL</td>\n",
       "      <td>NaN</td>\n",
       "      <td>9.1/IA</td>\n",
       "      <td>30.05.2018</td>\n",
       "      <td>50</td>\n",
       "      <td>1.0</td>\n",
       "      <td>...</td>\n",
       "      <td>NaN</td>\n",
       "      <td>NaN</td>\n",
       "      <td>NaN</td>\n",
       "      <td>NaN</td>\n",
       "      <td>NaN</td>\n",
       "      <td>NaN</td>\n",
       "      <td>NaN</td>\n",
       "      <td>NaN</td>\n",
       "      <td>NaN</td>\n",
       "      <td>NaN</td>\n",
       "    </tr>\n",
       "    <tr>\n",
       "      <th>1</th>\n",
       "      <td>118545036</td>\n",
       "      <td>NaN</td>\n",
       "      <td>G</td>\n",
       "      <td>NaN</td>\n",
       "      <td>SSG-CSL</td>\n",
       "      <td>NaN</td>\n",
       "      <td>9.1/IA</td>\n",
       "      <td>30.05.2018</td>\n",
       "      <td>50</td>\n",
       "      <td>1.0</td>\n",
       "      <td>...</td>\n",
       "      <td>NaN</td>\n",
       "      <td>NaN</td>\n",
       "      <td>NaN</td>\n",
       "      <td>NaN</td>\n",
       "      <td>NaN</td>\n",
       "      <td>NaN</td>\n",
       "      <td>NaN</td>\n",
       "      <td>NaN</td>\n",
       "      <td>NaN</td>\n",
       "      <td>NaN</td>\n",
       "    </tr>\n",
       "    <tr>\n",
       "      <th>2</th>\n",
       "      <td>118545036</td>\n",
       "      <td>NaN</td>\n",
       "      <td>G</td>\n",
       "      <td>NaN</td>\n",
       "      <td>SSG-CSL</td>\n",
       "      <td>NaN</td>\n",
       "      <td>9.1/IA</td>\n",
       "      <td>30.05.2018</td>\n",
       "      <td>50</td>\n",
       "      <td>1.0</td>\n",
       "      <td>...</td>\n",
       "      <td>NaN</td>\n",
       "      <td>NaN</td>\n",
       "      <td>NaN</td>\n",
       "      <td>NaN</td>\n",
       "      <td>NaN</td>\n",
       "      <td>NaN</td>\n",
       "      <td>NaN</td>\n",
       "      <td>NaN</td>\n",
       "      <td>NaN</td>\n",
       "      <td>NaN</td>\n",
       "    </tr>\n",
       "    <tr>\n",
       "      <th>3</th>\n",
       "      <td>118545036</td>\n",
       "      <td>NaN</td>\n",
       "      <td>G</td>\n",
       "      <td>NaN</td>\n",
       "      <td>SSG-CSL</td>\n",
       "      <td>NaN</td>\n",
       "      <td>9.1/IA</td>\n",
       "      <td>30.05.2018</td>\n",
       "      <td>50</td>\n",
       "      <td>1.0</td>\n",
       "      <td>...</td>\n",
       "      <td>NaN</td>\n",
       "      <td>NaN</td>\n",
       "      <td>NaN</td>\n",
       "      <td>NaN</td>\n",
       "      <td>NaN</td>\n",
       "      <td>NaN</td>\n",
       "      <td>NaN</td>\n",
       "      <td>NaN</td>\n",
       "      <td>NaN</td>\n",
       "      <td>NaN</td>\n",
       "    </tr>\n",
       "    <tr>\n",
       "      <th>4</th>\n",
       "      <td>118545036</td>\n",
       "      <td>NaN</td>\n",
       "      <td>G</td>\n",
       "      <td>NaN</td>\n",
       "      <td>SSG-CSL</td>\n",
       "      <td>NaN</td>\n",
       "      <td>9.1/IA</td>\n",
       "      <td>30.05.2018</td>\n",
       "      <td>50</td>\n",
       "      <td>2.0</td>\n",
       "      <td>...</td>\n",
       "      <td>NaN</td>\n",
       "      <td>NaN</td>\n",
       "      <td>NaN</td>\n",
       "      <td>NaN</td>\n",
       "      <td>NaN</td>\n",
       "      <td>NaN</td>\n",
       "      <td>NaN</td>\n",
       "      <td>NaN</td>\n",
       "      <td>NaN</td>\n",
       "      <td>NaN</td>\n",
       "    </tr>\n",
       "  </tbody>\n",
       "</table>\n",
       "<p>5 rows × 45 columns</p>\n",
       "</div>"
      ]
     },
     "metadata": {},
     "output_type": "display_data"
    },
    {
     "name": "stdout",
     "output_type": "stream",
     "text": [
      "Index(['com_el.ntc_id', ' com_el.tgt_ntc_id', ' com_el.adm',\n",
      "       ' com_el.ntwk_org', ' com_el.sat_name', ' com_el.long_nom',\n",
      "       ' com_el.prov', ' com_el.d_rcv', ' com_el.st_cur', ' orbit.orb_id',\n",
      "       ' orbit.nbr_sat_pl', ' orbit.apog_km', ' orbit.perig_km',\n",
      "       ' orbit.op_ht_km', ' s_beam.emi_rcp', ' s_beam.beam_name',\n",
      "       ' grp.grp_id', ' grp.freq_min', ' grp.freq_max', ' grp.bdwdth',\n",
      "       ' grp.d_inuse', ' grp.d_reg_limit', ' grp.d_prot_eff', ' grp.f_biu',\n",
      "       ' emiss.seq_no', ' emiss.pwr_ds_max', ' emiss.design_emi',\n",
      "       ' carrier_fr.freq_carr', ' channel.bandwidth', ' channel.freq_min',\n",
      "       ' channel.freq_max', 'tpaconflicts', 'percentoverlap',\n",
      "       'TPA1.401.95525-401.96475_R', 'TPA1.401.9501-401.9699_R',\n",
      "       'TPA1.2055.475-2055.725_R', 'TPA1.401.89525-401.90475_R',\n",
      "       'TPA1.2237.0-2238.0_E', 'TPA1.2065.575-2065.825_R',\n",
      "       'TPA1.401.9501-401.9699_E', 'TPA1.401.8901-401.9099_R',\n",
      "       'TPA1.401.95525-401.96475_E', 'TPA1.401.8901-401.9099_E',\n",
      "       'TPA1.401.89525-401.90475_E', 'TPA1.2202.4-2203.4_E'],\n",
      "      dtype='object')\n"
     ]
    }
   ],
   "execution_count": 2
  },
  {
   "metadata": {
    "ExecuteTime": {
     "end_time": "2025-05-07T06:24:35.848792Z",
     "start_time": "2025-05-07T06:24:35.837427Z"
    }
   },
   "cell_type": "code",
   "source": [
    "# funcition to extract the table\n",
    "# Initialize pandarallel\n",
    "num_logical_processors = os.cpu_count()\n",
    "pandarallel.initialize(nb_workers=num_logical_processors, progress_bar=True)\n",
    "\n",
    "\n",
    "def summary_table(df):\n",
    "    # columns to keep\n",
    "    cols = [\n",
    "        ' com_el.sat_name',\n",
    "        ' s_beam.beam_name',\n",
    "        ' carrier_fr.freq_carr',\n",
    "        ' channel.bandwidth',\n",
    "        'tpaconflicts',\n",
    "        'percentoverlap'\n",
    "    ]\n",
    "    lookupnames = [\n",
    "        'UHFUP fc=401.96 bw=9K5',\n",
    "        'UHFUP fc=401.96 bw=19K8',\n",
    "        'SUP fc=2055.6 bw=250K',\n",
    "        'UHFUP fc=401.90 bw=9K5',\n",
    "        'SDN fc=2237.5 bw=1M',\n",
    "        'SUP fc=2065.7 bw=250k',\n",
    "        'UHFDN fc=401.96 bw=19K8',\n",
    "        'UHFUP fc=401.90 bw=19K8',\n",
    "        'UHFDN fc=401.96 bw=9K5',\n",
    "        'UHFDN fc=401.90 bw=19K8',\n",
    "        'UHFDN fc=401.90 bw=9K5',\n",
    "        'SDN fc=2202.9 bw=1M'\n",
    "    ]\n",
    "    # get the columns\n",
    "    df1 = df[cols].copy()\n",
    "    if df1.empty:\n",
    "        print(\"❗ DataFrame is empty\")\n",
    "        return pd.DataFrame(columns=[\n",
    "            'Sat Name', 'Beam Name', 'Carrier Freq. (fc MHz)', 'Bandwidth (MHz)', 'Overlaps'\n",
    "        ])\n",
    "    # add a literal column \n",
    "    df1.loc[:, 'Overlaps'] = None\n",
    "\n",
    "    def functiontoapply(row):\n",
    "        con = str(row['tpaconflicts']).split(':')\n",
    "        confidx = [] \n",
    "        for c in con[:-1]:\n",
    "            confidx.append(int(c))\n",
    "        perc = str(row['percentoverlap']).split(':')\n",
    "        overlap = []\n",
    "        for i in range(len(confidx)):\n",
    "            over = str(lookupnames[confidx[i]]) + ' ' + str(perc[i]) + '% overlap'\n",
    "            overlap.append(over)\n",
    "        row['Overlaps'] = ' : '.join(overlap)\n",
    "        if row['Overlaps'] == '':\n",
    "            row['Overlaps'] = 'No Conflicts Found'\n",
    "        return row\n",
    "\n",
    "    # apply in parallel to all rows\n",
    "    if len(df1) > 24:\n",
    "        df1 = df1.parallel_apply(functiontoapply, axis=1)\n",
    "    else:\n",
    "        df1 = df1.apply(functiontoapply, axis=1)\n",
    "    # divide the bandwidth column by 1e6\n",
    "    df1[' channel.bandwidth'] = df1[' channel.bandwidth'].apply(lambda x: float(x) / 1e6)\n",
    "\n",
    "    \n",
    "    # drop columns \n",
    "    df1 = df1.drop(['tpaconflicts', 'percentoverlap'], axis=1)\n",
    "    # rename columns\n",
    "    df1 = df1.rename(columns={\n",
    "        ' com_el.sat_name': 'Sat Name',\n",
    "        ' s_beam.beam_name': 'Beam Name',\n",
    "        ' carrier_fr.freq_carr': 'Carrier Freq. (fc MHz)',\n",
    "        ' channel.bandwidth': 'Bandwidth (MHz)', })  # this is calculated from the emission designator code e.g. 19k8XXX\n",
    "    # drop duplicates\n",
    "    df1 = df1.drop_duplicates()\n",
    "    return df1\n",
    "\n"
   ],
   "id": "2a57179d6b63c62a",
   "outputs": [
    {
     "name": "stdout",
     "output_type": "stream",
     "text": [
      "INFO: Pandarallel will run on 8 workers.\n",
      "INFO: Pandarallel will use Memory file system to transfer data between the main process and workers.\n"
     ]
    }
   ],
   "execution_count": 3
  },
  {
   "metadata": {
    "ExecuteTime": {
     "end_time": "2025-05-07T06:24:35.855628Z",
     "start_time": "2025-05-07T06:24:35.851742Z"
    }
   },
   "cell_type": "code",
   "source": "",
   "id": "85cd5dc120ce4b66",
   "outputs": [],
   "execution_count": 3
  },
  {
   "metadata": {
    "ExecuteTime": {
     "end_time": "2025-05-07T06:24:40.988681Z",
     "start_time": "2025-05-07T06:24:35.857496Z"
    }
   },
   "cell_type": "code",
   "source": [
    "# apply to dataframe\n",
    "table = summary_table(df)\n",
    "\n",
    "# export \n",
    "outpath = os.path.join('.', 'adm_conflicts', adm, 'conflicts_summary.csv')\n",
    "table.to_csv(outpath, index=False)\n",
    "print('File saved to ', outpath)"
   ],
   "id": "943f0a261caf22dc",
   "outputs": [
    {
     "data": {
      "text/plain": [
       "VBox(children=(HBox(children=(IntProgress(value=0, description='0.00%', max=20976), Label(value='0 / 20976')))…"
      ],
      "application/vnd.jupyter.widget-view+json": {
       "version_major": 2,
       "version_minor": 0,
       "model_id": "910ff4246f5e46beacbdd4dbecc6f395"
      }
     },
     "metadata": {},
     "output_type": "display_data"
    },
    {
     "name": "stdout",
     "output_type": "stream",
     "text": [
      "File saved to  ./adm_conflicts/G/conflicts_summary.csv\n"
     ]
    }
   ],
   "execution_count": 4
  },
  {
   "metadata": {
    "ExecuteTime": {
     "end_time": "2025-05-07T06:25:52.363049Z",
     "start_time": "2025-05-07T06:24:40.990571Z"
    }
   },
   "cell_type": "code",
   "source": [
    "# iterate for every administration \n",
    "# === CONFIG ===\n",
    "tpafile = './databases/TPAtable.csv'\n",
    "tablesfolder = 'countriestables'\n",
    "outfolder = 'adm_conflicts'\n",
    "countrieslistfile = 'countrieslist.csv'\n",
    "# Load country codes\n",
    "with open(countrieslistfile, 'r') as f:\n",
    "    countries = f.read().strip().split(', ')\n",
    "# === PROCESS EACH COUNTRY ===\n",
    "for ccode in countries:\n",
    "    print(f\"\\n=== Processing {ccode} ===\")\n",
    "    # outfolder (must already exist)\n",
    "    country_outfolder = os.path.join(outfolder, ccode)\n",
    "    adm = ccode\n",
    "    file = 'expanded_combined_tables_conflicts_lettersatnames.csv'\n",
    "    filepath = os.path.join('.', 'adm_conflicts', adm, file)\n",
    "    df = pd.read_csv(filepath, low_memory=False)\n",
    "    # display(df.head())\n",
    "    # print(df.columns)\n",
    "    # execute \n",
    "    table = summary_table(df)\n",
    "        # export \n",
    "    outpath = os.path.join('.', 'adm_conflicts', adm, 'conflicts_summary.csv')\n",
    "    table.to_csv(outpath, index=False)\n",
    "    print('File saved to ', outpath)\n",
    "    \n",
    "    # do the same for the non filtered satellite names\n",
    "    file = 'expanded_combined_tables_conflicts_othersatnames.csv'\n",
    "    filepath = os.path.join('.', 'adm_conflicts', adm, file)\n",
    "    df = pd.read_csv(filepath, low_memory=False)\n",
    "    # display(df.head())\n",
    "    # print(df.columns)\n",
    "    # execute \n",
    "    table = summary_table(df)\n",
    "        # export \n",
    "    outpath = os.path.join('.', 'adm_conflicts', adm, 'conflicts_summary_othersatnames.csv')\n",
    "    table.to_csv(outpath, index=False)\n",
    "    print('File saved to ', outpath)\n"
   ],
   "id": "64a5543fc3790d02",
   "outputs": [
    {
     "name": "stdout",
     "output_type": "stream",
     "text": [
      "\n",
      "=== Processing AFS ===\n",
      "File saved to  ./adm_conflicts/AFS/conflicts_summary.csv\n",
      "File saved to  ./adm_conflicts/AFS/conflicts_summary_othersatnames.csv\n",
      "\n",
      "=== Processing ARS ===\n"
     ]
    },
    {
     "data": {
      "text/plain": [
       "VBox(children=(HBox(children=(IntProgress(value=0, description='0.00%', max=1442), Label(value='0 / 1442'))), …"
      ],
      "application/vnd.jupyter.widget-view+json": {
       "version_major": 2,
       "version_minor": 0,
       "model_id": "1c7a3b659006429184fa65ff3d37b936"
      }
     },
     "metadata": {},
     "output_type": "display_data"
    },
    {
     "name": "stdout",
     "output_type": "stream",
     "text": [
      "File saved to  ./adm_conflicts/ARS/conflicts_summary.csv\n"
     ]
    },
    {
     "data": {
      "text/plain": [
       "VBox(children=(HBox(children=(IntProgress(value=0, description='0.00%', max=5), Label(value='0 / 5'))), HBox(c…"
      ],
      "application/vnd.jupyter.widget-view+json": {
       "version_major": 2,
       "version_minor": 0,
       "model_id": "ec1e83ad1199460eac16983e81591080"
      }
     },
     "metadata": {},
     "output_type": "display_data"
    },
    {
     "name": "stdout",
     "output_type": "stream",
     "text": [
      "File saved to  ./adm_conflicts/ARS/conflicts_summary_othersatnames.csv\n",
      "\n",
      "=== Processing AUS ===\n"
     ]
    },
    {
     "data": {
      "text/plain": [
       "VBox(children=(HBox(children=(IntProgress(value=0, description='0.00%', max=43761), Label(value='0 / 43761')))…"
      ],
      "application/vnd.jupyter.widget-view+json": {
       "version_major": 2,
       "version_minor": 0,
       "model_id": "6edca1ad75b44daa9aa37eeb7ec1e35f"
      }
     },
     "metadata": {},
     "output_type": "display_data"
    },
    {
     "name": "stdout",
     "output_type": "stream",
     "text": [
      "File saved to  ./adm_conflicts/AUS/conflicts_summary.csv\n"
     ]
    },
    {
     "data": {
      "text/plain": [
       "VBox(children=(HBox(children=(IntProgress(value=0, description='0.00%', max=4), Label(value='0 / 4'))), HBox(c…"
      ],
      "application/vnd.jupyter.widget-view+json": {
       "version_major": 2,
       "version_minor": 0,
       "model_id": "892c402bc51849f1a71c5826b22773bb"
      }
     },
     "metadata": {},
     "output_type": "display_data"
    },
    {
     "name": "stdout",
     "output_type": "stream",
     "text": [
      "File saved to  ./adm_conflicts/AUS/conflicts_summary_othersatnames.csv\n",
      "\n",
      "=== Processing CAN ===\n"
     ]
    },
    {
     "data": {
      "text/plain": [
       "VBox(children=(HBox(children=(IntProgress(value=0, description='0.00%', max=68), Label(value='0 / 68'))), HBox…"
      ],
      "application/vnd.jupyter.widget-view+json": {
       "version_major": 2,
       "version_minor": 0,
       "model_id": "1f4b0073cb214970997ad17a8b952e60"
      }
     },
     "metadata": {},
     "output_type": "display_data"
    },
    {
     "name": "stdout",
     "output_type": "stream",
     "text": [
      "File saved to  ./adm_conflicts/CAN/conflicts_summary.csv\n"
     ]
    },
    {
     "data": {
      "text/plain": [
       "VBox(children=(HBox(children=(IntProgress(value=0, description='0.00%', max=13), Label(value='0 / 13'))), HBox…"
      ],
      "application/vnd.jupyter.widget-view+json": {
       "version_major": 2,
       "version_minor": 0,
       "model_id": "34ae979f10a94c11979f1e0321ba262f"
      }
     },
     "metadata": {},
     "output_type": "display_data"
    },
    {
     "name": "stdout",
     "output_type": "stream",
     "text": [
      "File saved to  ./adm_conflicts/CAN/conflicts_summary_othersatnames.csv\n",
      "\n",
      "=== Processing CHN ===\n"
     ]
    },
    {
     "data": {
      "text/plain": [
       "VBox(children=(HBox(children=(IntProgress(value=0, description='0.00%', max=40168), Label(value='0 / 40168')))…"
      ],
      "application/vnd.jupyter.widget-view+json": {
       "version_major": 2,
       "version_minor": 0,
       "model_id": "44b20625fc7a42609fef2e9f60305ed6"
      }
     },
     "metadata": {},
     "output_type": "display_data"
    },
    {
     "name": "stdout",
     "output_type": "stream",
     "text": [
      "File saved to  ./adm_conflicts/CHN/conflicts_summary.csv\n"
     ]
    },
    {
     "data": {
      "text/plain": [
       "VBox(children=(HBox(children=(IntProgress(value=0, description='0.00%', max=51884), Label(value='0 / 51884')))…"
      ],
      "application/vnd.jupyter.widget-view+json": {
       "version_major": 2,
       "version_minor": 0,
       "model_id": "41b78ffece1e4924b85e80201e0112f9"
      }
     },
     "metadata": {},
     "output_type": "display_data"
    },
    {
     "name": "stdout",
     "output_type": "stream",
     "text": [
      "File saved to  ./adm_conflicts/CHN/conflicts_summary_othersatnames.csv\n",
      "\n",
      "=== Processing D ===\n"
     ]
    },
    {
     "data": {
      "text/plain": [
       "VBox(children=(HBox(children=(IntProgress(value=0, description='0.00%', max=85264), Label(value='0 / 85264')))…"
      ],
      "application/vnd.jupyter.widget-view+json": {
       "version_major": 2,
       "version_minor": 0,
       "model_id": "95fdd910364f4ad28050049f6e8a7181"
      }
     },
     "metadata": {},
     "output_type": "display_data"
    },
    {
     "name": "stdout",
     "output_type": "stream",
     "text": [
      "File saved to  ./adm_conflicts/D/conflicts_summary.csv\n"
     ]
    },
    {
     "data": {
      "text/plain": [
       "VBox(children=(HBox(children=(IntProgress(value=0, description='0.00%', max=420), Label(value='0 / 420'))), HB…"
      ],
      "application/vnd.jupyter.widget-view+json": {
       "version_major": 2,
       "version_minor": 0,
       "model_id": "af9bd139d0e64fc6bbc01ecbf54cbc33"
      }
     },
     "metadata": {},
     "output_type": "display_data"
    },
    {
     "name": "stdout",
     "output_type": "stream",
     "text": [
      "File saved to  ./adm_conflicts/D/conflicts_summary_othersatnames.csv\n",
      "\n",
      "=== Processing E ===\n"
     ]
    },
    {
     "data": {
      "text/plain": [
       "VBox(children=(HBox(children=(IntProgress(value=0, description='0.00%', max=68), Label(value='0 / 68'))), HBox…"
      ],
      "application/vnd.jupyter.widget-view+json": {
       "version_major": 2,
       "version_minor": 0,
       "model_id": "33b67ff06a3f48e59919c0aea5ffd600"
      }
     },
     "metadata": {},
     "output_type": "display_data"
    },
    {
     "name": "stdout",
     "output_type": "stream",
     "text": [
      "File saved to  ./adm_conflicts/E/conflicts_summary.csv\n"
     ]
    },
    {
     "data": {
      "text/plain": [
       "VBox(children=(HBox(children=(IntProgress(value=0, description='0.00%', max=755), Label(value='0 / 755'))), HB…"
      ],
      "application/vnd.jupyter.widget-view+json": {
       "version_major": 2,
       "version_minor": 0,
       "model_id": "bdbbb1266e104b5e9f00dfab769e4cb0"
      }
     },
     "metadata": {},
     "output_type": "display_data"
    },
    {
     "name": "stdout",
     "output_type": "stream",
     "text": [
      "File saved to  ./adm_conflicts/E/conflicts_summary_othersatnames.csv\n",
      "\n",
      "=== Processing EGY ===\n",
      "❗ DataFrame is empty\n",
      "File saved to  ./adm_conflicts/EGY/conflicts_summary.csv\n"
     ]
    },
    {
     "data": {
      "text/plain": [
       "VBox(children=(HBox(children=(IntProgress(value=0, description='0.00%', max=5), Label(value='0 / 5'))), HBox(c…"
      ],
      "application/vnd.jupyter.widget-view+json": {
       "version_major": 2,
       "version_minor": 0,
       "model_id": "52fcc8945a2a41aba5db985a68ce05cf"
      }
     },
     "metadata": {},
     "output_type": "display_data"
    },
    {
     "name": "stdout",
     "output_type": "stream",
     "text": [
      "File saved to  ./adm_conflicts/EGY/conflicts_summary_othersatnames.csv\n",
      "\n",
      "=== Processing F ===\n"
     ]
    },
    {
     "data": {
      "text/plain": [
       "VBox(children=(HBox(children=(IntProgress(value=0, description='0.00%', max=89), Label(value='0 / 89'))), HBox…"
      ],
      "application/vnd.jupyter.widget-view+json": {
       "version_major": 2,
       "version_minor": 0,
       "model_id": "aeb8dc6da52044039594ee4cdbb62d48"
      }
     },
     "metadata": {},
     "output_type": "display_data"
    },
    {
     "name": "stdout",
     "output_type": "stream",
     "text": [
      "File saved to  ./adm_conflicts/F/conflicts_summary.csv\n"
     ]
    },
    {
     "data": {
      "text/plain": [
       "VBox(children=(HBox(children=(IntProgress(value=0, description='0.00%', max=11), Label(value='0 / 11'))), HBox…"
      ],
      "application/vnd.jupyter.widget-view+json": {
       "version_major": 2,
       "version_minor": 0,
       "model_id": "a0e00ef50a5c4be99ec11cc4dcd49e8c"
      }
     },
     "metadata": {},
     "output_type": "display_data"
    },
    {
     "name": "stdout",
     "output_type": "stream",
     "text": [
      "File saved to  ./adm_conflicts/F/conflicts_summary_othersatnames.csv\n",
      "\n",
      "=== Processing G ===\n"
     ]
    },
    {
     "data": {
      "text/plain": [
       "VBox(children=(HBox(children=(IntProgress(value=0, description='0.00%', max=20976), Label(value='0 / 20976')))…"
      ],
      "application/vnd.jupyter.widget-view+json": {
       "version_major": 2,
       "version_minor": 0,
       "model_id": "1cb6ced16d81417f8f55c3fdc5887a48"
      }
     },
     "metadata": {},
     "output_type": "display_data"
    },
    {
     "name": "stdout",
     "output_type": "stream",
     "text": [
      "File saved to  ./adm_conflicts/G/conflicts_summary.csv\n"
     ]
    },
    {
     "data": {
      "text/plain": [
       "VBox(children=(HBox(children=(IntProgress(value=0, description='0.00%', max=57), Label(value='0 / 57'))), HBox…"
      ],
      "application/vnd.jupyter.widget-view+json": {
       "version_major": 2,
       "version_minor": 0,
       "model_id": "85782aa59d0d40319079027a755a82d3"
      }
     },
     "metadata": {},
     "output_type": "display_data"
    },
    {
     "name": "stdout",
     "output_type": "stream",
     "text": [
      "File saved to  ./adm_conflicts/G/conflicts_summary_othersatnames.csv\n",
      "\n",
      "=== Processing GRC ===\n",
      "File saved to  ./adm_conflicts/GRC/conflicts_summary.csv\n",
      "File saved to  ./adm_conflicts/GRC/conflicts_summary_othersatnames.csv\n",
      "\n",
      "=== Processing HOL ===\n",
      "❗ DataFrame is empty\n",
      "File saved to  ./adm_conflicts/HOL/conflicts_summary.csv\n",
      "File saved to  ./adm_conflicts/HOL/conflicts_summary_othersatnames.csv\n",
      "\n",
      "=== Processing I ===\n"
     ]
    },
    {
     "data": {
      "text/plain": [
       "VBox(children=(HBox(children=(IntProgress(value=0, description='0.00%', max=226), Label(value='0 / 226'))), HB…"
      ],
      "application/vnd.jupyter.widget-view+json": {
       "version_major": 2,
       "version_minor": 0,
       "model_id": "764bd78678664eff940437416d471ba0"
      }
     },
     "metadata": {},
     "output_type": "display_data"
    },
    {
     "name": "stdout",
     "output_type": "stream",
     "text": [
      "File saved to  ./adm_conflicts/I/conflicts_summary.csv\n"
     ]
    },
    {
     "data": {
      "text/plain": [
       "VBox(children=(HBox(children=(IntProgress(value=0, description='0.00%', max=361), Label(value='0 / 361'))), HB…"
      ],
      "application/vnd.jupyter.widget-view+json": {
       "version_major": 2,
       "version_minor": 0,
       "model_id": "6d3dddab1c21490f9210c4de25de9ebd"
      }
     },
     "metadata": {},
     "output_type": "display_data"
    },
    {
     "name": "stdout",
     "output_type": "stream",
     "text": [
      "File saved to  ./adm_conflicts/I/conflicts_summary_othersatnames.csv\n",
      "\n",
      "=== Processing IRN ===\n"
     ]
    },
    {
     "data": {
      "text/plain": [
       "VBox(children=(HBox(children=(IntProgress(value=0, description='0.00%', max=5), Label(value='0 / 5'))), HBox(c…"
      ],
      "application/vnd.jupyter.widget-view+json": {
       "version_major": 2,
       "version_minor": 0,
       "model_id": "002b1eb1e0af4b4d9a5f432bc061c45c"
      }
     },
     "metadata": {},
     "output_type": "display_data"
    },
    {
     "name": "stdout",
     "output_type": "stream",
     "text": [
      "File saved to  ./adm_conflicts/IRN/conflicts_summary.csv\n",
      "❗ DataFrame is empty\n",
      "File saved to  ./adm_conflicts/IRN/conflicts_summary_othersatnames.csv\n",
      "\n",
      "=== Processing ISR ===\n"
     ]
    },
    {
     "data": {
      "text/plain": [
       "VBox(children=(HBox(children=(IntProgress(value=0, description='0.00%', max=35), Label(value='0 / 35'))), HBox…"
      ],
      "application/vnd.jupyter.widget-view+json": {
       "version_major": 2,
       "version_minor": 0,
       "model_id": "7cc3a20eb3dc4be6b7fbba43f8e208a0"
      }
     },
     "metadata": {},
     "output_type": "display_data"
    },
    {
     "name": "stdout",
     "output_type": "stream",
     "text": [
      "File saved to  ./adm_conflicts/ISR/conflicts_summary.csv\n"
     ]
    },
    {
     "data": {
      "text/plain": [
       "VBox(children=(HBox(children=(IntProgress(value=0, description='0.00%', max=7), Label(value='0 / 7'))), HBox(c…"
      ],
      "application/vnd.jupyter.widget-view+json": {
       "version_major": 2,
       "version_minor": 0,
       "model_id": "c9444768936e4508a0e8fb8841cb3da4"
      }
     },
     "metadata": {},
     "output_type": "display_data"
    },
    {
     "name": "stdout",
     "output_type": "stream",
     "text": [
      "File saved to  ./adm_conflicts/ISR/conflicts_summary_othersatnames.csv\n",
      "\n",
      "=== Processing J ===\n"
     ]
    },
    {
     "data": {
      "text/plain": [
       "VBox(children=(HBox(children=(IntProgress(value=0, description='0.00%', max=67), Label(value='0 / 67'))), HBox…"
      ],
      "application/vnd.jupyter.widget-view+json": {
       "version_major": 2,
       "version_minor": 0,
       "model_id": "3b29d9d10ca640a28a9890ee4080c041"
      }
     },
     "metadata": {},
     "output_type": "display_data"
    },
    {
     "name": "stdout",
     "output_type": "stream",
     "text": [
      "File saved to  ./adm_conflicts/J/conflicts_summary.csv\n"
     ]
    },
    {
     "data": {
      "text/plain": [
       "VBox(children=(HBox(children=(IntProgress(value=0, description='0.00%', max=63), Label(value='0 / 63'))), HBox…"
      ],
      "application/vnd.jupyter.widget-view+json": {
       "version_major": 2,
       "version_minor": 0,
       "model_id": "5ba1ac9689c44d78b78d916f1f16258f"
      }
     },
     "metadata": {},
     "output_type": "display_data"
    },
    {
     "name": "stdout",
     "output_type": "stream",
     "text": [
      "File saved to  ./adm_conflicts/J/conflicts_summary_othersatnames.csv\n",
      "\n",
      "=== Processing KAZ ===\n",
      "File saved to  ./adm_conflicts/KAZ/conflicts_summary.csv\n",
      "❗ DataFrame is empty\n",
      "File saved to  ./adm_conflicts/KAZ/conflicts_summary_othersatnames.csv\n",
      "\n",
      "=== Processing KOR ===\n"
     ]
    },
    {
     "data": {
      "text/plain": [
       "VBox(children=(HBox(children=(IntProgress(value=0, description='0.00%', max=349), Label(value='0 / 349'))), HB…"
      ],
      "application/vnd.jupyter.widget-view+json": {
       "version_major": 2,
       "version_minor": 0,
       "model_id": "6497013965344848b62133849a6eaa69"
      }
     },
     "metadata": {},
     "output_type": "display_data"
    },
    {
     "name": "stdout",
     "output_type": "stream",
     "text": [
      "File saved to  ./adm_conflicts/KOR/conflicts_summary.csv\n"
     ]
    },
    {
     "data": {
      "text/plain": [
       "VBox(children=(HBox(children=(IntProgress(value=0, description='0.00%', max=361), Label(value='0 / 361'))), HB…"
      ],
      "application/vnd.jupyter.widget-view+json": {
       "version_major": 2,
       "version_minor": 0,
       "model_id": "39e947bce8ad40e9809bf23055b1bd50"
      }
     },
     "metadata": {},
     "output_type": "display_data"
    },
    {
     "name": "stdout",
     "output_type": "stream",
     "text": [
      "File saved to  ./adm_conflicts/KOR/conflicts_summary_othersatnames.csv\n",
      "\n",
      "=== Processing LUX ===\n"
     ]
    },
    {
     "data": {
      "text/plain": [
       "VBox(children=(HBox(children=(IntProgress(value=0, description='0.00%', max=1168), Label(value='0 / 1168'))), …"
      ],
      "application/vnd.jupyter.widget-view+json": {
       "version_major": 2,
       "version_minor": 0,
       "model_id": "61e35d53afcb481e85d4aa26ec098ea0"
      }
     },
     "metadata": {},
     "output_type": "display_data"
    },
    {
     "name": "stdout",
     "output_type": "stream",
     "text": [
      "File saved to  ./adm_conflicts/LUX/conflicts_summary.csv\n"
     ]
    },
    {
     "data": {
      "text/plain": [
       "VBox(children=(HBox(children=(IntProgress(value=0, description='0.00%', max=177), Label(value='0 / 177'))), HB…"
      ],
      "application/vnd.jupyter.widget-view+json": {
       "version_major": 2,
       "version_minor": 0,
       "model_id": "96f5115968ed42b98ed4b5d7924e2cc3"
      }
     },
     "metadata": {},
     "output_type": "display_data"
    },
    {
     "name": "stdout",
     "output_type": "stream",
     "text": [
      "File saved to  ./adm_conflicts/LUX/conflicts_summary_othersatnames.csv\n",
      "\n",
      "=== Processing MLA ===\n",
      "❗ DataFrame is empty\n",
      "File saved to  ./adm_conflicts/MLA/conflicts_summary.csv\n"
     ]
    },
    {
     "data": {
      "text/plain": [
       "VBox(children=(HBox(children=(IntProgress(value=0, description='0.00%', max=4), Label(value='0 / 4'))), HBox(c…"
      ],
      "application/vnd.jupyter.widget-view+json": {
       "version_major": 2,
       "version_minor": 0,
       "model_id": "5a402d2356d14eb091e11e9e365a0e82"
      }
     },
     "metadata": {},
     "output_type": "display_data"
    },
    {
     "name": "stdout",
     "output_type": "stream",
     "text": [
      "File saved to  ./adm_conflicts/MLA/conflicts_summary_othersatnames.csv\n",
      "\n",
      "=== Processing MRC ===\n",
      "File saved to  ./adm_conflicts/MRC/conflicts_summary.csv\n",
      "File saved to  ./adm_conflicts/MRC/conflicts_summary_othersatnames.csv\n",
      "\n",
      "=== Processing NOR ===\n",
      "File saved to  ./adm_conflicts/NOR/conflicts_summary.csv\n"
     ]
    },
    {
     "data": {
      "text/plain": [
       "VBox(children=(HBox(children=(IntProgress(value=0, description='0.00%', max=50), Label(value='0 / 50'))), HBox…"
      ],
      "application/vnd.jupyter.widget-view+json": {
       "version_major": 2,
       "version_minor": 0,
       "model_id": "026be1629557463aa2f16b3f01df2a26"
      }
     },
     "metadata": {},
     "output_type": "display_data"
    },
    {
     "name": "stdout",
     "output_type": "stream",
     "text": [
      "File saved to  ./adm_conflicts/NOR/conflicts_summary_othersatnames.csv\n",
      "\n",
      "=== Processing PAK ===\n"
     ]
    },
    {
     "data": {
      "text/plain": [
       "VBox(children=(HBox(children=(IntProgress(value=0, description='0.00%', max=131), Label(value='0 / 131'))), HB…"
      ],
      "application/vnd.jupyter.widget-view+json": {
       "version_major": 2,
       "version_minor": 0,
       "model_id": "c5af5eff80a6462ba41752abedbd0ea8"
      }
     },
     "metadata": {},
     "output_type": "display_data"
    },
    {
     "name": "stdout",
     "output_type": "stream",
     "text": [
      "File saved to  ./adm_conflicts/PAK/conflicts_summary.csv\n"
     ]
    },
    {
     "data": {
      "text/plain": [
       "VBox(children=(HBox(children=(IntProgress(value=0, description='0.00%', max=17), Label(value='0 / 17'))), HBox…"
      ],
      "application/vnd.jupyter.widget-view+json": {
       "version_major": 2,
       "version_minor": 0,
       "model_id": "fdc7c5b89f314cbf9514839f9b9d94ab"
      }
     },
     "metadata": {},
     "output_type": "display_data"
    },
    {
     "name": "stdout",
     "output_type": "stream",
     "text": [
      "File saved to  ./adm_conflicts/PAK/conflicts_summary_othersatnames.csv\n",
      "\n",
      "=== Processing POR ===\n",
      "File saved to  ./adm_conflicts/POR/conflicts_summary.csv\n",
      "File saved to  ./adm_conflicts/POR/conflicts_summary_othersatnames.csv\n",
      "\n",
      "=== Processing RUS ===\n"
     ]
    },
    {
     "data": {
      "text/plain": [
       "VBox(children=(HBox(children=(IntProgress(value=0, description='0.00%', max=1116), Label(value='0 / 1116'))), …"
      ],
      "application/vnd.jupyter.widget-view+json": {
       "version_major": 2,
       "version_minor": 0,
       "model_id": "450779d8d1fd4e45bcfa292183a0d23b"
      }
     },
     "metadata": {},
     "output_type": "display_data"
    },
    {
     "name": "stdout",
     "output_type": "stream",
     "text": [
      "File saved to  ./adm_conflicts/RUS/conflicts_summary.csv\n",
      "❗ DataFrame is empty\n",
      "File saved to  ./adm_conflicts/RUS/conflicts_summary_othersatnames.csv\n",
      "\n",
      "=== Processing SLM ===\n",
      "❗ DataFrame is empty\n",
      "File saved to  ./adm_conflicts/SLM/conflicts_summary.csv\n"
     ]
    },
    {
     "data": {
      "text/plain": [
       "VBox(children=(HBox(children=(IntProgress(value=0, description='0.00%', max=167), Label(value='0 / 167'))), HB…"
      ],
      "application/vnd.jupyter.widget-view+json": {
       "version_major": 2,
       "version_minor": 0,
       "model_id": "618c6ed6a361426985f7c2e686df483f"
      }
     },
     "metadata": {},
     "output_type": "display_data"
    },
    {
     "name": "stdout",
     "output_type": "stream",
     "text": [
      "File saved to  ./adm_conflicts/SLM/conflicts_summary_othersatnames.csv\n",
      "\n",
      "=== Processing THA ===\n"
     ]
    },
    {
     "data": {
      "text/plain": [
       "VBox(children=(HBox(children=(IntProgress(value=0, description='0.00%', max=109), Label(value='0 / 109'))), HB…"
      ],
      "application/vnd.jupyter.widget-view+json": {
       "version_major": 2,
       "version_minor": 0,
       "model_id": "6a95ecaa92314ab19a78d20f9d0661f7"
      }
     },
     "metadata": {},
     "output_type": "display_data"
    },
    {
     "name": "stdout",
     "output_type": "stream",
     "text": [
      "File saved to  ./adm_conflicts/THA/conflicts_summary.csv\n",
      "❗ DataFrame is empty\n",
      "File saved to  ./adm_conflicts/THA/conflicts_summary_othersatnames.csv\n",
      "\n",
      "=== Processing USA ===\n",
      "❗ DataFrame is empty\n",
      "File saved to  ./adm_conflicts/USA/conflicts_summary.csv\n"
     ]
    },
    {
     "data": {
      "text/plain": [
       "VBox(children=(HBox(children=(IntProgress(value=0, description='0.00%', max=4573), Label(value='0 / 4573'))), …"
      ],
      "application/vnd.jupyter.widget-view+json": {
       "version_major": 2,
       "version_minor": 0,
       "model_id": "c718f0f55b15423083e607a645357c25"
      }
     },
     "metadata": {},
     "output_type": "display_data"
    },
    {
     "name": "stdout",
     "output_type": "stream",
     "text": [
      "File saved to  ./adm_conflicts/USA/conflicts_summary_othersatnames.csv\n"
     ]
    }
   ],
   "execution_count": 5
  }
 ],
 "metadata": {
  "kernelspec": {
   "display_name": "Python 3",
   "language": "python",
   "name": "python3"
  },
  "language_info": {
   "codemirror_mode": {
    "name": "ipython",
    "version": 2
   },
   "file_extension": ".py",
   "mimetype": "text/x-python",
   "name": "python",
   "nbconvert_exporter": "python",
   "pygments_lexer": "ipython2",
   "version": "2.7.6"
  }
 },
 "nbformat": 4,
 "nbformat_minor": 5
}
