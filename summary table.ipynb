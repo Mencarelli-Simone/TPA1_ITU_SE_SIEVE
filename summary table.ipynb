{
 "cells": [
  {
   "cell_type": "code",
   "id": "initial_id",
   "metadata": {
    "ExecuteTime": {
     "end_time": "2025-05-19T00:39:50.944508Z",
     "start_time": "2025-05-19T00:39:47.941724Z"
    }
   },
   "source": [
    "import pandas as pd\n",
    "import numpy as np\n",
    "import os\n",
    "import re\n",
    "import matplotlib.pyplot as plt\n",
    "from tqdm.notebook import tqdm\n",
    "from collections import defaultdict\n",
    "from IPython.display import display\n",
    "from fuzzywuzzy import fuzz, process\n",
    "from ITUtils import country_conflicts_finder  # Assuming you have this util function\n",
    "from pandarallel import pandarallel\n",
    "\n",
    "# show all columns\n",
    "pd.set_option('display.max_rows', None)"
   ],
   "outputs": [],
   "execution_count": 1
  },
  {
   "cell_type": "code",
   "id": "3a8826ffd5f60ade",
   "metadata": {
    "ExecuteTime": {
     "end_time": "2025-05-19T00:39:50.992183Z",
     "start_time": "2025-05-19T00:39:50.945318Z"
    }
   },
   "source": [
    "# pick a country and import the conflicts\n",
    "adm = 'ARG'\n",
    "file = 'expanded_combined_tables_conflicts_lettersatnames.csv'\n",
    "filepath = os.path.join('.', 'adm_conflicts', adm, file)\n",
    "df = pd.read_csv(filepath, low_memory=False)\n",
    "display(df.head())\n",
    "print(df.columns)"
   ],
   "outputs": [
    {
     "data": {
      "text/plain": [
       "Empty DataFrame\n",
       "Columns: [com_el.ntc_id,  com_el.tgt_ntc_id,  com_el.adm,  com_el.ntwk_org,  com_el.sat_name,  com_el.prov,  com_el.d_rcv,  com_el.st_cur,  orbit.orb_id,  orbit.nbr_sat_pl,  orbit.inclin_ang,  orbit.apog_km,  orbit.perig_km,  orbit.op_ht_km,  s_beam.emi_rcp,  s_beam.beam_name,  grp.grp_id,  grp.freq_min,  grp.freq_max,  grp.bdwdth,  grp.d_rcv,  grp.d_inuse,  grp.d_reg_limit,  grp.d_prot_eff,  grp.f_biu,  emiss.seq_no,  emiss.pwr_ds_max,  emiss.design_emi,  carrier_fr.freq_carr,  channel.bandwidth,  channel.freq_min,  channel.freq_max, tpaconflicts, percentoverlap, TPA1.401.95525-401.96475_R, TPA1.401.9501-401.9699_R, TPA1.2055.475-2055.725_R, TPA1.401.89525-401.90475_R, TPA1.2237.0-2238.0_E, TPA1.2065.575-2065.825_R, TPA1.401.9501-401.9699_E, TPA1.401.8901-401.9099_R, TPA1.401.95525-401.96475_E, TPA1.401.8901-401.9099_E, TPA1.401.89525-401.90475_E, TPA1.2202.4-2203.4_E]\n",
       "Index: []\n",
       "\n",
       "[0 rows x 46 columns]"
      ],
      "text/html": [
       "<div>\n",
       "<style scoped>\n",
       "    .dataframe tbody tr th:only-of-type {\n",
       "        vertical-align: middle;\n",
       "    }\n",
       "\n",
       "    .dataframe tbody tr th {\n",
       "        vertical-align: top;\n",
       "    }\n",
       "\n",
       "    .dataframe thead th {\n",
       "        text-align: right;\n",
       "    }\n",
       "</style>\n",
       "<table border=\"1\" class=\"dataframe\">\n",
       "  <thead>\n",
       "    <tr style=\"text-align: right;\">\n",
       "      <th></th>\n",
       "      <th>com_el.ntc_id</th>\n",
       "      <th>com_el.tgt_ntc_id</th>\n",
       "      <th>com_el.adm</th>\n",
       "      <th>com_el.ntwk_org</th>\n",
       "      <th>com_el.sat_name</th>\n",
       "      <th>com_el.prov</th>\n",
       "      <th>com_el.d_rcv</th>\n",
       "      <th>com_el.st_cur</th>\n",
       "      <th>orbit.orb_id</th>\n",
       "      <th>orbit.nbr_sat_pl</th>\n",
       "      <th>...</th>\n",
       "      <th>TPA1.2055.475-2055.725_R</th>\n",
       "      <th>TPA1.401.89525-401.90475_R</th>\n",
       "      <th>TPA1.2237.0-2238.0_E</th>\n",
       "      <th>TPA1.2065.575-2065.825_R</th>\n",
       "      <th>TPA1.401.9501-401.9699_E</th>\n",
       "      <th>TPA1.401.8901-401.9099_R</th>\n",
       "      <th>TPA1.401.95525-401.96475_E</th>\n",
       "      <th>TPA1.401.8901-401.9099_E</th>\n",
       "      <th>TPA1.401.89525-401.90475_E</th>\n",
       "      <th>TPA1.2202.4-2203.4_E</th>\n",
       "    </tr>\n",
       "  </thead>\n",
       "  <tbody>\n",
       "  </tbody>\n",
       "</table>\n",
       "<p>0 rows × 46 columns</p>\n",
       "</div>"
      ]
     },
     "metadata": {},
     "output_type": "display_data"
    },
    {
     "name": "stdout",
     "output_type": "stream",
     "text": [
      "Index(['com_el.ntc_id', ' com_el.tgt_ntc_id', ' com_el.adm',\n",
      "       ' com_el.ntwk_org', ' com_el.sat_name', ' com_el.prov', ' com_el.d_rcv',\n",
      "       ' com_el.st_cur', ' orbit.orb_id', ' orbit.nbr_sat_pl',\n",
      "       ' orbit.inclin_ang', ' orbit.apog_km', ' orbit.perig_km',\n",
      "       ' orbit.op_ht_km', ' s_beam.emi_rcp', ' s_beam.beam_name',\n",
      "       ' grp.grp_id', ' grp.freq_min', ' grp.freq_max', ' grp.bdwdth',\n",
      "       ' grp.d_rcv', ' grp.d_inuse', ' grp.d_reg_limit', ' grp.d_prot_eff',\n",
      "       ' grp.f_biu', ' emiss.seq_no', ' emiss.pwr_ds_max', ' emiss.design_emi',\n",
      "       ' carrier_fr.freq_carr', ' channel.bandwidth', ' channel.freq_min',\n",
      "       ' channel.freq_max', 'tpaconflicts', 'percentoverlap',\n",
      "       'TPA1.401.95525-401.96475_R', 'TPA1.401.9501-401.9699_R',\n",
      "       'TPA1.2055.475-2055.725_R', 'TPA1.401.89525-401.90475_R',\n",
      "       'TPA1.2237.0-2238.0_E', 'TPA1.2065.575-2065.825_R',\n",
      "       'TPA1.401.9501-401.9699_E', 'TPA1.401.8901-401.9099_R',\n",
      "       'TPA1.401.95525-401.96475_E', 'TPA1.401.8901-401.9099_E',\n",
      "       'TPA1.401.89525-401.90475_E', 'TPA1.2202.4-2203.4_E'],\n",
      "      dtype='object')\n"
     ]
    }
   ],
   "execution_count": 2
  },
  {
   "cell_type": "code",
   "id": "2a57179d6b63c62a",
   "metadata": {
    "ExecuteTime": {
     "end_time": "2025-05-19T00:39:51.008197Z",
     "start_time": "2025-05-19T00:39:50.992688Z"
    }
   },
   "source": [
    "# funcition to extract the table\n",
    "# Initialize pandarallel\n",
    "num_logical_processors = os.cpu_count()\n",
    "pandarallel.initialize(nb_workers=num_logical_processors, progress_bar=True)\n",
    "\n",
    "\n",
    "def summary_table(df):\n",
    "    # columns to keep\n",
    "    cols = [\n",
    "        ' com_el.sat_name',\n",
    "        ' s_beam.beam_name',\n",
    "        ' carrier_fr.freq_carr',\n",
    "        ' channel.bandwidth',\n",
    "        'tpaconflicts',\n",
    "        'percentoverlap'\n",
    "    ]\n",
    "    lookupnames = [\n",
    "        'UHFUP fc=401.96MHz BW=9.5kHz',\n",
    "        'UHFUP fc=401.96MHz BW=19.8kHz',\n",
    "        'SUP fc=2055.6MHz BW=250kHz',\n",
    "        'UHFUP fc=401.90MHz BW=9.5kHz',\n",
    "        'SDN fc=2237.5MHz BW=1MHz',\n",
    "        'SUP fc=2065.7MHz BW=250kHz',\n",
    "        'UHFDN fc=401.96MHz BW=19.8kHz',\n",
    "        'UHFUP fc=401.90MHz BW=19.8kHz',\n",
    "        'UHFDN fc=401.96MHz BW=9.5kHz',\n",
    "        'UHFDN fc=401.90MHz BW=19.8kHz',\n",
    "        'UHFDN fc=401.90MHz BW=9.5kHz',\n",
    "        'SDN fc=2202.9MHz BW=1MHz'\n",
    "    ]\n",
    "    # get the columns\n",
    "    df1 = df[cols].copy()\n",
    "    if df1.empty:\n",
    "        print(\"❗ DataFrame is empty\")\n",
    "        return pd.DataFrame(columns=[\n",
    "            'Sat Name', 'Beam Name', 'Carrier Freq. (fc MHz)', 'Bandwidth (MHz)', 'Overlaps'\n",
    "        ])\n",
    "    # add a literal column \n",
    "    df1.loc[:, 'Overlaps'] = None\n",
    "\n",
    "    def functiontoapply(row):\n",
    "        con = str(row['tpaconflicts']).split(':')\n",
    "        confidx = [] \n",
    "        for c in con[:-1]:\n",
    "            confidx.append(int(c))\n",
    "        perc = str(row['percentoverlap']).split(':')\n",
    "        overlap = []\n",
    "        for i in range(len(confidx)):\n",
    "            over = str(lookupnames[confidx[i]]) + ' ' + str(perc[i]) + '% overlap'\n",
    "            overlap.append(over)\n",
    "        row['Overlaps'] = ' : '.join(overlap)\n",
    "        if row['Overlaps'] == '':\n",
    "            row['Overlaps'] = 'No Conflicts Found'\n",
    "        return row\n",
    "\n",
    "    # apply in parallel to all rows\n",
    "    if len(df1) > 24:\n",
    "        df1 = df1.parallel_apply(functiontoapply, axis=1)\n",
    "    else:\n",
    "        df1 = df1.apply(functiontoapply, axis=1)\n",
    "    # divide the bandwidth column by 1e6\n",
    "    df1[' channel.bandwidth'] = df1[' channel.bandwidth'].apply(lambda x: float(x) / 1e6)\n",
    "\n",
    "    \n",
    "    # drop columns \n",
    "    df1 = df1.drop(['tpaconflicts', 'percentoverlap'], axis=1)\n",
    "    # rename columns\n",
    "    df1 = df1.rename(columns={\n",
    "        ' com_el.sat_name': 'Sat Name',\n",
    "        ' s_beam.beam_name': 'Beam Name',\n",
    "        ' carrier_fr.freq_carr': 'Carrier Freq. (fc MHz)',\n",
    "        ' channel.bandwidth': 'Bandwidth (MHz)', })  # this is calculated from the emission designator code e.g. 19k8XXX\n",
    "    # drop duplicates\n",
    "    df1 = df1.drop_duplicates()\n",
    "    return df1\n",
    "\n"
   ],
   "outputs": [
    {
     "name": "stdout",
     "output_type": "stream",
     "text": [
      "INFO: Pandarallel will run on 16 workers.\n",
      "INFO: Pandarallel will use standard multiprocessing data transfer (pipe) to transfer data between the main process and workers.\n",
      "\n",
      "WARNING: You are on Windows. If you detect any issue with pandarallel, be sure you checked out the Troubleshooting page:\n",
      "https://nalepae.github.io/pandarallel/troubleshooting/\n"
     ]
    }
   ],
   "execution_count": 3
  },
  {
   "cell_type": "code",
   "id": "85cd5dc120ce4b66",
   "metadata": {
    "ExecuteTime": {
     "end_time": "2025-05-19T00:39:51.024256Z",
     "start_time": "2025-05-19T00:39:51.008197Z"
    }
   },
   "source": [],
   "outputs": [],
   "execution_count": 3
  },
  {
   "cell_type": "code",
   "id": "943f0a261caf22dc",
   "metadata": {
    "ExecuteTime": {
     "end_time": "2025-05-19T00:39:51.040402Z",
     "start_time": "2025-05-19T00:39:51.024761Z"
    }
   },
   "source": [
    "# apply to dataframe\n",
    "table = summary_table(df)\n",
    "\n",
    "# export \n",
    "outpath = os.path.join('.', 'adm_conflicts', adm, 'conflicts_summary.csv')\n",
    "table.to_csv(outpath, index=False)\n",
    "print('File saved to ', outpath)"
   ],
   "outputs": [
    {
     "name": "stdout",
     "output_type": "stream",
     "text": [
      "❗ DataFrame is empty\n",
      "File saved to  .\\adm_conflicts\\ARG\\conflicts_summary.csv\n"
     ]
    }
   ],
   "execution_count": 4
  },
  {
   "cell_type": "code",
   "id": "64a5543fc3790d02",
   "metadata": {
    "ExecuteTime": {
     "end_time": "2025-05-19T00:41:49.600339Z",
     "start_time": "2025-05-19T00:39:51.041919Z"
    }
   },
   "source": [
    "# iterate for every administration \n",
    "# === CONFIG ===\n",
    "tpafile = './databases/TPAtable.csv'\n",
    "tablesfolder = 'countriestables'\n",
    "outfolder = 'adm_conflicts'\n",
    "countrieslistfile = 'countrieslist.csv'\n",
    "# Load country codes\n",
    "with open(countrieslistfile, 'r') as f:\n",
    "    countries = f.read().strip().split(', ')\n",
    "# # todo comment this\n",
    "# countries =['ARG']\n",
    "# === PROCESS EACH COUNTRY ===\n",
    "for ccode in countries:\n",
    "    print(f\"\\n=== Processing {ccode} ===\")\n",
    "    # outfolder (must already exist)\n",
    "    country_outfolder = os.path.join(outfolder, ccode)\n",
    "    adm = ccode\n",
    "    file = 'expanded_combined_tables_conflicts_lettersatnames.csv'\n",
    "    filepath = os.path.join('.', 'adm_conflicts', adm, file)\n",
    "    df = pd.read_csv(filepath, low_memory=False)\n",
    "    # display(df.head())\n",
    "    # print(df.columns)\n",
    "    # execute \n",
    "    table = summary_table(df)\n",
    "        # export \n",
    "    outpath = os.path.join('.', 'adm_conflicts', adm, 'conflicts_summary.csv')\n",
    "    table.to_csv(outpath, index=False)\n",
    "    print('File saved to ', outpath)\n",
    "    \n",
    "    # do the same for the non filtered satellite names\n",
    "    file = 'expanded_combined_tables_conflicts_othersatnames.csv'\n",
    "    filepath = os.path.join('.', 'adm_conflicts', adm, file)\n",
    "    df = pd.read_csv(filepath, low_memory=False)\n",
    "    # display(df.head())\n",
    "    # print(df.columns)\n",
    "    # execute \n",
    "    table = summary_table(df)\n",
    "        # export \n",
    "    outpath = os.path.join('.', 'adm_conflicts', adm, 'conflicts_summary_othersatnames.csv')\n",
    "    table.to_csv(outpath, index=False)\n",
    "    print('File saved to ', outpath)\n"
   ],
   "outputs": [
    {
     "name": "stdout",
     "output_type": "stream",
     "text": [
      "\n",
      "=== Processing AFS ===\n",
      "File saved to  .\\adm_conflicts\\AFS\\conflicts_summary.csv\n",
      "File saved to  .\\adm_conflicts\\AFS\\conflicts_summary_othersatnames.csv\n",
      "\n",
      "=== Processing ARG ===\n",
      "❗ DataFrame is empty\n",
      "File saved to  .\\adm_conflicts\\ARG\\conflicts_summary.csv\n"
     ]
    },
    {
     "data": {
      "text/plain": [
       "VBox(children=(HBox(children=(IntProgress(value=0, description='0.00%', max=5), Label(value='0 / 5'))), HBox(c…"
      ],
      "application/vnd.jupyter.widget-view+json": {
       "version_major": 2,
       "version_minor": 0,
       "model_id": "8b319a02f5e14ceaa436280b53e9e180"
      }
     },
     "metadata": {},
     "output_type": "display_data"
    },
    {
     "name": "stdout",
     "output_type": "stream",
     "text": [
      "File saved to  .\\adm_conflicts\\ARG\\conflicts_summary_othersatnames.csv\n",
      "\n",
      "=== Processing ARS ===\n"
     ]
    },
    {
     "data": {
      "text/plain": [
       "VBox(children=(HBox(children=(IntProgress(value=0, description='0.00%', max=721), Label(value='0 / 721'))), HB…"
      ],
      "application/vnd.jupyter.widget-view+json": {
       "version_major": 2,
       "version_minor": 0,
       "model_id": "cd4d60d57f6e4547a8910f1541147d15"
      }
     },
     "metadata": {},
     "output_type": "display_data"
    },
    {
     "name": "stdout",
     "output_type": "stream",
     "text": [
      "File saved to  .\\adm_conflicts\\ARS\\conflicts_summary.csv\n"
     ]
    },
    {
     "data": {
      "text/plain": [
       "VBox(children=(HBox(children=(IntProgress(value=0, description='0.00%', max=3), Label(value='0 / 3'))), HBox(c…"
      ],
      "application/vnd.jupyter.widget-view+json": {
       "version_major": 2,
       "version_minor": 0,
       "model_id": "f55da3c78a2849eca6ecdcf7b47ce1b3"
      }
     },
     "metadata": {},
     "output_type": "display_data"
    },
    {
     "name": "stdout",
     "output_type": "stream",
     "text": [
      "File saved to  .\\adm_conflicts\\ARS\\conflicts_summary_othersatnames.csv\n",
      "\n",
      "=== Processing AUS ===\n"
     ]
    },
    {
     "data": {
      "text/plain": [
       "VBox(children=(HBox(children=(IntProgress(value=0, description='0.00%', max=21881), Label(value='0 / 21881')))…"
      ],
      "application/vnd.jupyter.widget-view+json": {
       "version_major": 2,
       "version_minor": 0,
       "model_id": "8158fd21c9a44b709848244cd4e37c61"
      }
     },
     "metadata": {},
     "output_type": "display_data"
    },
    {
     "name": "stdout",
     "output_type": "stream",
     "text": [
      "File saved to  .\\adm_conflicts\\AUS\\conflicts_summary.csv\n"
     ]
    },
    {
     "data": {
      "text/plain": [
       "VBox(children=(HBox(children=(IntProgress(value=0, description='0.00%', max=2), Label(value='0 / 2'))), HBox(c…"
      ],
      "application/vnd.jupyter.widget-view+json": {
       "version_major": 2,
       "version_minor": 0,
       "model_id": "54e2c90ea73f404d9459a3633158bf0b"
      }
     },
     "metadata": {},
     "output_type": "display_data"
    },
    {
     "name": "stdout",
     "output_type": "stream",
     "text": [
      "File saved to  .\\adm_conflicts\\AUS\\conflicts_summary_othersatnames.csv\n",
      "\n",
      "=== Processing CAN ===\n"
     ]
    },
    {
     "data": {
      "text/plain": [
       "VBox(children=(HBox(children=(IntProgress(value=0, description='0.00%', max=34), Label(value='0 / 34'))), HBox…"
      ],
      "application/vnd.jupyter.widget-view+json": {
       "version_major": 2,
       "version_minor": 0,
       "model_id": "573abe8606054d70b73d7233c8186dea"
      }
     },
     "metadata": {},
     "output_type": "display_data"
    },
    {
     "name": "stdout",
     "output_type": "stream",
     "text": [
      "File saved to  .\\adm_conflicts\\CAN\\conflicts_summary.csv\n"
     ]
    },
    {
     "data": {
      "text/plain": [
       "VBox(children=(HBox(children=(IntProgress(value=0, description='0.00%', max=7), Label(value='0 / 7'))), HBox(c…"
      ],
      "application/vnd.jupyter.widget-view+json": {
       "version_major": 2,
       "version_minor": 0,
       "model_id": "fa791cd88d274acf9f5ad6c412acbc6a"
      }
     },
     "metadata": {},
     "output_type": "display_data"
    },
    {
     "name": "stdout",
     "output_type": "stream",
     "text": [
      "File saved to  .\\adm_conflicts\\CAN\\conflicts_summary_othersatnames.csv\n",
      "\n",
      "=== Processing CHN ===\n"
     ]
    },
    {
     "data": {
      "text/plain": [
       "VBox(children=(HBox(children=(IntProgress(value=0, description='0.00%', max=20084), Label(value='0 / 20084')))…"
      ],
      "application/vnd.jupyter.widget-view+json": {
       "version_major": 2,
       "version_minor": 0,
       "model_id": "f714883af65b4cb9ba8fe08b8d719394"
      }
     },
     "metadata": {},
     "output_type": "display_data"
    },
    {
     "name": "stdout",
     "output_type": "stream",
     "text": [
      "File saved to  .\\adm_conflicts\\CHN\\conflicts_summary.csv\n"
     ]
    },
    {
     "data": {
      "text/plain": [
       "VBox(children=(HBox(children=(IntProgress(value=0, description='0.00%', max=25942), Label(value='0 / 25942')))…"
      ],
      "application/vnd.jupyter.widget-view+json": {
       "version_major": 2,
       "version_minor": 0,
       "model_id": "438c94dcce054ee5be5cabe40d0fc1a9"
      }
     },
     "metadata": {},
     "output_type": "display_data"
    },
    {
     "name": "stdout",
     "output_type": "stream",
     "text": [
      "File saved to  .\\adm_conflicts\\CHN\\conflicts_summary_othersatnames.csv\n",
      "\n",
      "=== Processing D ===\n"
     ]
    },
    {
     "data": {
      "text/plain": [
       "VBox(children=(HBox(children=(IntProgress(value=0, description='0.00%', max=42632), Label(value='0 / 42632')))…"
      ],
      "application/vnd.jupyter.widget-view+json": {
       "version_major": 2,
       "version_minor": 0,
       "model_id": "8ca0e3ddd9ed43c18f02910d261a6d2b"
      }
     },
     "metadata": {},
     "output_type": "display_data"
    },
    {
     "name": "stdout",
     "output_type": "stream",
     "text": [
      "File saved to  .\\adm_conflicts\\D\\conflicts_summary.csv\n"
     ]
    },
    {
     "data": {
      "text/plain": [
       "VBox(children=(HBox(children=(IntProgress(value=0, description='0.00%', max=210), Label(value='0 / 210'))), HB…"
      ],
      "application/vnd.jupyter.widget-view+json": {
       "version_major": 2,
       "version_minor": 0,
       "model_id": "b15ef04b790f4e9881a61cd2605c9357"
      }
     },
     "metadata": {},
     "output_type": "display_data"
    },
    {
     "name": "stdout",
     "output_type": "stream",
     "text": [
      "File saved to  .\\adm_conflicts\\D\\conflicts_summary_othersatnames.csv\n",
      "\n",
      "=== Processing E ===\n"
     ]
    },
    {
     "data": {
      "text/plain": [
       "VBox(children=(HBox(children=(IntProgress(value=0, description='0.00%', max=35), Label(value='0 / 35'))), HBox…"
      ],
      "application/vnd.jupyter.widget-view+json": {
       "version_major": 2,
       "version_minor": 0,
       "model_id": "38010670c3984de2ac5fd853a8aea547"
      }
     },
     "metadata": {},
     "output_type": "display_data"
    },
    {
     "name": "stdout",
     "output_type": "stream",
     "text": [
      "File saved to  .\\adm_conflicts\\E\\conflicts_summary.csv\n"
     ]
    },
    {
     "data": {
      "text/plain": [
       "VBox(children=(HBox(children=(IntProgress(value=0, description='0.00%', max=377), Label(value='0 / 377'))), HB…"
      ],
      "application/vnd.jupyter.widget-view+json": {
       "version_major": 2,
       "version_minor": 0,
       "model_id": "92305be88e2e4c23a9ded2619075c8a5"
      }
     },
     "metadata": {},
     "output_type": "display_data"
    },
    {
     "name": "stdout",
     "output_type": "stream",
     "text": [
      "File saved to  .\\adm_conflicts\\E\\conflicts_summary_othersatnames.csv\n",
      "\n",
      "=== Processing EGY ===\n",
      "❗ DataFrame is empty\n",
      "File saved to  .\\adm_conflicts\\EGY\\conflicts_summary.csv\n"
     ]
    },
    {
     "data": {
      "text/plain": [
       "VBox(children=(HBox(children=(IntProgress(value=0, description='0.00%', max=3), Label(value='0 / 3'))), HBox(c…"
      ],
      "application/vnd.jupyter.widget-view+json": {
       "version_major": 2,
       "version_minor": 0,
       "model_id": "c3d51429577b42bbb48f2e003366e5ca"
      }
     },
     "metadata": {},
     "output_type": "display_data"
    },
    {
     "name": "stdout",
     "output_type": "stream",
     "text": [
      "File saved to  .\\adm_conflicts\\EGY\\conflicts_summary_othersatnames.csv\n",
      "\n",
      "=== Processing F ===\n"
     ]
    },
    {
     "data": {
      "text/plain": [
       "VBox(children=(HBox(children=(IntProgress(value=0, description='0.00%', max=45), Label(value='0 / 45'))), HBox…"
      ],
      "application/vnd.jupyter.widget-view+json": {
       "version_major": 2,
       "version_minor": 0,
       "model_id": "ba8e4fde7ae6460abbc73930a4e98f98"
      }
     },
     "metadata": {},
     "output_type": "display_data"
    },
    {
     "name": "stdout",
     "output_type": "stream",
     "text": [
      "File saved to  .\\adm_conflicts\\F\\conflicts_summary.csv\n"
     ]
    },
    {
     "data": {
      "text/plain": [
       "VBox(children=(HBox(children=(IntProgress(value=0, description='0.00%', max=6), Label(value='0 / 6'))), HBox(c…"
      ],
      "application/vnd.jupyter.widget-view+json": {
       "version_major": 2,
       "version_minor": 0,
       "model_id": "20b65fe8ca31468493b20880efb1567b"
      }
     },
     "metadata": {},
     "output_type": "display_data"
    },
    {
     "name": "stdout",
     "output_type": "stream",
     "text": [
      "File saved to  .\\adm_conflicts\\F\\conflicts_summary_othersatnames.csv\n",
      "\n",
      "=== Processing G ===\n"
     ]
    },
    {
     "data": {
      "text/plain": [
       "VBox(children=(HBox(children=(IntProgress(value=0, description='0.00%', max=10488), Label(value='0 / 10488')))…"
      ],
      "application/vnd.jupyter.widget-view+json": {
       "version_major": 2,
       "version_minor": 0,
       "model_id": "5e59a05af79c42d3a431a81dae17080c"
      }
     },
     "metadata": {},
     "output_type": "display_data"
    },
    {
     "name": "stdout",
     "output_type": "stream",
     "text": [
      "File saved to  .\\adm_conflicts\\G\\conflicts_summary.csv\n"
     ]
    },
    {
     "data": {
      "text/plain": [
       "VBox(children=(HBox(children=(IntProgress(value=0, description='0.00%', max=29), Label(value='0 / 29'))), HBox…"
      ],
      "application/vnd.jupyter.widget-view+json": {
       "version_major": 2,
       "version_minor": 0,
       "model_id": "d480652425754439b526e8c6c276eb64"
      }
     },
     "metadata": {},
     "output_type": "display_data"
    },
    {
     "name": "stdout",
     "output_type": "stream",
     "text": [
      "File saved to  .\\adm_conflicts\\G\\conflicts_summary_othersatnames.csv\n",
      "\n",
      "=== Processing GRC ===\n",
      "File saved to  .\\adm_conflicts\\GRC\\conflicts_summary.csv\n",
      "File saved to  .\\adm_conflicts\\GRC\\conflicts_summary_othersatnames.csv\n",
      "\n",
      "=== Processing HOL ===\n",
      "❗ DataFrame is empty\n",
      "File saved to  .\\adm_conflicts\\HOL\\conflicts_summary.csv\n",
      "File saved to  .\\adm_conflicts\\HOL\\conflicts_summary_othersatnames.csv\n",
      "\n",
      "=== Processing I ===\n"
     ]
    },
    {
     "data": {
      "text/plain": [
       "VBox(children=(HBox(children=(IntProgress(value=0, description='0.00%', max=113), Label(value='0 / 113'))), HB…"
      ],
      "application/vnd.jupyter.widget-view+json": {
       "version_major": 2,
       "version_minor": 0,
       "model_id": "02e2e5ad8b2f45d49acf172f9cf0918d"
      }
     },
     "metadata": {},
     "output_type": "display_data"
    },
    {
     "name": "stdout",
     "output_type": "stream",
     "text": [
      "File saved to  .\\adm_conflicts\\I\\conflicts_summary.csv\n"
     ]
    },
    {
     "data": {
      "text/plain": [
       "VBox(children=(HBox(children=(IntProgress(value=0, description='0.00%', max=181), Label(value='0 / 181'))), HB…"
      ],
      "application/vnd.jupyter.widget-view+json": {
       "version_major": 2,
       "version_minor": 0,
       "model_id": "c236533ef83d4cb78a2698ab36ff1bec"
      }
     },
     "metadata": {},
     "output_type": "display_data"
    },
    {
     "name": "stdout",
     "output_type": "stream",
     "text": [
      "File saved to  .\\adm_conflicts\\I\\conflicts_summary_othersatnames.csv\n",
      "\n",
      "=== Processing IRN ===\n"
     ]
    },
    {
     "data": {
      "text/plain": [
       "VBox(children=(HBox(children=(IntProgress(value=0, description='0.00%', max=3), Label(value='0 / 3'))), HBox(c…"
      ],
      "application/vnd.jupyter.widget-view+json": {
       "version_major": 2,
       "version_minor": 0,
       "model_id": "3a60345b046d46b6a1e101c585d4e7fe"
      }
     },
     "metadata": {},
     "output_type": "display_data"
    },
    {
     "name": "stdout",
     "output_type": "stream",
     "text": [
      "File saved to  .\\adm_conflicts\\IRN\\conflicts_summary.csv\n",
      "❗ DataFrame is empty\n",
      "File saved to  .\\adm_conflicts\\IRN\\conflicts_summary_othersatnames.csv\n",
      "\n",
      "=== Processing ISR ===\n"
     ]
    },
    {
     "data": {
      "text/plain": [
       "VBox(children=(HBox(children=(IntProgress(value=0, description='0.00%', max=18), Label(value='0 / 18'))), HBox…"
      ],
      "application/vnd.jupyter.widget-view+json": {
       "version_major": 2,
       "version_minor": 0,
       "model_id": "6713b8796bd34db2aa5f45ac70cf9df3"
      }
     },
     "metadata": {},
     "output_type": "display_data"
    },
    {
     "name": "stdout",
     "output_type": "stream",
     "text": [
      "File saved to  .\\adm_conflicts\\ISR\\conflicts_summary.csv\n"
     ]
    },
    {
     "data": {
      "text/plain": [
       "VBox(children=(HBox(children=(IntProgress(value=0, description='0.00%', max=4), Label(value='0 / 4'))), HBox(c…"
      ],
      "application/vnd.jupyter.widget-view+json": {
       "version_major": 2,
       "version_minor": 0,
       "model_id": "92cffad7aa964539a487037e15a02866"
      }
     },
     "metadata": {},
     "output_type": "display_data"
    },
    {
     "name": "stdout",
     "output_type": "stream",
     "text": [
      "File saved to  .\\adm_conflicts\\ISR\\conflicts_summary_othersatnames.csv\n",
      "\n",
      "=== Processing J ===\n"
     ]
    },
    {
     "data": {
      "text/plain": [
       "VBox(children=(HBox(children=(IntProgress(value=0, description='0.00%', max=34), Label(value='0 / 34'))), HBox…"
      ],
      "application/vnd.jupyter.widget-view+json": {
       "version_major": 2,
       "version_minor": 0,
       "model_id": "866fceb20e944dfca6cf38d0f89665f7"
      }
     },
     "metadata": {},
     "output_type": "display_data"
    },
    {
     "name": "stdout",
     "output_type": "stream",
     "text": [
      "File saved to  .\\adm_conflicts\\J\\conflicts_summary.csv\n"
     ]
    },
    {
     "data": {
      "text/plain": [
       "VBox(children=(HBox(children=(IntProgress(value=0, description='0.00%', max=32), Label(value='0 / 32'))), HBox…"
      ],
      "application/vnd.jupyter.widget-view+json": {
       "version_major": 2,
       "version_minor": 0,
       "model_id": "801e458ab71e41ab86144092fcda904e"
      }
     },
     "metadata": {},
     "output_type": "display_data"
    },
    {
     "name": "stdout",
     "output_type": "stream",
     "text": [
      "File saved to  .\\adm_conflicts\\J\\conflicts_summary_othersatnames.csv\n",
      "\n",
      "=== Processing KAZ ===\n",
      "File saved to  .\\adm_conflicts\\KAZ\\conflicts_summary.csv\n",
      "❗ DataFrame is empty\n",
      "File saved to  .\\adm_conflicts\\KAZ\\conflicts_summary_othersatnames.csv\n",
      "\n",
      "=== Processing KOR ===\n"
     ]
    },
    {
     "data": {
      "text/plain": [
       "VBox(children=(HBox(children=(IntProgress(value=0, description='0.00%', max=175), Label(value='0 / 175'))), HB…"
      ],
      "application/vnd.jupyter.widget-view+json": {
       "version_major": 2,
       "version_minor": 0,
       "model_id": "d18b7981303b44a5b14cbae65d78181b"
      }
     },
     "metadata": {},
     "output_type": "display_data"
    },
    {
     "name": "stdout",
     "output_type": "stream",
     "text": [
      "File saved to  .\\adm_conflicts\\KOR\\conflicts_summary.csv\n"
     ]
    },
    {
     "data": {
      "text/plain": [
       "VBox(children=(HBox(children=(IntProgress(value=0, description='0.00%', max=181), Label(value='0 / 181'))), HB…"
      ],
      "application/vnd.jupyter.widget-view+json": {
       "version_major": 2,
       "version_minor": 0,
       "model_id": "8b0544edb49747698c87b3494aa6114a"
      }
     },
     "metadata": {},
     "output_type": "display_data"
    },
    {
     "name": "stdout",
     "output_type": "stream",
     "text": [
      "File saved to  .\\adm_conflicts\\KOR\\conflicts_summary_othersatnames.csv\n",
      "\n",
      "=== Processing LUX ===\n"
     ]
    },
    {
     "data": {
      "text/plain": [
       "VBox(children=(HBox(children=(IntProgress(value=0, description='0.00%', max=584), Label(value='0 / 584'))), HB…"
      ],
      "application/vnd.jupyter.widget-view+json": {
       "version_major": 2,
       "version_minor": 0,
       "model_id": "3dd35160eeb54e388ce5bf8889ceb3a2"
      }
     },
     "metadata": {},
     "output_type": "display_data"
    },
    {
     "name": "stdout",
     "output_type": "stream",
     "text": [
      "File saved to  .\\adm_conflicts\\LUX\\conflicts_summary.csv\n"
     ]
    },
    {
     "data": {
      "text/plain": [
       "VBox(children=(HBox(children=(IntProgress(value=0, description='0.00%', max=89), Label(value='0 / 89'))), HBox…"
      ],
      "application/vnd.jupyter.widget-view+json": {
       "version_major": 2,
       "version_minor": 0,
       "model_id": "6674c69dbac24aad9952f33d78311fe1"
      }
     },
     "metadata": {},
     "output_type": "display_data"
    },
    {
     "name": "stdout",
     "output_type": "stream",
     "text": [
      "File saved to  .\\adm_conflicts\\LUX\\conflicts_summary_othersatnames.csv\n",
      "\n",
      "=== Processing MLA ===\n",
      "❗ DataFrame is empty\n",
      "File saved to  .\\adm_conflicts\\MLA\\conflicts_summary.csv\n"
     ]
    },
    {
     "data": {
      "text/plain": [
       "VBox(children=(HBox(children=(IntProgress(value=0, description='0.00%', max=2), Label(value='0 / 2'))), HBox(c…"
      ],
      "application/vnd.jupyter.widget-view+json": {
       "version_major": 2,
       "version_minor": 0,
       "model_id": "bebdb56d8ccd446fb4916e050cdc7800"
      }
     },
     "metadata": {},
     "output_type": "display_data"
    },
    {
     "name": "stdout",
     "output_type": "stream",
     "text": [
      "File saved to  .\\adm_conflicts\\MLA\\conflicts_summary_othersatnames.csv\n",
      "\n",
      "=== Processing MRC ===\n",
      "File saved to  .\\adm_conflicts\\MRC\\conflicts_summary.csv\n",
      "File saved to  .\\adm_conflicts\\MRC\\conflicts_summary_othersatnames.csv\n",
      "\n",
      "=== Processing NOR ===\n",
      "File saved to  .\\adm_conflicts\\NOR\\conflicts_summary.csv\n"
     ]
    },
    {
     "data": {
      "text/plain": [
       "VBox(children=(HBox(children=(IntProgress(value=0, description='0.00%', max=25), Label(value='0 / 25'))), HBox…"
      ],
      "application/vnd.jupyter.widget-view+json": {
       "version_major": 2,
       "version_minor": 0,
       "model_id": "29ec3e8e5dd64a3cb0ba51b35647cf49"
      }
     },
     "metadata": {},
     "output_type": "display_data"
    },
    {
     "name": "stdout",
     "output_type": "stream",
     "text": [
      "File saved to  .\\adm_conflicts\\NOR\\conflicts_summary_othersatnames.csv\n",
      "\n",
      "=== Processing PAK ===\n"
     ]
    },
    {
     "data": {
      "text/plain": [
       "VBox(children=(HBox(children=(IntProgress(value=0, description='0.00%', max=66), Label(value='0 / 66'))), HBox…"
      ],
      "application/vnd.jupyter.widget-view+json": {
       "version_major": 2,
       "version_minor": 0,
       "model_id": "417c487c535349c4827751aec780e54c"
      }
     },
     "metadata": {},
     "output_type": "display_data"
    },
    {
     "name": "stdout",
     "output_type": "stream",
     "text": [
      "File saved to  .\\adm_conflicts\\PAK\\conflicts_summary.csv\n"
     ]
    },
    {
     "data": {
      "text/plain": [
       "VBox(children=(HBox(children=(IntProgress(value=0, description='0.00%', max=9), Label(value='0 / 9'))), HBox(c…"
      ],
      "application/vnd.jupyter.widget-view+json": {
       "version_major": 2,
       "version_minor": 0,
       "model_id": "dde9a8fedeea4baa8dfe68875dbd696b"
      }
     },
     "metadata": {},
     "output_type": "display_data"
    },
    {
     "name": "stdout",
     "output_type": "stream",
     "text": [
      "File saved to  .\\adm_conflicts\\PAK\\conflicts_summary_othersatnames.csv\n",
      "\n",
      "=== Processing PNG ===\n",
      "❗ DataFrame is empty\n",
      "File saved to  .\\adm_conflicts\\PNG\\conflicts_summary.csv\n"
     ]
    },
    {
     "data": {
      "text/plain": [
       "VBox(children=(HBox(children=(IntProgress(value=0, description='0.00%', max=569), Label(value='0 / 569'))), HB…"
      ],
      "application/vnd.jupyter.widget-view+json": {
       "version_major": 2,
       "version_minor": 0,
       "model_id": "31d87e651d2143a69d4c04a748be1f08"
      }
     },
     "metadata": {},
     "output_type": "display_data"
    },
    {
     "name": "stdout",
     "output_type": "stream",
     "text": [
      "File saved to  .\\adm_conflicts\\PNG\\conflicts_summary_othersatnames.csv\n",
      "\n",
      "=== Processing POR ===\n",
      "File saved to  .\\adm_conflicts\\POR\\conflicts_summary.csv\n",
      "File saved to  .\\adm_conflicts\\POR\\conflicts_summary_othersatnames.csv\n",
      "\n",
      "=== Processing RUS ===\n"
     ]
    },
    {
     "data": {
      "text/plain": [
       "VBox(children=(HBox(children=(IntProgress(value=0, description='0.00%', max=558), Label(value='0 / 558'))), HB…"
      ],
      "application/vnd.jupyter.widget-view+json": {
       "version_major": 2,
       "version_minor": 0,
       "model_id": "c1117ab4b1c545458f3e441e6c444ed4"
      }
     },
     "metadata": {},
     "output_type": "display_data"
    },
    {
     "name": "stdout",
     "output_type": "stream",
     "text": [
      "File saved to  .\\adm_conflicts\\RUS\\conflicts_summary.csv\n",
      "❗ DataFrame is empty\n",
      "File saved to  .\\adm_conflicts\\RUS\\conflicts_summary_othersatnames.csv\n",
      "\n",
      "=== Processing SLM ===\n",
      "❗ DataFrame is empty\n",
      "File saved to  .\\adm_conflicts\\SLM\\conflicts_summary.csv\n"
     ]
    },
    {
     "data": {
      "text/plain": [
       "VBox(children=(HBox(children=(IntProgress(value=0, description='0.00%', max=84), Label(value='0 / 84'))), HBox…"
      ],
      "application/vnd.jupyter.widget-view+json": {
       "version_major": 2,
       "version_minor": 0,
       "model_id": "d8c73bff57c14786bd687ea1ed4ba9ab"
      }
     },
     "metadata": {},
     "output_type": "display_data"
    },
    {
     "name": "stdout",
     "output_type": "stream",
     "text": [
      "File saved to  .\\adm_conflicts\\SLM\\conflicts_summary_othersatnames.csv\n",
      "\n",
      "=== Processing THA ===\n"
     ]
    },
    {
     "data": {
      "text/plain": [
       "VBox(children=(HBox(children=(IntProgress(value=0, description='0.00%', max=55), Label(value='0 / 55'))), HBox…"
      ],
      "application/vnd.jupyter.widget-view+json": {
       "version_major": 2,
       "version_minor": 0,
       "model_id": "4a15776a3f5b44b2989cfe0796991f80"
      }
     },
     "metadata": {},
     "output_type": "display_data"
    },
    {
     "name": "stdout",
     "output_type": "stream",
     "text": [
      "File saved to  .\\adm_conflicts\\THA\\conflicts_summary.csv\n",
      "❗ DataFrame is empty\n",
      "File saved to  .\\adm_conflicts\\THA\\conflicts_summary_othersatnames.csv\n",
      "\n",
      "=== Processing USA ===\n",
      "❗ DataFrame is empty\n",
      "File saved to  .\\adm_conflicts\\USA\\conflicts_summary.csv\n"
     ]
    },
    {
     "data": {
      "text/plain": [
       "VBox(children=(HBox(children=(IntProgress(value=0, description='0.00%', max=2287), Label(value='0 / 2287'))), …"
      ],
      "application/vnd.jupyter.widget-view+json": {
       "version_major": 2,
       "version_minor": 0,
       "model_id": "453983a18caa4810bd0ea142637d4911"
      }
     },
     "metadata": {},
     "output_type": "display_data"
    },
    {
     "name": "stdout",
     "output_type": "stream",
     "text": [
      "File saved to  .\\adm_conflicts\\USA\\conflicts_summary_othersatnames.csv\n"
     ]
    }
   ],
   "execution_count": 5
  }
 ],
 "metadata": {
  "kernelspec": {
   "display_name": "Python 3 (ipykernel)",
   "language": "python",
   "name": "python3"
  },
  "language_info": {
   "codemirror_mode": {
    "name": "ipython",
    "version": 3
   },
   "file_extension": ".py",
   "mimetype": "text/x-python",
   "name": "python",
   "nbconvert_exporter": "python",
   "pygments_lexer": "ipython3",
   "version": "3.10.12"
  }
 },
 "nbformat": 4,
 "nbformat_minor": 5
}
