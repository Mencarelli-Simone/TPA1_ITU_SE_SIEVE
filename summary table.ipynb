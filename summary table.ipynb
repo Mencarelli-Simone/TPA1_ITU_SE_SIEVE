{
 "cells": [
  {
   "cell_type": "code",
   "execution_count": 1,
   "id": "initial_id",
   "metadata": {
    "ExecuteTime": {
     "end_time": "2025-05-07T06:24:34.889052Z",
     "start_time": "2025-05-07T06:24:33.754178Z"
    }
   },
   "outputs": [],
   "source": [
    "import pandas as pd\n",
    "import numpy as np\n",
    "import os\n",
    "import re\n",
    "import matplotlib.pyplot as plt\n",
    "from tqdm.notebook import tqdm\n",
    "from collections import defaultdict\n",
    "from IPython.display import display\n",
    "from fuzzywuzzy import fuzz, process\n",
    "from ITUtils import country_conflicts_finder  # Assuming you have this util function\n",
    "from pandarallel import pandarallel\n",
    "\n",
    "# show all columns\n",
    "pd.set_option('display.max_rows', None)"
   ]
  },
  {
   "cell_type": "code",
   "execution_count": 2,
   "id": "3a8826ffd5f60ade",
   "metadata": {
    "ExecuteTime": {
     "end_time": "2025-05-07T06:24:35.835687Z",
     "start_time": "2025-05-07T06:24:34.890879Z"
    }
   },
   "outputs": [
    {
     "data": {
      "text/html": [
       "<div>\n",
       "<style scoped>\n",
       "    .dataframe tbody tr th:only-of-type {\n",
       "        vertical-align: middle;\n",
       "    }\n",
       "\n",
       "    .dataframe tbody tr th {\n",
       "        vertical-align: top;\n",
       "    }\n",
       "\n",
       "    .dataframe thead th {\n",
       "        text-align: right;\n",
       "    }\n",
       "</style>\n",
       "<table border=\"1\" class=\"dataframe\">\n",
       "  <thead>\n",
       "    <tr style=\"text-align: right;\">\n",
       "      <th></th>\n",
       "      <th>com_el.ntc_id</th>\n",
       "      <th>com_el.tgt_ntc_id</th>\n",
       "      <th>com_el.adm</th>\n",
       "      <th>com_el.ntwk_org</th>\n",
       "      <th>com_el.sat_name</th>\n",
       "      <th>com_el.long_nom</th>\n",
       "      <th>com_el.prov</th>\n",
       "      <th>com_el.d_rcv</th>\n",
       "      <th>com_el.st_cur</th>\n",
       "      <th>orbit.orb_id</th>\n",
       "      <th>...</th>\n",
       "      <th>TPA1.2055.475-2055.725_R</th>\n",
       "      <th>TPA1.401.89525-401.90475_R</th>\n",
       "      <th>TPA1.2237.0-2238.0_E</th>\n",
       "      <th>TPA1.2065.575-2065.825_R</th>\n",
       "      <th>TPA1.401.9501-401.9699_E</th>\n",
       "      <th>TPA1.401.8901-401.9099_R</th>\n",
       "      <th>TPA1.401.95525-401.96475_E</th>\n",
       "      <th>TPA1.401.8901-401.9099_E</th>\n",
       "      <th>TPA1.401.89525-401.90475_E</th>\n",
       "      <th>TPA1.2202.4-2203.4_E</th>\n",
       "    </tr>\n",
       "  </thead>\n",
       "  <tbody>\n",
       "    <tr>\n",
       "      <th>0</th>\n",
       "      <td>118545036</td>\n",
       "      <td>NaN</td>\n",
       "      <td>G</td>\n",
       "      <td>NaN</td>\n",
       "      <td>SSG-CSL</td>\n",
       "      <td>NaN</td>\n",
       "      <td>9.1/IA</td>\n",
       "      <td>30.05.2018</td>\n",
       "      <td>50</td>\n",
       "      <td>1.0</td>\n",
       "      <td>...</td>\n",
       "      <td>NaN</td>\n",
       "      <td>NaN</td>\n",
       "      <td>NaN</td>\n",
       "      <td>NaN</td>\n",
       "      <td>NaN</td>\n",
       "      <td>NaN</td>\n",
       "      <td>NaN</td>\n",
       "      <td>NaN</td>\n",
       "      <td>NaN</td>\n",
       "      <td>NaN</td>\n",
       "    </tr>\n",
       "    <tr>\n",
       "      <th>1</th>\n",
       "      <td>118545036</td>\n",
       "      <td>NaN</td>\n",
       "      <td>G</td>\n",
       "      <td>NaN</td>\n",
       "      <td>SSG-CSL</td>\n",
       "      <td>NaN</td>\n",
       "      <td>9.1/IA</td>\n",
       "      <td>30.05.2018</td>\n",
       "      <td>50</td>\n",
       "      <td>1.0</td>\n",
       "      <td>...</td>\n",
       "      <td>NaN</td>\n",
       "      <td>NaN</td>\n",
       "      <td>NaN</td>\n",
       "      <td>NaN</td>\n",
       "      <td>NaN</td>\n",
       "      <td>NaN</td>\n",
       "      <td>NaN</td>\n",
       "      <td>NaN</td>\n",
       "      <td>NaN</td>\n",
       "      <td>NaN</td>\n",
       "    </tr>\n",
       "    <tr>\n",
       "      <th>2</th>\n",
       "      <td>118545036</td>\n",
       "      <td>NaN</td>\n",
       "      <td>G</td>\n",
       "      <td>NaN</td>\n",
       "      <td>SSG-CSL</td>\n",
       "      <td>NaN</td>\n",
       "      <td>9.1/IA</td>\n",
       "      <td>30.05.2018</td>\n",
       "      <td>50</td>\n",
       "      <td>1.0</td>\n",
       "      <td>...</td>\n",
       "      <td>NaN</td>\n",
       "      <td>NaN</td>\n",
       "      <td>NaN</td>\n",
       "      <td>NaN</td>\n",
       "      <td>NaN</td>\n",
       "      <td>NaN</td>\n",
       "      <td>NaN</td>\n",
       "      <td>NaN</td>\n",
       "      <td>NaN</td>\n",
       "      <td>NaN</td>\n",
       "    </tr>\n",
       "    <tr>\n",
       "      <th>3</th>\n",
       "      <td>118545036</td>\n",
       "      <td>NaN</td>\n",
       "      <td>G</td>\n",
       "      <td>NaN</td>\n",
       "      <td>SSG-CSL</td>\n",
       "      <td>NaN</td>\n",
       "      <td>9.1/IA</td>\n",
       "      <td>30.05.2018</td>\n",
       "      <td>50</td>\n",
       "      <td>1.0</td>\n",
       "      <td>...</td>\n",
       "      <td>NaN</td>\n",
       "      <td>NaN</td>\n",
       "      <td>NaN</td>\n",
       "      <td>NaN</td>\n",
       "      <td>NaN</td>\n",
       "      <td>NaN</td>\n",
       "      <td>NaN</td>\n",
       "      <td>NaN</td>\n",
       "      <td>NaN</td>\n",
       "      <td>NaN</td>\n",
       "    </tr>\n",
       "    <tr>\n",
       "      <th>4</th>\n",
       "      <td>118545036</td>\n",
       "      <td>NaN</td>\n",
       "      <td>G</td>\n",
       "      <td>NaN</td>\n",
       "      <td>SSG-CSL</td>\n",
       "      <td>NaN</td>\n",
       "      <td>9.1/IA</td>\n",
       "      <td>30.05.2018</td>\n",
       "      <td>50</td>\n",
       "      <td>2.0</td>\n",
       "      <td>...</td>\n",
       "      <td>NaN</td>\n",
       "      <td>NaN</td>\n",
       "      <td>NaN</td>\n",
       "      <td>NaN</td>\n",
       "      <td>NaN</td>\n",
       "      <td>NaN</td>\n",
       "      <td>NaN</td>\n",
       "      <td>NaN</td>\n",
       "      <td>NaN</td>\n",
       "      <td>NaN</td>\n",
       "    </tr>\n",
       "  </tbody>\n",
       "</table>\n",
       "<p>5 rows × 45 columns</p>\n",
       "</div>"
      ],
      "text/plain": [
       "   com_el.ntc_id   com_el.tgt_ntc_id  com_el.adm   com_el.ntwk_org  \\\n",
       "0      118545036                 NaN           G               NaN   \n",
       "1      118545036                 NaN           G               NaN   \n",
       "2      118545036                 NaN           G               NaN   \n",
       "3      118545036                 NaN           G               NaN   \n",
       "4      118545036                 NaN           G               NaN   \n",
       "\n",
       "   com_el.sat_name   com_el.long_nom  com_el.prov  com_el.d_rcv  \\\n",
       "0          SSG-CSL               NaN       9.1/IA    30.05.2018   \n",
       "1          SSG-CSL               NaN       9.1/IA    30.05.2018   \n",
       "2          SSG-CSL               NaN       9.1/IA    30.05.2018   \n",
       "3          SSG-CSL               NaN       9.1/IA    30.05.2018   \n",
       "4          SSG-CSL               NaN       9.1/IA    30.05.2018   \n",
       "\n",
       "    com_el.st_cur   orbit.orb_id  ...  TPA1.2055.475-2055.725_R  \\\n",
       "0              50            1.0  ...                       NaN   \n",
       "1              50            1.0  ...                       NaN   \n",
       "2              50            1.0  ...                       NaN   \n",
       "3              50            1.0  ...                       NaN   \n",
       "4              50            2.0  ...                       NaN   \n",
       "\n",
       "   TPA1.401.89525-401.90475_R  TPA1.2237.0-2238.0_E  TPA1.2065.575-2065.825_R  \\\n",
       "0                         NaN                   NaN                       NaN   \n",
       "1                         NaN                   NaN                       NaN   \n",
       "2                         NaN                   NaN                       NaN   \n",
       "3                         NaN                   NaN                       NaN   \n",
       "4                         NaN                   NaN                       NaN   \n",
       "\n",
       "  TPA1.401.9501-401.9699_E TPA1.401.8901-401.9099_R  \\\n",
       "0                      NaN                      NaN   \n",
       "1                      NaN                      NaN   \n",
       "2                      NaN                      NaN   \n",
       "3                      NaN                      NaN   \n",
       "4                      NaN                      NaN   \n",
       "\n",
       "   TPA1.401.95525-401.96475_E  TPA1.401.8901-401.9099_E  \\\n",
       "0                         NaN                       NaN   \n",
       "1                         NaN                       NaN   \n",
       "2                         NaN                       NaN   \n",
       "3                         NaN                       NaN   \n",
       "4                         NaN                       NaN   \n",
       "\n",
       "   TPA1.401.89525-401.90475_E  TPA1.2202.4-2203.4_E  \n",
       "0                         NaN                   NaN  \n",
       "1                         NaN                   NaN  \n",
       "2                         NaN                   NaN  \n",
       "3                         NaN                   NaN  \n",
       "4                         NaN                   NaN  \n",
       "\n",
       "[5 rows x 45 columns]"
      ]
     },
     "metadata": {},
     "output_type": "display_data"
    },
    {
     "name": "stdout",
     "output_type": "stream",
     "text": [
      "Index(['com_el.ntc_id', ' com_el.tgt_ntc_id', ' com_el.adm',\n",
      "       ' com_el.ntwk_org', ' com_el.sat_name', ' com_el.long_nom',\n",
      "       ' com_el.prov', ' com_el.d_rcv', ' com_el.st_cur', ' orbit.orb_id',\n",
      "       ' orbit.nbr_sat_pl', ' orbit.apog_km', ' orbit.perig_km',\n",
      "       ' orbit.op_ht_km', ' s_beam.emi_rcp', ' s_beam.beam_name',\n",
      "       ' grp.grp_id', ' grp.freq_min', ' grp.freq_max', ' grp.bdwdth',\n",
      "       ' grp.d_inuse', ' grp.d_reg_limit', ' grp.d_prot_eff', ' grp.f_biu',\n",
      "       ' emiss.seq_no', ' emiss.pwr_ds_max', ' emiss.design_emi',\n",
      "       ' carrier_fr.freq_carr', ' channel.bandwidth', ' channel.freq_min',\n",
      "       ' channel.freq_max', 'tpaconflicts', 'percentoverlap',\n",
      "       'TPA1.401.95525-401.96475_R', 'TPA1.401.9501-401.9699_R',\n",
      "       'TPA1.2055.475-2055.725_R', 'TPA1.401.89525-401.90475_R',\n",
      "       'TPA1.2237.0-2238.0_E', 'TPA1.2065.575-2065.825_R',\n",
      "       'TPA1.401.9501-401.9699_E', 'TPA1.401.8901-401.9099_R',\n",
      "       'TPA1.401.95525-401.96475_E', 'TPA1.401.8901-401.9099_E',\n",
      "       'TPA1.401.89525-401.90475_E', 'TPA1.2202.4-2203.4_E'],\n",
      "      dtype='object')\n"
     ]
    }
   ],
   "source": [
    "# pick a country and import the conflicts\n",
    "adm = 'G'\n",
    "file = 'expanded_combined_tables_conflicts_lettersatnames.csv'\n",
    "filepath = os.path.join('.', 'adm_conflicts', adm, file)\n",
    "df = pd.read_csv(filepath, low_memory=False)\n",
    "display(df.head())\n",
    "print(df.columns)"
   ]
  },
  {
   "cell_type": "code",
   "execution_count": 3,
   "id": "2a57179d6b63c62a",
   "metadata": {
    "ExecuteTime": {
     "end_time": "2025-05-07T07:36:49.972780Z",
     "start_time": "2025-05-07T07:36:49.705804Z"
    }
   },
   "outputs": [
    {
     "name": "stdout",
     "output_type": "stream",
     "text": [
      "INFO: Pandarallel will run on 8 workers.\n",
      "INFO: Pandarallel will use Memory file system to transfer data between the main process and workers.\n"
     ]
    }
   ],
   "source": [
    "# funcition to extract the table\n",
    "# Initialize pandarallel\n",
    "num_logical_processors = os.cpu_count()\n",
    "pandarallel.initialize(nb_workers=num_logical_processors, progress_bar=True)\n",
    "\n",
    "\n",
    "def summary_table(df):\n",
    "    # columns to keep\n",
    "    cols = [\n",
    "        ' com_el.sat_name',\n",
    "        ' s_beam.beam_name',\n",
    "        ' carrier_fr.freq_carr',\n",
    "        ' channel.bandwidth',\n",
    "        'tpaconflicts',\n",
    "        'percentoverlap'\n",
    "    ]\n",
    "    lookupnames = [\n",
    "        'UHFUP fc=401.96 bw=9K5',\n",
    "        'UHFUP fc=401.96 bw=19K8',\n",
    "        'SUP fc=2055.6 bw=250K',\n",
    "        'UHFUP fc=401.90 bw=9K5',\n",
    "        'SDN fc=2237.5 bw=1M',\n",
    "        'SUP fc=2065.7 bw=250k',\n",
    "        'UHFDN fc=401.96 bw=19K8',\n",
    "        'UHFUP fc=401.90 bw=19K8',\n",
    "        'UHFDN fc=401.96 bw=9K5',\n",
    "        'UHFDN fc=401.90 bw=19K8',\n",
    "        'UHFDN fc=401.90 bw=9K5',\n",
    "        'SDN fc=2202.9 bw=1M'\n",
    "    ]\n",
    "    # get the columns\n",
    "    df1 = df[cols].copy()\n",
    "    if df1.empty:\n",
    "        print(\"❗ DataFrame is empty\")\n",
    "        return pd.DataFrame(columns=[\n",
    "            'Sat Name', 'Beam Name', 'Carrier Freq. (fc MHz)', 'Bandwidth (MHz)', 'Overlaps'\n",
    "        ])\n",
    "    # add a literal column \n",
    "    df1.loc[:, 'Overlaps'] = None\n",
    "\n",
    "    def functiontoapply(row):\n",
    "        con = str(row['tpaconflicts']).split(':')\n",
    "        confidx = [] \n",
    "        for c in con[:-1]:\n",
    "            confidx.append(int(c))\n",
    "        perc = str(row['percentoverlap']).split(':')\n",
    "        overlap = []\n",
    "        for i in range(len(confidx)):\n",
    "            over = str(lookupnames[confidx[i]]) + ' ' + str(perc[i]) + '% overlap'\n",
    "            overlap.append(over)\n",
    "        row['Overlaps'] = ' : '.join(overlap)\n",
    "        if row['Overlaps'] == '':\n",
    "            row['Overlaps'] = 'No Conflicts Found'\n",
    "        return row\n",
    "\n",
    "    # apply in parallel to all rows\n",
    "    if len(df1) > 24:\n",
    "        df1 = df1.parallel_apply(functiontoapply, axis=1)\n",
    "    else:\n",
    "        df1 = df1.apply(functiontoapply, axis=1)\n",
    "    # divide the bandwidth column by 1e6\n",
    "    df1[' channel.bandwidth'] = df1[' channel.bandwidth'].apply(lambda x: float(x) / 1e6)\n",
    "\n",
    "    \n",
    "    # drop columns \n",
    "    df1 = df1.drop(['tpaconflicts', 'percentoverlap'], axis=1)\n",
    "    # rename columns\n",
    "    df1 = df1.rename(columns={\n",
    "        ' com_el.sat_name': 'Sat Name',\n",
    "        ' s_beam.beam_name': 'Beam Name',\n",
    "        ' carrier_fr.freq_carr': 'Carrier Freq. (fc MHz)',\n",
    "        ' channel.bandwidth': 'Bandwidth (MHz)', })  # this is calculated from the emission designator code e.g. 19k8XXX\n",
    "    # drop duplicates\n",
    "    df1 = df1.drop_duplicates()\n",
    "    return df1\n",
    "\n"
   ]
  },
  {
   "cell_type": "code",
   "execution_count": null,
   "id": "85cd5dc120ce4b66",
   "metadata": {
    "ExecuteTime": {
     "end_time": "2025-05-07T06:24:35.855628Z",
     "start_time": "2025-05-07T06:24:35.851742Z"
    }
   },
   "outputs": [],
   "source": []
  },
  {
   "cell_type": "code",
   "execution_count": 4,
   "id": "943f0a261caf22dc",
   "metadata": {
    "ExecuteTime": {
     "end_time": "2025-05-07T06:24:40.988681Z",
     "start_time": "2025-05-07T06:24:35.857496Z"
    }
   },
   "outputs": [
    {
     "data": {
      "application/vnd.jupyter.widget-view+json": {
       "model_id": "9f3d8d602eda486c86852e854272337a",
       "version_major": 2,
       "version_minor": 0
      },
      "text/plain": [
       "VBox(children=(HBox(children=(IntProgress(value=0, description='0.00%', max=20976), Label(value='0 / 20976')))…"
      ]
     },
     "metadata": {},
     "output_type": "display_data"
    },
    {
     "name": "stdout",
     "output_type": "stream",
     "text": [
      "File saved to  ./adm_conflicts/G/conflicts_summary.csv\n"
     ]
    }
   ],
   "source": [
    "# apply to dataframe\n",
    "table = summary_table(df)\n",
    "\n",
    "# export \n",
    "outpath = os.path.join('.', 'adm_conflicts', adm, 'conflicts_summary.csv')\n",
    "table.to_csv(outpath, index=False)\n",
    "print('File saved to ', outpath)"
   ]
  },
  {
   "cell_type": "code",
   "execution_count": 5,
   "id": "64a5543fc3790d02",
   "metadata": {
    "ExecuteTime": {
     "end_time": "2025-05-07T06:25:52.363049Z",
     "start_time": "2025-05-07T06:24:40.990571Z"
    }
   },
   "outputs": [
    {
     "name": "stdout",
     "output_type": "stream",
     "text": [
      "\n",
      "=== Processing AFS ===\n",
      "File saved to  ./adm_conflicts/AFS/conflicts_summary.csv\n",
      "File saved to  ./adm_conflicts/AFS/conflicts_summary_othersatnames.csv\n",
      "\n",
      "=== Processing ARS ===\n"
     ]
    },
    {
     "data": {
      "application/vnd.jupyter.widget-view+json": {
       "model_id": "4f8e5659bc834b60be41561b2543778f",
       "version_major": 2,
       "version_minor": 0
      },
      "text/plain": [
       "VBox(children=(HBox(children=(IntProgress(value=0, description='0.00%', max=1442), Label(value='0 / 1442'))), …"
      ]
     },
     "metadata": {},
     "output_type": "display_data"
    },
    {
     "name": "stdout",
     "output_type": "stream",
     "text": [
      "File saved to  ./adm_conflicts/ARS/conflicts_summary.csv\n"
     ]
    },
    {
     "data": {
      "application/vnd.jupyter.widget-view+json": {
       "model_id": "6d0c846d7c794b2b904ae8e79e68fa4e",
       "version_major": 2,
       "version_minor": 0
      },
      "text/plain": [
       "VBox(children=(HBox(children=(IntProgress(value=0, description='0.00%', max=5), Label(value='0 / 5'))), HBox(c…"
      ]
     },
     "metadata": {},
     "output_type": "display_data"
    },
    {
     "name": "stdout",
     "output_type": "stream",
     "text": [
      "File saved to  ./adm_conflicts/ARS/conflicts_summary_othersatnames.csv\n",
      "\n",
      "=== Processing AUS ===\n"
     ]
    },
    {
     "data": {
      "application/vnd.jupyter.widget-view+json": {
       "model_id": "917205a21fff4279889684073600c3b2",
       "version_major": 2,
       "version_minor": 0
      },
      "text/plain": [
       "VBox(children=(HBox(children=(IntProgress(value=0, description='0.00%', max=43761), Label(value='0 / 43761')))…"
      ]
     },
     "metadata": {},
     "output_type": "display_data"
    },
    {
     "name": "stdout",
     "output_type": "stream",
     "text": [
      "File saved to  ./adm_conflicts/AUS/conflicts_summary.csv\n"
     ]
    },
    {
     "data": {
      "application/vnd.jupyter.widget-view+json": {
       "model_id": "b6e1a60a98c14d63a195a056795f5b62",
       "version_major": 2,
       "version_minor": 0
      },
      "text/plain": [
       "VBox(children=(HBox(children=(IntProgress(value=0, description='0.00%', max=4), Label(value='0 / 4'))), HBox(c…"
      ]
     },
     "metadata": {},
     "output_type": "display_data"
    },
    {
     "name": "stdout",
     "output_type": "stream",
     "text": [
      "File saved to  ./adm_conflicts/AUS/conflicts_summary_othersatnames.csv\n",
      "\n",
      "=== Processing CAN ===\n"
     ]
    },
    {
     "data": {
      "application/vnd.jupyter.widget-view+json": {
       "model_id": "fd705775a22b48d0b2b6645966593352",
       "version_major": 2,
       "version_minor": 0
      },
      "text/plain": [
       "VBox(children=(HBox(children=(IntProgress(value=0, description='0.00%', max=68), Label(value='0 / 68'))), HBox…"
      ]
     },
     "metadata": {},
     "output_type": "display_data"
    },
    {
     "name": "stdout",
     "output_type": "stream",
     "text": [
      "File saved to  ./adm_conflicts/CAN/conflicts_summary.csv\n"
     ]
    },
    {
     "data": {
      "application/vnd.jupyter.widget-view+json": {
       "model_id": "ae6c9bdfb14f485383072d7b6ebb1f27",
       "version_major": 2,
       "version_minor": 0
      },
      "text/plain": [
       "VBox(children=(HBox(children=(IntProgress(value=0, description='0.00%', max=13), Label(value='0 / 13'))), HBox…"
      ]
     },
     "metadata": {},
     "output_type": "display_data"
    },
    {
     "name": "stdout",
     "output_type": "stream",
     "text": [
      "File saved to  ./adm_conflicts/CAN/conflicts_summary_othersatnames.csv\n",
      "\n",
      "=== Processing CHN ===\n"
     ]
    },
    {
     "data": {
      "application/vnd.jupyter.widget-view+json": {
       "model_id": "efd186ab31c44fceaab0e98a5ab650f2",
       "version_major": 2,
       "version_minor": 0
      },
      "text/plain": [
       "VBox(children=(HBox(children=(IntProgress(value=0, description='0.00%', max=40168), Label(value='0 / 40168')))…"
      ]
     },
     "metadata": {},
     "output_type": "display_data"
    },
    {
     "name": "stdout",
     "output_type": "stream",
     "text": [
      "File saved to  ./adm_conflicts/CHN/conflicts_summary.csv\n"
     ]
    },
    {
     "data": {
      "application/vnd.jupyter.widget-view+json": {
       "model_id": "fb8f077fd99d4da5b405e0ae50bc46fe",
       "version_major": 2,
       "version_minor": 0
      },
      "text/plain": [
       "VBox(children=(HBox(children=(IntProgress(value=0, description='0.00%', max=51884), Label(value='0 / 51884')))…"
      ]
     },
     "metadata": {},
     "output_type": "display_data"
    },
    {
     "name": "stdout",
     "output_type": "stream",
     "text": [
      "File saved to  ./adm_conflicts/CHN/conflicts_summary_othersatnames.csv\n",
      "\n",
      "=== Processing D ===\n"
     ]
    },
    {
     "data": {
      "application/vnd.jupyter.widget-view+json": {
       "model_id": "18ac193eaba340618b6f0a3af9eb5966",
       "version_major": 2,
       "version_minor": 0
      },
      "text/plain": [
       "VBox(children=(HBox(children=(IntProgress(value=0, description='0.00%', max=85264), Label(value='0 / 85264')))…"
      ]
     },
     "metadata": {},
     "output_type": "display_data"
    },
    {
     "name": "stdout",
     "output_type": "stream",
     "text": [
      "File saved to  ./adm_conflicts/D/conflicts_summary.csv\n"
     ]
    },
    {
     "data": {
      "application/vnd.jupyter.widget-view+json": {
       "model_id": "a3d9df6215be41ec9da50146a56afcbc",
       "version_major": 2,
       "version_minor": 0
      },
      "text/plain": [
       "VBox(children=(HBox(children=(IntProgress(value=0, description='0.00%', max=420), Label(value='0 / 420'))), HB…"
      ]
     },
     "metadata": {},
     "output_type": "display_data"
    },
    {
     "name": "stdout",
     "output_type": "stream",
     "text": [
      "File saved to  ./adm_conflicts/D/conflicts_summary_othersatnames.csv\n",
      "\n",
      "=== Processing E ===\n"
     ]
    },
    {
     "data": {
      "application/vnd.jupyter.widget-view+json": {
       "model_id": "3e548d2b2c8a40e1a75c91b9d5c4cbb2",
       "version_major": 2,
       "version_minor": 0
      },
      "text/plain": [
       "VBox(children=(HBox(children=(IntProgress(value=0, description='0.00%', max=68), Label(value='0 / 68'))), HBox…"
      ]
     },
     "metadata": {},
     "output_type": "display_data"
    },
    {
     "name": "stdout",
     "output_type": "stream",
     "text": [
      "File saved to  ./adm_conflicts/E/conflicts_summary.csv\n"
     ]
    },
    {
     "data": {
      "application/vnd.jupyter.widget-view+json": {
       "model_id": "e28335c0e2b14a5c92d29ebfe149d3ed",
       "version_major": 2,
       "version_minor": 0
      },
      "text/plain": [
       "VBox(children=(HBox(children=(IntProgress(value=0, description='0.00%', max=755), Label(value='0 / 755'))), HB…"
      ]
     },
     "metadata": {},
     "output_type": "display_data"
    },
    {
     "name": "stdout",
     "output_type": "stream",
     "text": [
      "File saved to  ./adm_conflicts/E/conflicts_summary_othersatnames.csv\n",
      "\n",
      "=== Processing EGY ===\n",
      "❗ DataFrame is empty\n",
      "File saved to  ./adm_conflicts/EGY/conflicts_summary.csv\n"
     ]
    },
    {
     "data": {
      "application/vnd.jupyter.widget-view+json": {
       "model_id": "a0283e26b9da4a03a0f8e9efca7d1238",
       "version_major": 2,
       "version_minor": 0
      },
      "text/plain": [
       "VBox(children=(HBox(children=(IntProgress(value=0, description='0.00%', max=5), Label(value='0 / 5'))), HBox(c…"
      ]
     },
     "metadata": {},
     "output_type": "display_data"
    },
    {
     "name": "stdout",
     "output_type": "stream",
     "text": [
      "File saved to  ./adm_conflicts/EGY/conflicts_summary_othersatnames.csv\n",
      "\n",
      "=== Processing F ===\n"
     ]
    },
    {
     "data": {
      "application/vnd.jupyter.widget-view+json": {
       "model_id": "1e5ff9bc1d7043128df7209f4c11d150",
       "version_major": 2,
       "version_minor": 0
      },
      "text/plain": [
       "VBox(children=(HBox(children=(IntProgress(value=0, description='0.00%', max=89), Label(value='0 / 89'))), HBox…"
      ]
     },
     "metadata": {},
     "output_type": "display_data"
    },
    {
     "name": "stdout",
     "output_type": "stream",
     "text": [
      "File saved to  ./adm_conflicts/F/conflicts_summary.csv\n"
     ]
    },
    {
     "data": {
      "application/vnd.jupyter.widget-view+json": {
       "model_id": "d4c7dd0079cd42f18d2ba71f80e1623a",
       "version_major": 2,
       "version_minor": 0
      },
      "text/plain": [
       "VBox(children=(HBox(children=(IntProgress(value=0, description='0.00%', max=11), Label(value='0 / 11'))), HBox…"
      ]
     },
     "metadata": {},
     "output_type": "display_data"
    },
    {
     "name": "stdout",
     "output_type": "stream",
     "text": [
      "File saved to  ./adm_conflicts/F/conflicts_summary_othersatnames.csv\n",
      "\n",
      "=== Processing G ===\n"
     ]
    },
    {
     "data": {
      "application/vnd.jupyter.widget-view+json": {
       "model_id": "fdc1148920ed4ce18d4f010c1044c41d",
       "version_major": 2,
       "version_minor": 0
      },
      "text/plain": [
       "VBox(children=(HBox(children=(IntProgress(value=0, description='0.00%', max=20976), Label(value='0 / 20976')))…"
      ]
     },
     "metadata": {},
     "output_type": "display_data"
    },
    {
     "name": "stdout",
     "output_type": "stream",
     "text": [
      "File saved to  ./adm_conflicts/G/conflicts_summary.csv\n"
     ]
    },
    {
     "data": {
      "application/vnd.jupyter.widget-view+json": {
       "model_id": "fc37177b28a049d29b7b87cbadc2ec2a",
       "version_major": 2,
       "version_minor": 0
      },
      "text/plain": [
       "VBox(children=(HBox(children=(IntProgress(value=0, description='0.00%', max=57), Label(value='0 / 57'))), HBox…"
      ]
     },
     "metadata": {},
     "output_type": "display_data"
    },
    {
     "name": "stdout",
     "output_type": "stream",
     "text": [
      "File saved to  ./adm_conflicts/G/conflicts_summary_othersatnames.csv\n",
      "\n",
      "=== Processing GRC ===\n",
      "File saved to  ./adm_conflicts/GRC/conflicts_summary.csv\n",
      "File saved to  ./adm_conflicts/GRC/conflicts_summary_othersatnames.csv\n",
      "\n",
      "=== Processing HOL ===\n",
      "❗ DataFrame is empty\n",
      "File saved to  ./adm_conflicts/HOL/conflicts_summary.csv\n",
      "File saved to  ./adm_conflicts/HOL/conflicts_summary_othersatnames.csv\n",
      "\n",
      "=== Processing I ===\n"
     ]
    },
    {
     "data": {
      "application/vnd.jupyter.widget-view+json": {
       "model_id": "99c7da57dace4fe4b460c9aa44ab55a8",
       "version_major": 2,
       "version_minor": 0
      },
      "text/plain": [
       "VBox(children=(HBox(children=(IntProgress(value=0, description='0.00%', max=226), Label(value='0 / 226'))), HB…"
      ]
     },
     "metadata": {},
     "output_type": "display_data"
    },
    {
     "name": "stdout",
     "output_type": "stream",
     "text": [
      "File saved to  ./adm_conflicts/I/conflicts_summary.csv\n"
     ]
    },
    {
     "data": {
      "application/vnd.jupyter.widget-view+json": {
       "model_id": "fa99969f23304b90b1b8470e18888ec9",
       "version_major": 2,
       "version_minor": 0
      },
      "text/plain": [
       "VBox(children=(HBox(children=(IntProgress(value=0, description='0.00%', max=361), Label(value='0 / 361'))), HB…"
      ]
     },
     "metadata": {},
     "output_type": "display_data"
    },
    {
     "name": "stdout",
     "output_type": "stream",
     "text": [
      "File saved to  ./adm_conflicts/I/conflicts_summary_othersatnames.csv\n",
      "\n",
      "=== Processing IRN ===\n"
     ]
    },
    {
     "data": {
      "application/vnd.jupyter.widget-view+json": {
       "model_id": "1d8dd1e02df74421bebeda421448ccf6",
       "version_major": 2,
       "version_minor": 0
      },
      "text/plain": [
       "VBox(children=(HBox(children=(IntProgress(value=0, description='0.00%', max=5), Label(value='0 / 5'))), HBox(c…"
      ]
     },
     "metadata": {},
     "output_type": "display_data"
    },
    {
     "name": "stdout",
     "output_type": "stream",
     "text": [
      "File saved to  ./adm_conflicts/IRN/conflicts_summary.csv\n",
      "❗ DataFrame is empty\n",
      "File saved to  ./adm_conflicts/IRN/conflicts_summary_othersatnames.csv\n",
      "\n",
      "=== Processing ISR ===\n"
     ]
    },
    {
     "data": {
      "application/vnd.jupyter.widget-view+json": {
       "model_id": "d058769da8c34d1ebf7514f60e523168",
       "version_major": 2,
       "version_minor": 0
      },
      "text/plain": [
       "VBox(children=(HBox(children=(IntProgress(value=0, description='0.00%', max=35), Label(value='0 / 35'))), HBox…"
      ]
     },
     "metadata": {},
     "output_type": "display_data"
    },
    {
     "name": "stdout",
     "output_type": "stream",
     "text": [
      "File saved to  ./adm_conflicts/ISR/conflicts_summary.csv\n"
     ]
    },
    {
     "data": {
      "application/vnd.jupyter.widget-view+json": {
       "model_id": "13c5a29b876345b4bdefa037f69485a1",
       "version_major": 2,
       "version_minor": 0
      },
      "text/plain": [
       "VBox(children=(HBox(children=(IntProgress(value=0, description='0.00%', max=7), Label(value='0 / 7'))), HBox(c…"
      ]
     },
     "metadata": {},
     "output_type": "display_data"
    },
    {
     "name": "stdout",
     "output_type": "stream",
     "text": [
      "File saved to  ./adm_conflicts/ISR/conflicts_summary_othersatnames.csv\n",
      "\n",
      "=== Processing J ===\n"
     ]
    },
    {
     "data": {
      "application/vnd.jupyter.widget-view+json": {
       "model_id": "e869b3c7b86d44c9ae065d25e0c94896",
       "version_major": 2,
       "version_minor": 0
      },
      "text/plain": [
       "VBox(children=(HBox(children=(IntProgress(value=0, description='0.00%', max=67), Label(value='0 / 67'))), HBox…"
      ]
     },
     "metadata": {},
     "output_type": "display_data"
    },
    {
     "name": "stdout",
     "output_type": "stream",
     "text": [
      "File saved to  ./adm_conflicts/J/conflicts_summary.csv\n"
     ]
    },
    {
     "data": {
      "application/vnd.jupyter.widget-view+json": {
       "model_id": "103d48fa091645de9bc4966dd21482ab",
       "version_major": 2,
       "version_minor": 0
      },
      "text/plain": [
       "VBox(children=(HBox(children=(IntProgress(value=0, description='0.00%', max=63), Label(value='0 / 63'))), HBox…"
      ]
     },
     "metadata": {},
     "output_type": "display_data"
    },
    {
     "name": "stdout",
     "output_type": "stream",
     "text": [
      "File saved to  ./adm_conflicts/J/conflicts_summary_othersatnames.csv\n",
      "\n",
      "=== Processing KAZ ===\n",
      "File saved to  ./adm_conflicts/KAZ/conflicts_summary.csv\n",
      "❗ DataFrame is empty\n",
      "File saved to  ./adm_conflicts/KAZ/conflicts_summary_othersatnames.csv\n",
      "\n",
      "=== Processing KOR ===\n"
     ]
    },
    {
     "data": {
      "application/vnd.jupyter.widget-view+json": {
       "model_id": "2b38630523684562ad6ca0b5b718f01a",
       "version_major": 2,
       "version_minor": 0
      },
      "text/plain": [
       "VBox(children=(HBox(children=(IntProgress(value=0, description='0.00%', max=349), Label(value='0 / 349'))), HB…"
      ]
     },
     "metadata": {},
     "output_type": "display_data"
    },
    {
     "name": "stdout",
     "output_type": "stream",
     "text": [
      "File saved to  ./adm_conflicts/KOR/conflicts_summary.csv\n"
     ]
    },
    {
     "data": {
      "application/vnd.jupyter.widget-view+json": {
       "model_id": "fee15a0099e240519a32bbf6084617ce",
       "version_major": 2,
       "version_minor": 0
      },
      "text/plain": [
       "VBox(children=(HBox(children=(IntProgress(value=0, description='0.00%', max=361), Label(value='0 / 361'))), HB…"
      ]
     },
     "metadata": {},
     "output_type": "display_data"
    },
    {
     "name": "stdout",
     "output_type": "stream",
     "text": [
      "File saved to  ./adm_conflicts/KOR/conflicts_summary_othersatnames.csv\n",
      "\n",
      "=== Processing LUX ===\n"
     ]
    },
    {
     "data": {
      "application/vnd.jupyter.widget-view+json": {
       "model_id": "1a5d2daaadce4585a3cf5e3132c55da3",
       "version_major": 2,
       "version_minor": 0
      },
      "text/plain": [
       "VBox(children=(HBox(children=(IntProgress(value=0, description='0.00%', max=1168), Label(value='0 / 1168'))), …"
      ]
     },
     "metadata": {},
     "output_type": "display_data"
    },
    {
     "name": "stdout",
     "output_type": "stream",
     "text": [
      "File saved to  ./adm_conflicts/LUX/conflicts_summary.csv\n"
     ]
    },
    {
     "data": {
      "application/vnd.jupyter.widget-view+json": {
       "model_id": "13bc2795ddf6447282c16fd533ee5d80",
       "version_major": 2,
       "version_minor": 0
      },
      "text/plain": [
       "VBox(children=(HBox(children=(IntProgress(value=0, description='0.00%', max=177), Label(value='0 / 177'))), HB…"
      ]
     },
     "metadata": {},
     "output_type": "display_data"
    },
    {
     "name": "stdout",
     "output_type": "stream",
     "text": [
      "File saved to  ./adm_conflicts/LUX/conflicts_summary_othersatnames.csv\n",
      "\n",
      "=== Processing MLA ===\n",
      "❗ DataFrame is empty\n",
      "File saved to  ./adm_conflicts/MLA/conflicts_summary.csv\n"
     ]
    },
    {
     "data": {
      "application/vnd.jupyter.widget-view+json": {
       "model_id": "7166dc98addc42cc88238757612fa35c",
       "version_major": 2,
       "version_minor": 0
      },
      "text/plain": [
       "VBox(children=(HBox(children=(IntProgress(value=0, description='0.00%', max=4), Label(value='0 / 4'))), HBox(c…"
      ]
     },
     "metadata": {},
     "output_type": "display_data"
    },
    {
     "name": "stdout",
     "output_type": "stream",
     "text": [
      "File saved to  ./adm_conflicts/MLA/conflicts_summary_othersatnames.csv\n",
      "\n",
      "=== Processing MRC ===\n",
      "File saved to  ./adm_conflicts/MRC/conflicts_summary.csv\n",
      "File saved to  ./adm_conflicts/MRC/conflicts_summary_othersatnames.csv\n",
      "\n",
      "=== Processing NOR ===\n",
      "File saved to  ./adm_conflicts/NOR/conflicts_summary.csv\n"
     ]
    },
    {
     "data": {
      "application/vnd.jupyter.widget-view+json": {
       "model_id": "a55b35506d4d47478f7b20639933ccc8",
       "version_major": 2,
       "version_minor": 0
      },
      "text/plain": [
       "VBox(children=(HBox(children=(IntProgress(value=0, description='0.00%', max=50), Label(value='0 / 50'))), HBox…"
      ]
     },
     "metadata": {},
     "output_type": "display_data"
    },
    {
     "name": "stdout",
     "output_type": "stream",
     "text": [
      "File saved to  ./adm_conflicts/NOR/conflicts_summary_othersatnames.csv\n",
      "\n",
      "=== Processing PAK ===\n"
     ]
    },
    {
     "data": {
      "application/vnd.jupyter.widget-view+json": {
       "model_id": "4e8d0ef328484a29bbf1f939ae99ee4f",
       "version_major": 2,
       "version_minor": 0
      },
      "text/plain": [
       "VBox(children=(HBox(children=(IntProgress(value=0, description='0.00%', max=131), Label(value='0 / 131'))), HB…"
      ]
     },
     "metadata": {},
     "output_type": "display_data"
    },
    {
     "name": "stdout",
     "output_type": "stream",
     "text": [
      "File saved to  ./adm_conflicts/PAK/conflicts_summary.csv\n"
     ]
    },
    {
     "data": {
      "application/vnd.jupyter.widget-view+json": {
       "model_id": "ae38c652c4c641bcb69a9e0cee451b8a",
       "version_major": 2,
       "version_minor": 0
      },
      "text/plain": [
       "VBox(children=(HBox(children=(IntProgress(value=0, description='0.00%', max=17), Label(value='0 / 17'))), HBox…"
      ]
     },
     "metadata": {},
     "output_type": "display_data"
    },
    {
     "name": "stdout",
     "output_type": "stream",
     "text": [
      "File saved to  ./adm_conflicts/PAK/conflicts_summary_othersatnames.csv\n",
      "\n",
      "=== Processing POR ===\n",
      "File saved to  ./adm_conflicts/POR/conflicts_summary.csv\n",
      "File saved to  ./adm_conflicts/POR/conflicts_summary_othersatnames.csv\n",
      "\n",
      "=== Processing RUS ===\n"
     ]
    },
    {
     "data": {
      "application/vnd.jupyter.widget-view+json": {
       "model_id": "3e9d29df78854baa9d95c4af5d8439ca",
       "version_major": 2,
       "version_minor": 0
      },
      "text/plain": [
       "VBox(children=(HBox(children=(IntProgress(value=0, description='0.00%', max=1116), Label(value='0 / 1116'))), …"
      ]
     },
     "metadata": {},
     "output_type": "display_data"
    },
    {
     "name": "stdout",
     "output_type": "stream",
     "text": [
      "File saved to  ./adm_conflicts/RUS/conflicts_summary.csv\n",
      "❗ DataFrame is empty\n",
      "File saved to  ./adm_conflicts/RUS/conflicts_summary_othersatnames.csv\n",
      "\n",
      "=== Processing SLM ===\n",
      "❗ DataFrame is empty\n",
      "File saved to  ./adm_conflicts/SLM/conflicts_summary.csv\n"
     ]
    },
    {
     "data": {
      "application/vnd.jupyter.widget-view+json": {
       "model_id": "832f1c0c29b34ed283553f21ea737896",
       "version_major": 2,
       "version_minor": 0
      },
      "text/plain": [
       "VBox(children=(HBox(children=(IntProgress(value=0, description='0.00%', max=167), Label(value='0 / 167'))), HB…"
      ]
     },
     "metadata": {},
     "output_type": "display_data"
    },
    {
     "name": "stdout",
     "output_type": "stream",
     "text": [
      "File saved to  ./adm_conflicts/SLM/conflicts_summary_othersatnames.csv\n",
      "\n",
      "=== Processing THA ===\n"
     ]
    },
    {
     "data": {
      "application/vnd.jupyter.widget-view+json": {
       "model_id": "91d3b78250ff44258076d974b043e175",
       "version_major": 2,
       "version_minor": 0
      },
      "text/plain": [
       "VBox(children=(HBox(children=(IntProgress(value=0, description='0.00%', max=109), Label(value='0 / 109'))), HB…"
      ]
     },
     "metadata": {},
     "output_type": "display_data"
    },
    {
     "name": "stdout",
     "output_type": "stream",
     "text": [
      "File saved to  ./adm_conflicts/THA/conflicts_summary.csv\n",
      "❗ DataFrame is empty\n",
      "File saved to  ./adm_conflicts/THA/conflicts_summary_othersatnames.csv\n",
      "\n",
      "=== Processing USA ===\n",
      "❗ DataFrame is empty\n",
      "File saved to  ./adm_conflicts/USA/conflicts_summary.csv\n"
     ]
    },
    {
     "data": {
      "application/vnd.jupyter.widget-view+json": {
       "model_id": "e557acce2cf3459ab459e3b8bf5d0c33",
       "version_major": 2,
       "version_minor": 0
      },
      "text/plain": [
       "VBox(children=(HBox(children=(IntProgress(value=0, description='0.00%', max=4573), Label(value='0 / 4573'))), …"
      ]
     },
     "metadata": {},
     "output_type": "display_data"
    },
    {
     "name": "stdout",
     "output_type": "stream",
     "text": [
      "File saved to  ./adm_conflicts/USA/conflicts_summary_othersatnames.csv\n"
     ]
    }
   ],
   "source": [
    "# iterate for every administration \n",
    "# === CONFIG ===\n",
    "tpafile = './databases/TPAtable.csv'\n",
    "tablesfolder = 'countriestables'\n",
    "outfolder = 'adm_conflicts'\n",
    "countrieslistfile = 'countrieslist.csv'\n",
    "# Load country codes\n",
    "with open(countrieslistfile, 'r') as f:\n",
    "    countries = f.read().strip().split(', ')\n",
    "# === PROCESS EACH COUNTRY ===\n",
    "for ccode in countries:\n",
    "    print(f\"\\n=== Processing {ccode} ===\")\n",
    "    # outfolder (must already exist)\n",
    "    country_outfolder = os.path.join(outfolder, ccode)\n",
    "    adm = ccode\n",
    "    file = 'expanded_combined_tables_conflicts_lettersatnames.csv'\n",
    "    filepath = os.path.join('.', 'adm_conflicts', adm, file)\n",
    "    df = pd.read_csv(filepath, low_memory=False)\n",
    "    # display(df.head())\n",
    "    # print(df.columns)\n",
    "    # execute \n",
    "    table = summary_table(df)\n",
    "        # export \n",
    "    outpath = os.path.join('.', 'adm_conflicts', adm, 'conflicts_summary.csv')\n",
    "    table.to_csv(outpath, index=False)\n",
    "    print('File saved to ', outpath)\n",
    "    \n",
    "    # do the same for the non filtered satellite names\n",
    "    file = 'expanded_combined_tables_conflicts_othersatnames.csv'\n",
    "    filepath = os.path.join('.', 'adm_conflicts', adm, file)\n",
    "    df = pd.read_csv(filepath, low_memory=False)\n",
    "    # display(df.head())\n",
    "    # print(df.columns)\n",
    "    # execute \n",
    "    table = summary_table(df)\n",
    "        # export \n",
    "    outpath = os.path.join('.', 'adm_conflicts', adm, 'conflicts_summary_othersatnames.csv')\n",
    "    table.to_csv(outpath, index=False)\n",
    "    print('File saved to ', outpath)\n"
   ]
  }
 ],
 "metadata": {
  "kernelspec": {
   "display_name": "Python 3 (ipykernel)",
   "language": "python",
   "name": "python3"
  },
  "language_info": {
   "codemirror_mode": {
    "name": "ipython",
    "version": 3
   },
   "file_extension": ".py",
   "mimetype": "text/x-python",
   "name": "python",
   "nbconvert_exporter": "python",
   "pygments_lexer": "ipython3",
   "version": "3.10.12"
  }
 },
 "nbformat": 4,
 "nbformat_minor": 5
}
