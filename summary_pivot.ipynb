{
 "cells": [
  {
   "cell_type": "markdown",
   "id": "c54a291f080558ac",
   "metadata": {},
   "source": [
    "follow the same order of operation of summary, but produce a pivot table like the one already existing with:"
   ]
  },
  {
   "cell_type": "code",
   "id": "4c1ca052832288ee",
   "metadata": {
    "ExecuteTime": {
     "end_time": "2025-05-12T22:35:29.658706Z",
     "start_time": "2025-05-12T22:35:29.643071Z"
    }
   },
   "source": [
    "import pandas as pd\n",
    "import numpy as np\n",
    "import os\n",
    "import re\n",
    "import matplotlib.pyplot as plt\n",
    "from tqdm.notebook import tqdm\n",
    "from collections import defaultdict\n",
    "from IPython.display import display\n",
    "from fuzzywuzzy import fuzz, process\n",
    "from ITUtils import country_conflicts_finder\n",
    "from pandarallel import pandarallel\n",
    "\n",
    "# show all columns\n",
    "pd.set_option('display.max_rows', None)"
   ],
   "outputs": [],
   "execution_count": 11
  },
  {
   "cell_type": "code",
   "id": "5c6607c292a69e41",
   "metadata": {
    "ExecuteTime": {
     "end_time": "2025-05-12T22:35:29.690034Z",
     "start_time": "2025-05-12T22:35:29.658706Z"
    }
   },
   "source": [
    "# pick a country and import the conflicts\n",
    "adm = 'E'\n",
    "file = 'expanded_combined_tables_conflicts_lettersatnames.csv'\n",
    "filepath = os.path.join('.', 'adm_conflicts', adm, file)\n",
    "df = pd.read_csv(filepath, low_memory=False)\n",
    "display(df.head())\n",
    "print(df.columns)"
   ],
   "outputs": [
    {
     "data": {
      "text/plain": [
       "   com_el.ntc_id   com_el.tgt_ntc_id  com_el.adm   com_el.ntwk_org  \\\n",
       "0      116545157                 NaN           E               NaN   \n",
       "1      113540649                 NaN           E               NaN   \n",
       "2      113540649                 NaN           E               NaN   \n",
       "3      116545157                 NaN           E               NaN   \n",
       "4      113540649                 NaN           E               NaN   \n",
       "\n",
       "   com_el.sat_name   com_el.long_nom  com_el.prov  com_el.d_rcv  \\\n",
       "0            PAZ_R               NaN       9.1/IA    23.12.2021   \n",
       "1         DEIMOS-2               NaN       9.1/IA    06.03.2018   \n",
       "2         DEIMOS-2               NaN       9.1/IA    06.03.2018   \n",
       "3            PAZ_R               NaN       9.1/IA    23.12.2021   \n",
       "4         DEIMOS-2               NaN       9.1/IA    06.03.2018   \n",
       "\n",
       "    com_el.st_cur   orbit.orb_id  ...  TPA1.2055.475-2055.725_R  \\\n",
       "0              50            1.0  ...                       NaN   \n",
       "1              50            1.0  ...                       NaN   \n",
       "2              50            1.0  ...                       NaN   \n",
       "3              50            1.0  ...                       NaN   \n",
       "4              50            1.0  ...                       NaN   \n",
       "\n",
       "   TPA1.401.89525-401.90475_R  TPA1.2237.0-2238.0_E  TPA1.2065.575-2065.825_R  \\\n",
       "0                         NaN                   NaN                       NaN   \n",
       "1                         NaN                   NaN                       NaN   \n",
       "2                         NaN                   NaN                       NaN   \n",
       "3                         NaN                   NaN                       NaN   \n",
       "4                         NaN                   NaN                       NaN   \n",
       "\n",
       "  TPA1.401.9501-401.9699_E TPA1.401.8901-401.9099_R  \\\n",
       "0                      NaN                      NaN   \n",
       "1                      NaN                      NaN   \n",
       "2                      NaN                      NaN   \n",
       "3                      NaN                      NaN   \n",
       "4                      NaN                      NaN   \n",
       "\n",
       "   TPA1.401.95525-401.96475_E  TPA1.401.8901-401.9099_E  \\\n",
       "0                         NaN                       NaN   \n",
       "1                         NaN                       NaN   \n",
       "2                         NaN                       NaN   \n",
       "3                         NaN                       NaN   \n",
       "4                         NaN                       NaN   \n",
       "\n",
       "   TPA1.401.89525-401.90475_E  TPA1.2202.4-2203.4_E  \n",
       "0                         NaN                   NaN  \n",
       "1                         NaN                   NaN  \n",
       "2                         NaN                   NaN  \n",
       "3                         NaN                   NaN  \n",
       "4                         NaN                   NaN  \n",
       "\n",
       "[5 rows x 45 columns]"
      ],
      "text/html": [
       "<div>\n",
       "<style scoped>\n",
       "    .dataframe tbody tr th:only-of-type {\n",
       "        vertical-align: middle;\n",
       "    }\n",
       "\n",
       "    .dataframe tbody tr th {\n",
       "        vertical-align: top;\n",
       "    }\n",
       "\n",
       "    .dataframe thead th {\n",
       "        text-align: right;\n",
       "    }\n",
       "</style>\n",
       "<table border=\"1\" class=\"dataframe\">\n",
       "  <thead>\n",
       "    <tr style=\"text-align: right;\">\n",
       "      <th></th>\n",
       "      <th>com_el.ntc_id</th>\n",
       "      <th>com_el.tgt_ntc_id</th>\n",
       "      <th>com_el.adm</th>\n",
       "      <th>com_el.ntwk_org</th>\n",
       "      <th>com_el.sat_name</th>\n",
       "      <th>com_el.long_nom</th>\n",
       "      <th>com_el.prov</th>\n",
       "      <th>com_el.d_rcv</th>\n",
       "      <th>com_el.st_cur</th>\n",
       "      <th>orbit.orb_id</th>\n",
       "      <th>...</th>\n",
       "      <th>TPA1.2055.475-2055.725_R</th>\n",
       "      <th>TPA1.401.89525-401.90475_R</th>\n",
       "      <th>TPA1.2237.0-2238.0_E</th>\n",
       "      <th>TPA1.2065.575-2065.825_R</th>\n",
       "      <th>TPA1.401.9501-401.9699_E</th>\n",
       "      <th>TPA1.401.8901-401.9099_R</th>\n",
       "      <th>TPA1.401.95525-401.96475_E</th>\n",
       "      <th>TPA1.401.8901-401.9099_E</th>\n",
       "      <th>TPA1.401.89525-401.90475_E</th>\n",
       "      <th>TPA1.2202.4-2203.4_E</th>\n",
       "    </tr>\n",
       "  </thead>\n",
       "  <tbody>\n",
       "    <tr>\n",
       "      <th>0</th>\n",
       "      <td>116545157</td>\n",
       "      <td>NaN</td>\n",
       "      <td>E</td>\n",
       "      <td>NaN</td>\n",
       "      <td>PAZ_R</td>\n",
       "      <td>NaN</td>\n",
       "      <td>9.1/IA</td>\n",
       "      <td>23.12.2021</td>\n",
       "      <td>50</td>\n",
       "      <td>1.0</td>\n",
       "      <td>...</td>\n",
       "      <td>NaN</td>\n",
       "      <td>NaN</td>\n",
       "      <td>NaN</td>\n",
       "      <td>NaN</td>\n",
       "      <td>NaN</td>\n",
       "      <td>NaN</td>\n",
       "      <td>NaN</td>\n",
       "      <td>NaN</td>\n",
       "      <td>NaN</td>\n",
       "      <td>NaN</td>\n",
       "    </tr>\n",
       "    <tr>\n",
       "      <th>1</th>\n",
       "      <td>113540649</td>\n",
       "      <td>NaN</td>\n",
       "      <td>E</td>\n",
       "      <td>NaN</td>\n",
       "      <td>DEIMOS-2</td>\n",
       "      <td>NaN</td>\n",
       "      <td>9.1/IA</td>\n",
       "      <td>06.03.2018</td>\n",
       "      <td>50</td>\n",
       "      <td>1.0</td>\n",
       "      <td>...</td>\n",
       "      <td>NaN</td>\n",
       "      <td>NaN</td>\n",
       "      <td>NaN</td>\n",
       "      <td>NaN</td>\n",
       "      <td>NaN</td>\n",
       "      <td>NaN</td>\n",
       "      <td>NaN</td>\n",
       "      <td>NaN</td>\n",
       "      <td>NaN</td>\n",
       "      <td>NaN</td>\n",
       "    </tr>\n",
       "    <tr>\n",
       "      <th>2</th>\n",
       "      <td>113540649</td>\n",
       "      <td>NaN</td>\n",
       "      <td>E</td>\n",
       "      <td>NaN</td>\n",
       "      <td>DEIMOS-2</td>\n",
       "      <td>NaN</td>\n",
       "      <td>9.1/IA</td>\n",
       "      <td>06.03.2018</td>\n",
       "      <td>50</td>\n",
       "      <td>1.0</td>\n",
       "      <td>...</td>\n",
       "      <td>NaN</td>\n",
       "      <td>NaN</td>\n",
       "      <td>NaN</td>\n",
       "      <td>NaN</td>\n",
       "      <td>NaN</td>\n",
       "      <td>NaN</td>\n",
       "      <td>NaN</td>\n",
       "      <td>NaN</td>\n",
       "      <td>NaN</td>\n",
       "      <td>NaN</td>\n",
       "    </tr>\n",
       "    <tr>\n",
       "      <th>3</th>\n",
       "      <td>116545157</td>\n",
       "      <td>NaN</td>\n",
       "      <td>E</td>\n",
       "      <td>NaN</td>\n",
       "      <td>PAZ_R</td>\n",
       "      <td>NaN</td>\n",
       "      <td>9.1/IA</td>\n",
       "      <td>23.12.2021</td>\n",
       "      <td>50</td>\n",
       "      <td>1.0</td>\n",
       "      <td>...</td>\n",
       "      <td>NaN</td>\n",
       "      <td>NaN</td>\n",
       "      <td>NaN</td>\n",
       "      <td>NaN</td>\n",
       "      <td>NaN</td>\n",
       "      <td>NaN</td>\n",
       "      <td>NaN</td>\n",
       "      <td>NaN</td>\n",
       "      <td>NaN</td>\n",
       "      <td>NaN</td>\n",
       "    </tr>\n",
       "    <tr>\n",
       "      <th>4</th>\n",
       "      <td>113540649</td>\n",
       "      <td>NaN</td>\n",
       "      <td>E</td>\n",
       "      <td>NaN</td>\n",
       "      <td>DEIMOS-2</td>\n",
       "      <td>NaN</td>\n",
       "      <td>9.1/IA</td>\n",
       "      <td>06.03.2018</td>\n",
       "      <td>50</td>\n",
       "      <td>1.0</td>\n",
       "      <td>...</td>\n",
       "      <td>NaN</td>\n",
       "      <td>NaN</td>\n",
       "      <td>NaN</td>\n",
       "      <td>NaN</td>\n",
       "      <td>NaN</td>\n",
       "      <td>NaN</td>\n",
       "      <td>NaN</td>\n",
       "      <td>NaN</td>\n",
       "      <td>NaN</td>\n",
       "      <td>NaN</td>\n",
       "    </tr>\n",
       "  </tbody>\n",
       "</table>\n",
       "<p>5 rows × 45 columns</p>\n",
       "</div>"
      ]
     },
     "metadata": {},
     "output_type": "display_data"
    },
    {
     "name": "stdout",
     "output_type": "stream",
     "text": [
      "Index(['com_el.ntc_id', ' com_el.tgt_ntc_id', ' com_el.adm',\n",
      "       ' com_el.ntwk_org', ' com_el.sat_name', ' com_el.long_nom',\n",
      "       ' com_el.prov', ' com_el.d_rcv', ' com_el.st_cur', ' orbit.orb_id',\n",
      "       ' orbit.nbr_sat_pl', ' orbit.apog_km', ' orbit.perig_km',\n",
      "       ' orbit.op_ht_km', ' s_beam.emi_rcp', ' s_beam.beam_name',\n",
      "       ' grp.grp_id', ' grp.freq_min', ' grp.freq_max', ' grp.bdwdth',\n",
      "       ' grp.d_inuse', ' grp.d_reg_limit', ' grp.d_prot_eff', ' grp.f_biu',\n",
      "       ' emiss.seq_no', ' emiss.pwr_ds_max', ' emiss.design_emi',\n",
      "       ' carrier_fr.freq_carr', ' channel.bandwidth', ' channel.freq_min',\n",
      "       ' channel.freq_max', 'tpaconflicts', 'percentoverlap',\n",
      "       'TPA1.401.95525-401.96475_R', 'TPA1.401.9501-401.9699_R',\n",
      "       'TPA1.2055.475-2055.725_R', 'TPA1.401.89525-401.90475_R',\n",
      "       'TPA1.2237.0-2238.0_E', 'TPA1.2065.575-2065.825_R',\n",
      "       'TPA1.401.9501-401.9699_E', 'TPA1.401.8901-401.9099_R',\n",
      "       'TPA1.401.95525-401.96475_E', 'TPA1.401.8901-401.9099_E',\n",
      "       'TPA1.401.89525-401.90475_E', 'TPA1.2202.4-2203.4_E'],\n",
      "      dtype='object')\n"
     ]
    }
   ],
   "execution_count": 12
  },
  {
   "cell_type": "code",
   "id": "2fc2ec1588bdaf34",
   "metadata": {
    "ExecuteTime": {
     "end_time": "2025-05-12T22:35:29.705669Z",
     "start_time": "2025-05-12T22:35:29.690034Z"
    }
   },
   "source": [
    "# function to extract the table\n",
    "# Initialize pandarallel\n",
    "num_logical_processors = os.cpu_count()\n",
    "pandarallel.initialize(nb_workers=num_logical_processors, progress_bar=True)\n",
    "\n",
    "\n",
    "def pivot_table(df):\n",
    "    # Columns to keep\n",
    "    cols = [\n",
    "        ' com_el.sat_name',\n",
    "        ' s_beam.beam_name',\n",
    "        ' carrier_fr.freq_carr',\n",
    "        ' channel.bandwidth',\n",
    "        'tpaconflicts',\n",
    "        'percentoverlap'\n",
    "    ]\n",
    "    lookupnames = [\n",
    "        'UHFUP fc=401.96MHz BW=9.5kHz',\n",
    "        'UHFUP fc=401.96MHz BW=19.8kHz',\n",
    "        'SUP fc=2055.6MHz BW=250kHz',\n",
    "        'UHFUP fc=401.90MHz BW=9.5kHz',\n",
    "        'SDN fc=2237.5MHz BW=1MHz',\n",
    "        'SUP fc=2065.7MHz BW=250kHz',\n",
    "        'UHFDN fc=401.96MHz BW=19.8kHz',\n",
    "        'UHFUP fc=401.90MHz BW=19.8kHz',\n",
    "        'UHFDN fc=401.96MHz BW=9.5kHz',\n",
    "        'UHFDN fc=401.90MHz BW=19.8kHz',\n",
    "        'UHFDN fc=401.90MHz BW=9.5kHz',\n",
    "        'SDN fc=2202.9MHz BW=1MHz'\n",
    "    ]\n",
    "\n",
    "    df1 = df[cols].copy()\n",
    "    if df1.empty:\n",
    "        print(\"❗ DataFrame is empty\")\n",
    "        return pd.DataFrame()\n",
    "\n",
    "    def functiontoapply(row):\n",
    "        import pandas as pd\n",
    "        satname = row[' com_el.sat_name'].strip()\n",
    "        beamname = row[' s_beam.beam_name'].strip()\n",
    "        full_id = f\"{satname} - {beamname}\"\n",
    "\n",
    "        con = str(row['tpaconflicts']).split(':')\n",
    "        percent_str = str(row['percentoverlap']).split(':')\n",
    "        \n",
    "        conflict_idxs = [] \n",
    "        for c in con[:-1]:\n",
    "            conflict_idxs.append(int(c))\n",
    "        percents = str(row['percentoverlap']).split(':')\n",
    "        \n",
    "        \n",
    "                \n",
    "        if not conflict_idxs or not percents:\n",
    "            return pd.DataFrame(columns=['sat_beam', 'TPA1_beam', 'percent', 'count'])\n",
    "        # else:\n",
    "        #     print(conflict_idxs, percents)\n",
    "\n",
    "        min_len = min(len(conflict_idxs), len(percents))\n",
    "        fc = float(row[' carrier_fr.freq_carr'])\n",
    "        bw = float(row[' channel.bandwidth'])  # Hz\n",
    "        data = [\n",
    "            {\n",
    "                'sat_beam': full_id,\n",
    "                'TPA1_beam': lookupnames[conflict_idxs[i]],\n",
    "                'percent': percents[i],\n",
    "                'count': 1,\n",
    "                'fc': fc,\n",
    "                'bw': bw\n",
    "            }\n",
    "            for i in range(min_len)\n",
    "                if 0 <= conflict_idxs[i] < len(lookupnames)\n",
    "        ]\n",
    "\n",
    "        return pd.DataFrame(data)\n",
    "\n",
    "    # Apply in parallel or serial depending on size\n",
    "    if len(df1) > 24:\n",
    "        expanded_rows = df1.parallel_apply(functiontoapply, axis=1)\n",
    "    else:\n",
    "        tqdm.pandas()\n",
    "        expanded_rows = df1.apply(functiontoapply, axis=1)\n",
    "    # tqdm.pandas()\n",
    "    # expanded_rows = df1.apply(functiontoapply, axis=1)\n",
    "    \n",
    "    # Flatten the list of DataFrames\n",
    "    df_expanded = pd.concat(expanded_rows.tolist(), ignore_index=True)\n",
    "    \n",
    "\n",
    "    if df_expanded.empty:\n",
    "        print(\"⚠️ No valid conflict data found.\")\n",
    "        return pd.DataFrame()\n",
    "\n",
    "    # Get the row with max percent per group\n",
    "    df_expanded.sort_values('percent', ascending=False, inplace=True)\n",
    "    grouped = df_expanded.groupby(['sat_beam', 'TPA1_beam'], as_index=False).first()\n",
    "\n",
    "    # Combine into a readable string\n",
    "    grouped['pivot_value'] = grouped.apply(\n",
    "        lambda row: str(f\"{row.percent}% @ fc={row.fc:.3f}MHz, BW={row.bw / 1e6:.3f}MHz\" if row.bw >= 1e6 else f\"{row.percent}% @ fc={row.fc:.3f}MHz, BW={row.bw / 1e3:.3f}kHz\"), axis=1\n",
    "    )\n",
    "\n",
    "    # Create pivot\n",
    "    pivot = grouped.pivot_table(\n",
    "        index='sat_beam',\n",
    "        columns='TPA1_beam',\n",
    "        values='pivot_value',\n",
    "        aggfunc='first',\n",
    "        fill_value=''\n",
    "    )\n",
    "\n",
    "    return pivot\n"
   ],
   "outputs": [
    {
     "name": "stdout",
     "output_type": "stream",
     "text": [
      "INFO: Pandarallel will run on 16 workers.\n",
      "INFO: Pandarallel will use standard multiprocessing data transfer (pipe) to transfer data between the main process and workers.\n",
      "\n",
      "WARNING: You are on Windows. If you detect any issue with pandarallel, be sure you checked out the Troubleshooting page:\n",
      "https://nalepae.github.io/pandarallel/troubleshooting/\n"
     ]
    }
   ],
   "execution_count": 13
  },
  {
   "cell_type": "code",
   "id": "6da3a4f1924925c0",
   "metadata": {
    "ExecuteTime": {
     "end_time": "2025-05-12T22:35:32.431322Z",
     "start_time": "2025-05-12T22:35:29.705669Z"
    }
   },
   "source": [
    "# usage\n",
    "\n",
    "pivot_df = pivot_table(df)\n",
    "pivot_df.to_csv('conflict_percent_pivot.csv')\n",
    "display(pivot_df)\n",
    "    "
   ],
   "outputs": [
    {
     "data": {
      "text/plain": [
       "VBox(children=(HBox(children=(IntProgress(value=0, description='0.00%', max=35), Label(value='0 / 35'))), HBox…"
      ],
      "application/vnd.jupyter.widget-view+json": {
       "version_major": 2,
       "version_minor": 0,
       "model_id": "cc522325337e4388b8c682bdead84f4c"
      }
     },
     "metadata": {},
     "output_type": "display_data"
    },
    {
     "data": {
      "text/plain": [
       "TPA1_beam                             SDN fc=2237.5MHz BW=1MHz  \\\n",
       "sat_beam                                                         \n",
       "HISPASAT-LEO-ATL-A - 2SRX                                        \n",
       "HISPASAT-LEO-ATL-A - 2STX  10.0% @ fc=2240.000MHz, BW=5.000MHz   \n",
       "HISPASAT-LEO-ATL-A - SRX                                         \n",
       "HISPASAT-LEO-ATL-A - STX   10.0% @ fc=2240.000MHz, BW=5.000MHz   \n",
       "SATLNET-03 - SDL3          11.0% @ fc=2235.000MHz, BW=5.100MHz   \n",
       "SATLNET-03 - SUL4                                                \n",
       "\n",
       "TPA1_beam                           SUP fc=2055.6MHz BW=250kHz  \\\n",
       "sat_beam                                                         \n",
       "HISPASAT-LEO-ATL-A - 2SRX                                        \n",
       "HISPASAT-LEO-ATL-A - 2STX                                        \n",
       "HISPASAT-LEO-ATL-A - SRX                                         \n",
       "HISPASAT-LEO-ATL-A - STX                                         \n",
       "SATLNET-03 - SDL3                                                \n",
       "SATLNET-03 - SUL4          12.0% @ fc=2055.000MHz, BW=2.100MHz   \n",
       "\n",
       "TPA1_beam                          SUP fc=2065.7MHz BW=250kHz  \n",
       "sat_beam                                                       \n",
       "HISPASAT-LEO-ATL-A - 2SRX  6.0% @ fc=2067.000MHz, BW=4.000MHz  \n",
       "HISPASAT-LEO-ATL-A - 2STX                                      \n",
       "HISPASAT-LEO-ATL-A - SRX   6.0% @ fc=2067.000MHz, BW=4.000MHz  \n",
       "HISPASAT-LEO-ATL-A - STX                                       \n",
       "SATLNET-03 - SDL3                                              \n",
       "SATLNET-03 - SUL4                                              "
      ],
      "text/html": [
       "<div>\n",
       "<style scoped>\n",
       "    .dataframe tbody tr th:only-of-type {\n",
       "        vertical-align: middle;\n",
       "    }\n",
       "\n",
       "    .dataframe tbody tr th {\n",
       "        vertical-align: top;\n",
       "    }\n",
       "\n",
       "    .dataframe thead th {\n",
       "        text-align: right;\n",
       "    }\n",
       "</style>\n",
       "<table border=\"1\" class=\"dataframe\">\n",
       "  <thead>\n",
       "    <tr style=\"text-align: right;\">\n",
       "      <th>TPA1_beam</th>\n",
       "      <th>SDN fc=2237.5MHz BW=1MHz</th>\n",
       "      <th>SUP fc=2055.6MHz BW=250kHz</th>\n",
       "      <th>SUP fc=2065.7MHz BW=250kHz</th>\n",
       "    </tr>\n",
       "    <tr>\n",
       "      <th>sat_beam</th>\n",
       "      <th></th>\n",
       "      <th></th>\n",
       "      <th></th>\n",
       "    </tr>\n",
       "  </thead>\n",
       "  <tbody>\n",
       "    <tr>\n",
       "      <th>HISPASAT-LEO-ATL-A - 2SRX</th>\n",
       "      <td></td>\n",
       "      <td></td>\n",
       "      <td>6.0% @ fc=2067.000MHz, BW=4.000MHz</td>\n",
       "    </tr>\n",
       "    <tr>\n",
       "      <th>HISPASAT-LEO-ATL-A - 2STX</th>\n",
       "      <td>10.0% @ fc=2240.000MHz, BW=5.000MHz</td>\n",
       "      <td></td>\n",
       "      <td></td>\n",
       "    </tr>\n",
       "    <tr>\n",
       "      <th>HISPASAT-LEO-ATL-A - SRX</th>\n",
       "      <td></td>\n",
       "      <td></td>\n",
       "      <td>6.0% @ fc=2067.000MHz, BW=4.000MHz</td>\n",
       "    </tr>\n",
       "    <tr>\n",
       "      <th>HISPASAT-LEO-ATL-A - STX</th>\n",
       "      <td>10.0% @ fc=2240.000MHz, BW=5.000MHz</td>\n",
       "      <td></td>\n",
       "      <td></td>\n",
       "    </tr>\n",
       "    <tr>\n",
       "      <th>SATLNET-03 - SDL3</th>\n",
       "      <td>11.0% @ fc=2235.000MHz, BW=5.100MHz</td>\n",
       "      <td></td>\n",
       "      <td></td>\n",
       "    </tr>\n",
       "    <tr>\n",
       "      <th>SATLNET-03 - SUL4</th>\n",
       "      <td></td>\n",
       "      <td>12.0% @ fc=2055.000MHz, BW=2.100MHz</td>\n",
       "      <td></td>\n",
       "    </tr>\n",
       "  </tbody>\n",
       "</table>\n",
       "</div>"
      ]
     },
     "metadata": {},
     "output_type": "display_data"
    }
   ],
   "execution_count": 14
  },
  {
   "cell_type": "code",
   "id": "d361b65ca913144c",
   "metadata": {
    "ExecuteTime": {
     "end_time": "2025-05-12T22:47:17.336070Z",
     "start_time": "2025-05-12T22:35:32.431322Z"
    }
   },
   "source": [
    "import os\n",
    "\n",
    "# === CONFIG ===\n",
    "tpafile = './databases/TPAtable.csv'\n",
    "tablesfolder = 'countriestables'\n",
    "outfolder = 'adm_conflicts'\n",
    "countrieslistfile = 'countrieslist.csv'\n",
    "\n",
    "# Load country codes\n",
    "with open(countrieslistfile, 'r') as f:\n",
    "    countries = f.read().strip().split(', ')\n",
    "\n",
    "\n",
    "# === PROCESS EACH COUNTRY ===\n",
    "for ccode in countries:\n",
    "    print(f\"\\n=== Processing {ccode} ===\")\n",
    "    \n",
    "    # outfolder (must already exist)\n",
    "    country_outfolder = os.path.join(outfolder, ccode)\n",
    "    \n",
    "    # Read data for the 'expanded_combined_tables_conflicts_lettersatnames.csv' file\n",
    "    adm = ccode\n",
    "    file = 'expanded_combined_tables_conflicts_lettersatnames.csv'\n",
    "    filepath = os.path.join('.', 'adm_conflicts', adm, file)\n",
    "    df = pd.read_csv(filepath, low_memory=False)\n",
    "\n",
    "    # Generate summary pivot table\n",
    "    summary_pivot = pivot_table(df)\n",
    "    outpath = os.path.join(country_outfolder, 'summary_pivot.csv')\n",
    "    summary_pivot.to_csv(outpath, index=True)\n",
    "    print('Summary pivot saved to ', outpath)\n",
    "\n",
    "    # Read data for the 'expanded_combined_tables_conflicts_othersatnames.csv' file\n",
    "    file = 'expanded_combined_tables_conflicts_othersatnames.csv'\n",
    "    filepath = os.path.join('.', 'adm_conflicts', adm, file)\n",
    "    df = pd.read_csv(filepath, low_memory=False)\n",
    "\n",
    "    # Generate summary pivot table for other satellite names\n",
    "    summary_pivot_othersatnames = pivot_table(df)\n",
    "    outpath = os.path.join(country_outfolder, 'summary_pivot_othersatnames.csv')\n",
    "    summary_pivot_othersatnames.to_csv(outpath, index=True)\n",
    "    \n",
    "    print('Summary pivot for other satellite names saved to ', outpath)\n"
   ],
   "outputs": [
    {
     "name": "stdout",
     "output_type": "stream",
     "text": [
      "\n",
      "=== Processing AFS ===\n",
      "⚠️ No valid conflict data found.\n",
      "Summary pivot saved to  adm_conflicts\\AFS\\summary_pivot.csv\n",
      "⚠️ No valid conflict data found.\n",
      "Summary pivot for other satellite names saved to  adm_conflicts\\AFS\\summary_pivot_othersatnames.csv\n",
      "\n",
      "=== Processing ARS ===\n"
     ]
    },
    {
     "data": {
      "text/plain": [
       "VBox(children=(HBox(children=(IntProgress(value=0, description='0.00%', max=721), Label(value='0 / 721'))), HB…"
      ],
      "application/vnd.jupyter.widget-view+json": {
       "version_major": 2,
       "version_minor": 0,
       "model_id": "db8fce1a3a9640bca826113ce422878a"
      }
     },
     "metadata": {},
     "output_type": "display_data"
    },
    {
     "name": "stdout",
     "output_type": "stream",
     "text": [
      "Summary pivot saved to  adm_conflicts\\ARS\\summary_pivot.csv\n"
     ]
    },
    {
     "data": {
      "text/plain": [
       "VBox(children=(HBox(children=(IntProgress(value=0, description='0.00%', max=3), Label(value='0 / 3'))), HBox(c…"
      ],
      "application/vnd.jupyter.widget-view+json": {
       "version_major": 2,
       "version_minor": 0,
       "model_id": "c88d1f2afbb44df8bb93c80c29c3eba8"
      }
     },
     "metadata": {},
     "output_type": "display_data"
    },
    {
     "name": "stdout",
     "output_type": "stream",
     "text": [
      "Summary pivot for other satellite names saved to  adm_conflicts\\ARS\\summary_pivot_othersatnames.csv\n",
      "\n",
      "=== Processing AUS ===\n"
     ]
    },
    {
     "data": {
      "text/plain": [
       "VBox(children=(HBox(children=(IntProgress(value=0, description='0.00%', max=21881), Label(value='0 / 21881')))…"
      ],
      "application/vnd.jupyter.widget-view+json": {
       "version_major": 2,
       "version_minor": 0,
       "model_id": "0f6e23e9583c4b4fba9e9f143f7394e7"
      }
     },
     "metadata": {},
     "output_type": "display_data"
    },
    {
     "name": "stdout",
     "output_type": "stream",
     "text": [
      "Summary pivot saved to  adm_conflicts\\AUS\\summary_pivot.csv\n"
     ]
    },
    {
     "data": {
      "text/plain": [
       "VBox(children=(HBox(children=(IntProgress(value=0, description='0.00%', max=2), Label(value='0 / 2'))), HBox(c…"
      ],
      "application/vnd.jupyter.widget-view+json": {
       "version_major": 2,
       "version_minor": 0,
       "model_id": "bbb0b015b85649488380e824cb82bd9a"
      }
     },
     "metadata": {},
     "output_type": "display_data"
    },
    {
     "name": "stdout",
     "output_type": "stream",
     "text": [
      "Summary pivot for other satellite names saved to  adm_conflicts\\AUS\\summary_pivot_othersatnames.csv\n",
      "\n",
      "=== Processing CAN ===\n"
     ]
    },
    {
     "data": {
      "text/plain": [
       "VBox(children=(HBox(children=(IntProgress(value=0, description='0.00%', max=34), Label(value='0 / 34'))), HBox…"
      ],
      "application/vnd.jupyter.widget-view+json": {
       "version_major": 2,
       "version_minor": 0,
       "model_id": "b526fea60c4b4ca383f0d999078db425"
      }
     },
     "metadata": {},
     "output_type": "display_data"
    },
    {
     "name": "stdout",
     "output_type": "stream",
     "text": [
      "Summary pivot saved to  adm_conflicts\\CAN\\summary_pivot.csv\n"
     ]
    },
    {
     "data": {
      "text/plain": [
       "VBox(children=(HBox(children=(IntProgress(value=0, description='0.00%', max=7), Label(value='0 / 7'))), HBox(c…"
      ],
      "application/vnd.jupyter.widget-view+json": {
       "version_major": 2,
       "version_minor": 0,
       "model_id": "c3a840322b164b21bdbe335a62490b58"
      }
     },
     "metadata": {},
     "output_type": "display_data"
    },
    {
     "name": "stdout",
     "output_type": "stream",
     "text": [
      "Summary pivot for other satellite names saved to  adm_conflicts\\CAN\\summary_pivot_othersatnames.csv\n",
      "\n",
      "=== Processing CHN ===\n"
     ]
    },
    {
     "data": {
      "text/plain": [
       "VBox(children=(HBox(children=(IntProgress(value=0, description='0.00%', max=20084), Label(value='0 / 20084')))…"
      ],
      "application/vnd.jupyter.widget-view+json": {
       "version_major": 2,
       "version_minor": 0,
       "model_id": "f2078872e25f4e30b62896751f7c6821"
      }
     },
     "metadata": {},
     "output_type": "display_data"
    },
    {
     "name": "stdout",
     "output_type": "stream",
     "text": [
      "Summary pivot saved to  adm_conflicts\\CHN\\summary_pivot.csv\n"
     ]
    },
    {
     "data": {
      "text/plain": [
       "VBox(children=(HBox(children=(IntProgress(value=0, description='0.00%', max=25942), Label(value='0 / 25942')))…"
      ],
      "application/vnd.jupyter.widget-view+json": {
       "version_major": 2,
       "version_minor": 0,
       "model_id": "7557840d7f254810a07f04d9435065d4"
      }
     },
     "metadata": {},
     "output_type": "display_data"
    },
    {
     "name": "stdout",
     "output_type": "stream",
     "text": [
      "Summary pivot for other satellite names saved to  adm_conflicts\\CHN\\summary_pivot_othersatnames.csv\n",
      "\n",
      "=== Processing D ===\n"
     ]
    },
    {
     "data": {
      "text/plain": [
       "VBox(children=(HBox(children=(IntProgress(value=0, description='0.00%', max=42632), Label(value='0 / 42632')))…"
      ],
      "application/vnd.jupyter.widget-view+json": {
       "version_major": 2,
       "version_minor": 0,
       "model_id": "4269944c7f23491cbf095e01ff385208"
      }
     },
     "metadata": {},
     "output_type": "display_data"
    },
    {
     "name": "stdout",
     "output_type": "stream",
     "text": [
      "Summary pivot saved to  adm_conflicts\\D\\summary_pivot.csv\n"
     ]
    },
    {
     "data": {
      "text/plain": [
       "VBox(children=(HBox(children=(IntProgress(value=0, description='0.00%', max=210), Label(value='0 / 210'))), HB…"
      ],
      "application/vnd.jupyter.widget-view+json": {
       "version_major": 2,
       "version_minor": 0,
       "model_id": "68fcd554dde34c5a81fb3d7a9106bc66"
      }
     },
     "metadata": {},
     "output_type": "display_data"
    },
    {
     "name": "stdout",
     "output_type": "stream",
     "text": [
      "Summary pivot for other satellite names saved to  adm_conflicts\\D\\summary_pivot_othersatnames.csv\n",
      "\n",
      "=== Processing E ===\n"
     ]
    },
    {
     "data": {
      "text/plain": [
       "VBox(children=(HBox(children=(IntProgress(value=0, description='0.00%', max=35), Label(value='0 / 35'))), HBox…"
      ],
      "application/vnd.jupyter.widget-view+json": {
       "version_major": 2,
       "version_minor": 0,
       "model_id": "40c48e0d2c4a432ab05171fb64ec8797"
      }
     },
     "metadata": {},
     "output_type": "display_data"
    },
    {
     "name": "stdout",
     "output_type": "stream",
     "text": [
      "Summary pivot saved to  adm_conflicts\\E\\summary_pivot.csv\n"
     ]
    },
    {
     "data": {
      "text/plain": [
       "VBox(children=(HBox(children=(IntProgress(value=0, description='0.00%', max=377), Label(value='0 / 377'))), HB…"
      ],
      "application/vnd.jupyter.widget-view+json": {
       "version_major": 2,
       "version_minor": 0,
       "model_id": "04c8f6ded71042d68102993d22ed159d"
      }
     },
     "metadata": {},
     "output_type": "display_data"
    },
    {
     "name": "stdout",
     "output_type": "stream",
     "text": [
      "Summary pivot for other satellite names saved to  adm_conflicts\\E\\summary_pivot_othersatnames.csv\n",
      "\n",
      "=== Processing EGY ===\n",
      "❗ DataFrame is empty\n",
      "Summary pivot saved to  adm_conflicts\\EGY\\summary_pivot.csv\n"
     ]
    },
    {
     "data": {
      "text/plain": [
       "VBox(children=(HBox(children=(IntProgress(value=0, description='0.00%', max=3), Label(value='0 / 3'))), HBox(c…"
      ],
      "application/vnd.jupyter.widget-view+json": {
       "version_major": 2,
       "version_minor": 0,
       "model_id": "2bc35f6fe9cd4effb5b03880b0c0bb3b"
      }
     },
     "metadata": {},
     "output_type": "display_data"
    },
    {
     "name": "stdout",
     "output_type": "stream",
     "text": [
      "Summary pivot for other satellite names saved to  adm_conflicts\\EGY\\summary_pivot_othersatnames.csv\n",
      "\n",
      "=== Processing F ===\n"
     ]
    },
    {
     "data": {
      "text/plain": [
       "VBox(children=(HBox(children=(IntProgress(value=0, description='0.00%', max=45), Label(value='0 / 45'))), HBox…"
      ],
      "application/vnd.jupyter.widget-view+json": {
       "version_major": 2,
       "version_minor": 0,
       "model_id": "704949ff2033480cbc6bb2e409330ec5"
      }
     },
     "metadata": {},
     "output_type": "display_data"
    },
    {
     "name": "stdout",
     "output_type": "stream",
     "text": [
      "Summary pivot saved to  adm_conflicts\\F\\summary_pivot.csv\n"
     ]
    },
    {
     "data": {
      "text/plain": [
       "VBox(children=(HBox(children=(IntProgress(value=0, description='0.00%', max=6), Label(value='0 / 6'))), HBox(c…"
      ],
      "application/vnd.jupyter.widget-view+json": {
       "version_major": 2,
       "version_minor": 0,
       "model_id": "1b6cadc381424d3a9166f903f5196cfa"
      }
     },
     "metadata": {},
     "output_type": "display_data"
    },
    {
     "name": "stdout",
     "output_type": "stream",
     "text": [
      "Summary pivot for other satellite names saved to  adm_conflicts\\F\\summary_pivot_othersatnames.csv\n",
      "\n",
      "=== Processing G ===\n"
     ]
    },
    {
     "data": {
      "text/plain": [
       "VBox(children=(HBox(children=(IntProgress(value=0, description='0.00%', max=10488), Label(value='0 / 10488')))…"
      ],
      "application/vnd.jupyter.widget-view+json": {
       "version_major": 2,
       "version_minor": 0,
       "model_id": "fcd0c77e01f04830b7704e159fdb7182"
      }
     },
     "metadata": {},
     "output_type": "display_data"
    },
    {
     "name": "stdout",
     "output_type": "stream",
     "text": [
      "Summary pivot saved to  adm_conflicts\\G\\summary_pivot.csv\n"
     ]
    },
    {
     "data": {
      "text/plain": [
       "VBox(children=(HBox(children=(IntProgress(value=0, description='0.00%', max=29), Label(value='0 / 29'))), HBox…"
      ],
      "application/vnd.jupyter.widget-view+json": {
       "version_major": 2,
       "version_minor": 0,
       "model_id": "08d378dc446643cb8f645071f0d62dbb"
      }
     },
     "metadata": {},
     "output_type": "display_data"
    },
    {
     "name": "stdout",
     "output_type": "stream",
     "text": [
      "Summary pivot for other satellite names saved to  adm_conflicts\\G\\summary_pivot_othersatnames.csv\n",
      "\n",
      "=== Processing GRC ===\n",
      "⚠️ No valid conflict data found.\n",
      "Summary pivot saved to  adm_conflicts\\GRC\\summary_pivot.csv\n",
      "Summary pivot for other satellite names saved to  adm_conflicts\\GRC\\summary_pivot_othersatnames.csv\n",
      "\n",
      "=== Processing HOL ===\n",
      "❗ DataFrame is empty\n",
      "Summary pivot saved to  adm_conflicts\\HOL\\summary_pivot.csv\n",
      "⚠️ No valid conflict data found.\n",
      "Summary pivot for other satellite names saved to  adm_conflicts\\HOL\\summary_pivot_othersatnames.csv\n",
      "\n",
      "=== Processing I ===\n"
     ]
    },
    {
     "data": {
      "text/plain": [
       "VBox(children=(HBox(children=(IntProgress(value=0, description='0.00%', max=113), Label(value='0 / 113'))), HB…"
      ],
      "application/vnd.jupyter.widget-view+json": {
       "version_major": 2,
       "version_minor": 0,
       "model_id": "2a696388a18845c1bb42526ce5b6f2fe"
      }
     },
     "metadata": {},
     "output_type": "display_data"
    },
    {
     "name": "stdout",
     "output_type": "stream",
     "text": [
      "⚠️ No valid conflict data found.\n",
      "Summary pivot saved to  adm_conflicts\\I\\summary_pivot.csv\n"
     ]
    },
    {
     "data": {
      "text/plain": [
       "VBox(children=(HBox(children=(IntProgress(value=0, description='0.00%', max=181), Label(value='0 / 181'))), HB…"
      ],
      "application/vnd.jupyter.widget-view+json": {
       "version_major": 2,
       "version_minor": 0,
       "model_id": "70271ec852fb4a148a7c7a717052cfae"
      }
     },
     "metadata": {},
     "output_type": "display_data"
    },
    {
     "name": "stdout",
     "output_type": "stream",
     "text": [
      "Summary pivot for other satellite names saved to  adm_conflicts\\I\\summary_pivot_othersatnames.csv\n",
      "\n",
      "=== Processing IRN ===\n"
     ]
    },
    {
     "data": {
      "text/plain": [
       "VBox(children=(HBox(children=(IntProgress(value=0, description='0.00%', max=3), Label(value='0 / 3'))), HBox(c…"
      ],
      "application/vnd.jupyter.widget-view+json": {
       "version_major": 2,
       "version_minor": 0,
       "model_id": "98a38fc6251a44d3807eb98d2717a4ec"
      }
     },
     "metadata": {},
     "output_type": "display_data"
    },
    {
     "name": "stdout",
     "output_type": "stream",
     "text": [
      "Summary pivot saved to  adm_conflicts\\IRN\\summary_pivot.csv\n",
      "❗ DataFrame is empty\n",
      "Summary pivot for other satellite names saved to  adm_conflicts\\IRN\\summary_pivot_othersatnames.csv\n",
      "\n",
      "=== Processing ISR ===\n"
     ]
    },
    {
     "data": {
      "text/plain": [
       "VBox(children=(HBox(children=(IntProgress(value=0, description='0.00%', max=18), Label(value='0 / 18'))), HBox…"
      ],
      "application/vnd.jupyter.widget-view+json": {
       "version_major": 2,
       "version_minor": 0,
       "model_id": "d2a4ea0da6814b6fa8b8e33ce1918426"
      }
     },
     "metadata": {},
     "output_type": "display_data"
    },
    {
     "name": "stdout",
     "output_type": "stream",
     "text": [
      "Summary pivot saved to  adm_conflicts\\ISR\\summary_pivot.csv\n"
     ]
    },
    {
     "data": {
      "text/plain": [
       "VBox(children=(HBox(children=(IntProgress(value=0, description='0.00%', max=4), Label(value='0 / 4'))), HBox(c…"
      ],
      "application/vnd.jupyter.widget-view+json": {
       "version_major": 2,
       "version_minor": 0,
       "model_id": "c27ac297eaa0451e9eb56ec40561f9a0"
      }
     },
     "metadata": {},
     "output_type": "display_data"
    },
    {
     "name": "stdout",
     "output_type": "stream",
     "text": [
      "Summary pivot for other satellite names saved to  adm_conflicts\\ISR\\summary_pivot_othersatnames.csv\n",
      "\n",
      "=== Processing J ===\n"
     ]
    },
    {
     "data": {
      "text/plain": [
       "VBox(children=(HBox(children=(IntProgress(value=0, description='0.00%', max=34), Label(value='0 / 34'))), HBox…"
      ],
      "application/vnd.jupyter.widget-view+json": {
       "version_major": 2,
       "version_minor": 0,
       "model_id": "3f07cc4bbe5e47358ee27e9a0346f041"
      }
     },
     "metadata": {},
     "output_type": "display_data"
    },
    {
     "name": "stdout",
     "output_type": "stream",
     "text": [
      "Summary pivot saved to  adm_conflicts\\J\\summary_pivot.csv\n"
     ]
    },
    {
     "data": {
      "text/plain": [
       "VBox(children=(HBox(children=(IntProgress(value=0, description='0.00%', max=32), Label(value='0 / 32'))), HBox…"
      ],
      "application/vnd.jupyter.widget-view+json": {
       "version_major": 2,
       "version_minor": 0,
       "model_id": "42747e8f8d094116b435cf51f1a55b9a"
      }
     },
     "metadata": {},
     "output_type": "display_data"
    },
    {
     "name": "stdout",
     "output_type": "stream",
     "text": [
      "Summary pivot for other satellite names saved to  adm_conflicts\\J\\summary_pivot_othersatnames.csv\n",
      "\n",
      "=== Processing KAZ ===\n",
      "⚠️ No valid conflict data found.\n",
      "Summary pivot saved to  adm_conflicts\\KAZ\\summary_pivot.csv\n",
      "❗ DataFrame is empty\n",
      "Summary pivot for other satellite names saved to  adm_conflicts\\KAZ\\summary_pivot_othersatnames.csv\n",
      "\n",
      "=== Processing KOR ===\n"
     ]
    },
    {
     "data": {
      "text/plain": [
       "VBox(children=(HBox(children=(IntProgress(value=0, description='0.00%', max=175), Label(value='0 / 175'))), HB…"
      ],
      "application/vnd.jupyter.widget-view+json": {
       "version_major": 2,
       "version_minor": 0,
       "model_id": "80d19d2dab704ec9ae720c61694bc798"
      }
     },
     "metadata": {},
     "output_type": "display_data"
    },
    {
     "name": "stdout",
     "output_type": "stream",
     "text": [
      "Summary pivot saved to  adm_conflicts\\KOR\\summary_pivot.csv\n"
     ]
    },
    {
     "data": {
      "text/plain": [
       "VBox(children=(HBox(children=(IntProgress(value=0, description='0.00%', max=181), Label(value='0 / 181'))), HB…"
      ],
      "application/vnd.jupyter.widget-view+json": {
       "version_major": 2,
       "version_minor": 0,
       "model_id": "6eb6b50814284c0fa18c067f42baad25"
      }
     },
     "metadata": {},
     "output_type": "display_data"
    },
    {
     "name": "stdout",
     "output_type": "stream",
     "text": [
      "Summary pivot for other satellite names saved to  adm_conflicts\\KOR\\summary_pivot_othersatnames.csv\n",
      "\n",
      "=== Processing LUX ===\n"
     ]
    },
    {
     "data": {
      "text/plain": [
       "VBox(children=(HBox(children=(IntProgress(value=0, description='0.00%', max=584), Label(value='0 / 584'))), HB…"
      ],
      "application/vnd.jupyter.widget-view+json": {
       "version_major": 2,
       "version_minor": 0,
       "model_id": "08ac72bb1de045b68787fcc31d62d7db"
      }
     },
     "metadata": {},
     "output_type": "display_data"
    },
    {
     "name": "stdout",
     "output_type": "stream",
     "text": [
      "Summary pivot saved to  adm_conflicts\\LUX\\summary_pivot.csv\n"
     ]
    },
    {
     "data": {
      "text/plain": [
       "VBox(children=(HBox(children=(IntProgress(value=0, description='0.00%', max=89), Label(value='0 / 89'))), HBox…"
      ],
      "application/vnd.jupyter.widget-view+json": {
       "version_major": 2,
       "version_minor": 0,
       "model_id": "f6c65e0bb1654965b037c87f1b0a9502"
      }
     },
     "metadata": {},
     "output_type": "display_data"
    },
    {
     "name": "stdout",
     "output_type": "stream",
     "text": [
      "Summary pivot for other satellite names saved to  adm_conflicts\\LUX\\summary_pivot_othersatnames.csv\n",
      "\n",
      "=== Processing MLA ===\n",
      "❗ DataFrame is empty\n",
      "Summary pivot saved to  adm_conflicts\\MLA\\summary_pivot.csv\n"
     ]
    },
    {
     "data": {
      "text/plain": [
       "VBox(children=(HBox(children=(IntProgress(value=0, description='0.00%', max=2), Label(value='0 / 2'))), HBox(c…"
      ],
      "application/vnd.jupyter.widget-view+json": {
       "version_major": 2,
       "version_minor": 0,
       "model_id": "f22ddc823006417ba17eb4ec668db179"
      }
     },
     "metadata": {},
     "output_type": "display_data"
    },
    {
     "name": "stdout",
     "output_type": "stream",
     "text": [
      "⚠️ No valid conflict data found.\n",
      "Summary pivot for other satellite names saved to  adm_conflicts\\MLA\\summary_pivot_othersatnames.csv\n",
      "\n",
      "=== Processing MRC ===\n",
      "⚠️ No valid conflict data found.\n",
      "Summary pivot saved to  adm_conflicts\\MRC\\summary_pivot.csv\n",
      "⚠️ No valid conflict data found.\n",
      "Summary pivot for other satellite names saved to  adm_conflicts\\MRC\\summary_pivot_othersatnames.csv\n",
      "\n",
      "=== Processing NOR ===\n",
      "⚠️ No valid conflict data found.\n",
      "Summary pivot saved to  adm_conflicts\\NOR\\summary_pivot.csv\n"
     ]
    },
    {
     "data": {
      "text/plain": [
       "VBox(children=(HBox(children=(IntProgress(value=0, description='0.00%', max=25), Label(value='0 / 25'))), HBox…"
      ],
      "application/vnd.jupyter.widget-view+json": {
       "version_major": 2,
       "version_minor": 0,
       "model_id": "c5de93451f7c4669ae1fc7d8205f22dc"
      }
     },
     "metadata": {},
     "output_type": "display_data"
    },
    {
     "name": "stdout",
     "output_type": "stream",
     "text": [
      "Summary pivot for other satellite names saved to  adm_conflicts\\NOR\\summary_pivot_othersatnames.csv\n",
      "\n",
      "=== Processing PAK ===\n"
     ]
    },
    {
     "data": {
      "text/plain": [
       "VBox(children=(HBox(children=(IntProgress(value=0, description='0.00%', max=66), Label(value='0 / 66'))), HBox…"
      ],
      "application/vnd.jupyter.widget-view+json": {
       "version_major": 2,
       "version_minor": 0,
       "model_id": "d61417082a0d44caa65ddc065694c510"
      }
     },
     "metadata": {},
     "output_type": "display_data"
    },
    {
     "name": "stdout",
     "output_type": "stream",
     "text": [
      "Summary pivot saved to  adm_conflicts\\PAK\\summary_pivot.csv\n"
     ]
    },
    {
     "data": {
      "text/plain": [
       "VBox(children=(HBox(children=(IntProgress(value=0, description='0.00%', max=9), Label(value='0 / 9'))), HBox(c…"
      ],
      "application/vnd.jupyter.widget-view+json": {
       "version_major": 2,
       "version_minor": 0,
       "model_id": "012eee8c26db4dcdbe698468ef8d6121"
      }
     },
     "metadata": {},
     "output_type": "display_data"
    },
    {
     "name": "stdout",
     "output_type": "stream",
     "text": [
      "Summary pivot for other satellite names saved to  adm_conflicts\\PAK\\summary_pivot_othersatnames.csv\n",
      "\n",
      "=== Processing POR ===\n",
      "⚠️ No valid conflict data found.\n",
      "Summary pivot saved to  adm_conflicts\\POR\\summary_pivot.csv\n",
      "⚠️ No valid conflict data found.\n",
      "Summary pivot for other satellite names saved to  adm_conflicts\\POR\\summary_pivot_othersatnames.csv\n",
      "\n",
      "=== Processing RUS ===\n"
     ]
    },
    {
     "data": {
      "text/plain": [
       "VBox(children=(HBox(children=(IntProgress(value=0, description='0.00%', max=558), Label(value='0 / 558'))), HB…"
      ],
      "application/vnd.jupyter.widget-view+json": {
       "version_major": 2,
       "version_minor": 0,
       "model_id": "5200d8dface64cde9fe4a501775a09e0"
      }
     },
     "metadata": {},
     "output_type": "display_data"
    },
    {
     "name": "stdout",
     "output_type": "stream",
     "text": [
      "Summary pivot saved to  adm_conflicts\\RUS\\summary_pivot.csv\n",
      "❗ DataFrame is empty\n",
      "Summary pivot for other satellite names saved to  adm_conflicts\\RUS\\summary_pivot_othersatnames.csv\n",
      "\n",
      "=== Processing SLM ===\n",
      "❗ DataFrame is empty\n",
      "Summary pivot saved to  adm_conflicts\\SLM\\summary_pivot.csv\n"
     ]
    },
    {
     "data": {
      "text/plain": [
       "VBox(children=(HBox(children=(IntProgress(value=0, description='0.00%', max=84), Label(value='0 / 84'))), HBox…"
      ],
      "application/vnd.jupyter.widget-view+json": {
       "version_major": 2,
       "version_minor": 0,
       "model_id": "270ae13f63be4f0699720becb37bfeab"
      }
     },
     "metadata": {},
     "output_type": "display_data"
    },
    {
     "name": "stdout",
     "output_type": "stream",
     "text": [
      "⚠️ No valid conflict data found.\n",
      "Summary pivot for other satellite names saved to  adm_conflicts\\SLM\\summary_pivot_othersatnames.csv\n",
      "\n",
      "=== Processing THA ===\n"
     ]
    },
    {
     "data": {
      "text/plain": [
       "VBox(children=(HBox(children=(IntProgress(value=0, description='0.00%', max=55), Label(value='0 / 55'))), HBox…"
      ],
      "application/vnd.jupyter.widget-view+json": {
       "version_major": 2,
       "version_minor": 0,
       "model_id": "f8a6c42aa7084128b7b3bfb249f68eca"
      }
     },
     "metadata": {},
     "output_type": "display_data"
    },
    {
     "name": "stdout",
     "output_type": "stream",
     "text": [
      "Summary pivot saved to  adm_conflicts\\THA\\summary_pivot.csv\n",
      "❗ DataFrame is empty\n",
      "Summary pivot for other satellite names saved to  adm_conflicts\\THA\\summary_pivot_othersatnames.csv\n",
      "\n",
      "=== Processing USA ===\n",
      "❗ DataFrame is empty\n",
      "Summary pivot saved to  adm_conflicts\\USA\\summary_pivot.csv\n"
     ]
    },
    {
     "data": {
      "text/plain": [
       "VBox(children=(HBox(children=(IntProgress(value=0, description='0.00%', max=2287), Label(value='0 / 2287'))), …"
      ],
      "application/vnd.jupyter.widget-view+json": {
       "version_major": 2,
       "version_minor": 0,
       "model_id": "acb9754760224b759b40ef3ae7e5b9c6"
      }
     },
     "metadata": {},
     "output_type": "display_data"
    },
    {
     "name": "stdout",
     "output_type": "stream",
     "text": [
      "Summary pivot for other satellite names saved to  adm_conflicts\\USA\\summary_pivot_othersatnames.csv\n"
     ]
    }
   ],
   "execution_count": 15
  },
  {
   "cell_type": "code",
   "id": "4fac6ff7-361f-4950-83c9-a5bdd2a03579",
   "metadata": {
    "ExecuteTime": {
     "end_time": "2025-05-12T22:47:17.353047Z",
     "start_time": "2025-05-12T22:47:17.336995Z"
    }
   },
   "source": [],
   "outputs": [],
   "execution_count": 15
  }
 ],
 "metadata": {
  "kernelspec": {
   "display_name": "Python 3 (ipykernel)",
   "language": "python",
   "name": "python3"
  },
  "language_info": {
   "codemirror_mode": {
    "name": "ipython",
    "version": 3
   },
   "file_extension": ".py",
   "mimetype": "text/x-python",
   "name": "python",
   "nbconvert_exporter": "python",
   "pygments_lexer": "ipython3",
   "version": "3.10.0"
  }
 },
 "nbformat": 4,
 "nbformat_minor": 5
}
