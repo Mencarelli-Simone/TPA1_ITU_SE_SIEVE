{
 "cells": [
  {
   "cell_type": "markdown",
   "id": "c54a291f080558ac",
   "metadata": {},
   "source": [
    "follow the same order of operation of summary, but produce a pivot table like the one already existing with:"
   ]
  },
  {
   "cell_type": "code",
   "id": "4c1ca052832288ee",
   "metadata": {
    "ExecuteTime": {
     "end_time": "2025-05-07T10:57:23.428306Z",
     "start_time": "2025-05-07T10:57:21.900258Z"
    }
   },
   "source": [
    "import pandas as pd\n",
    "import numpy as np\n",
    "import os\n",
    "import re\n",
    "import matplotlib.pyplot as plt\n",
    "from tqdm.notebook import tqdm\n",
    "from collections import defaultdict\n",
    "from IPython.display import display\n",
    "from fuzzywuzzy import fuzz, process\n",
    "from ITUtils import country_conflicts_finder\n",
    "from pandarallel import pandarallel\n",
    "\n",
    "# show all columns\n",
    "pd.set_option('display.max_rows', None)"
   ],
   "outputs": [],
   "execution_count": 1
  },
  {
   "cell_type": "code",
   "id": "5c6607c292a69e41",
   "metadata": {
    "ExecuteTime": {
     "end_time": "2025-05-07T10:57:23.479771Z",
     "start_time": "2025-05-07T10:57:23.432081Z"
    }
   },
   "source": [
    "# pick a country and import the conflicts\n",
    "adm = 'E'\n",
    "file = 'expanded_combined_tables_conflicts_lettersatnames.csv'\n",
    "filepath = os.path.join('.', 'adm_conflicts', adm, file)\n",
    "df = pd.read_csv(filepath, low_memory=False)\n",
    "display(df.head())\n",
    "print(df.columns)"
   ],
   "outputs": [
    {
     "data": {
      "text/plain": [
       "   com_el.ntc_id   com_el.tgt_ntc_id  com_el.adm   com_el.ntwk_org  \\\n",
       "0      116545157                 NaN           E               NaN   \n",
       "1      116545157                 NaN           E               NaN   \n",
       "2      121545180                 NaN           E               NaN   \n",
       "3      121545180                 NaN           E               NaN   \n",
       "4      121545180                 NaN           E               NaN   \n",
       "\n",
       "   com_el.sat_name   com_el.long_nom  com_el.prov  com_el.d_rcv  \\\n",
       "0            PAZ_R               NaN       9.1/IA    23.12.2021   \n",
       "1            PAZ_R               NaN       9.1/IA    23.12.2021   \n",
       "2         URDANETA               NaN       9.1/IA    30.07.2021   \n",
       "3         URDANETA               NaN       9.1/IA    30.07.2021   \n",
       "4         URDANETA               NaN       9.1/IA    30.07.2021   \n",
       "\n",
       "    com_el.st_cur   orbit.orb_id  ...  TPA1.2055.475-2055.725_R  \\\n",
       "0              50            1.0  ...                       NaN   \n",
       "1              50            1.0  ...                       NaN   \n",
       "2              50            1.0  ...                       NaN   \n",
       "3              50            1.0  ...                       NaN   \n",
       "4              50            1.0  ...                       NaN   \n",
       "\n",
       "   TPA1.401.89525-401.90475_R  TPA1.2237.0-2238.0_E  TPA1.2065.575-2065.825_R  \\\n",
       "0                         NaN                   NaN                       NaN   \n",
       "1                         NaN                   NaN                       NaN   \n",
       "2                         NaN                   NaN                       NaN   \n",
       "3                         NaN                   NaN                       NaN   \n",
       "4                         NaN                   NaN                       NaN   \n",
       "\n",
       "  TPA1.401.9501-401.9699_E TPA1.401.8901-401.9099_R  \\\n",
       "0                      NaN                      NaN   \n",
       "1                      NaN                      NaN   \n",
       "2                      NaN                      NaN   \n",
       "3                      NaN                      NaN   \n",
       "4                      NaN                      NaN   \n",
       "\n",
       "   TPA1.401.95525-401.96475_E  TPA1.401.8901-401.9099_E  \\\n",
       "0                         NaN                       NaN   \n",
       "1                         NaN                       NaN   \n",
       "2                         NaN                       NaN   \n",
       "3                         NaN                       NaN   \n",
       "4                         NaN                       NaN   \n",
       "\n",
       "   TPA1.401.89525-401.90475_E  TPA1.2202.4-2203.4_E  \n",
       "0                         NaN                   NaN  \n",
       "1                         NaN                   NaN  \n",
       "2                         NaN                   NaN  \n",
       "3                         NaN                   NaN  \n",
       "4                         NaN                   NaN  \n",
       "\n",
       "[5 rows x 45 columns]"
      ],
      "text/html": [
       "<div>\n",
       "<style scoped>\n",
       "    .dataframe tbody tr th:only-of-type {\n",
       "        vertical-align: middle;\n",
       "    }\n",
       "\n",
       "    .dataframe tbody tr th {\n",
       "        vertical-align: top;\n",
       "    }\n",
       "\n",
       "    .dataframe thead th {\n",
       "        text-align: right;\n",
       "    }\n",
       "</style>\n",
       "<table border=\"1\" class=\"dataframe\">\n",
       "  <thead>\n",
       "    <tr style=\"text-align: right;\">\n",
       "      <th></th>\n",
       "      <th>com_el.ntc_id</th>\n",
       "      <th>com_el.tgt_ntc_id</th>\n",
       "      <th>com_el.adm</th>\n",
       "      <th>com_el.ntwk_org</th>\n",
       "      <th>com_el.sat_name</th>\n",
       "      <th>com_el.long_nom</th>\n",
       "      <th>com_el.prov</th>\n",
       "      <th>com_el.d_rcv</th>\n",
       "      <th>com_el.st_cur</th>\n",
       "      <th>orbit.orb_id</th>\n",
       "      <th>...</th>\n",
       "      <th>TPA1.2055.475-2055.725_R</th>\n",
       "      <th>TPA1.401.89525-401.90475_R</th>\n",
       "      <th>TPA1.2237.0-2238.0_E</th>\n",
       "      <th>TPA1.2065.575-2065.825_R</th>\n",
       "      <th>TPA1.401.9501-401.9699_E</th>\n",
       "      <th>TPA1.401.8901-401.9099_R</th>\n",
       "      <th>TPA1.401.95525-401.96475_E</th>\n",
       "      <th>TPA1.401.8901-401.9099_E</th>\n",
       "      <th>TPA1.401.89525-401.90475_E</th>\n",
       "      <th>TPA1.2202.4-2203.4_E</th>\n",
       "    </tr>\n",
       "  </thead>\n",
       "  <tbody>\n",
       "    <tr>\n",
       "      <th>0</th>\n",
       "      <td>116545157</td>\n",
       "      <td>NaN</td>\n",
       "      <td>E</td>\n",
       "      <td>NaN</td>\n",
       "      <td>PAZ_R</td>\n",
       "      <td>NaN</td>\n",
       "      <td>9.1/IA</td>\n",
       "      <td>23.12.2021</td>\n",
       "      <td>50</td>\n",
       "      <td>1.0</td>\n",
       "      <td>...</td>\n",
       "      <td>NaN</td>\n",
       "      <td>NaN</td>\n",
       "      <td>NaN</td>\n",
       "      <td>NaN</td>\n",
       "      <td>NaN</td>\n",
       "      <td>NaN</td>\n",
       "      <td>NaN</td>\n",
       "      <td>NaN</td>\n",
       "      <td>NaN</td>\n",
       "      <td>NaN</td>\n",
       "    </tr>\n",
       "    <tr>\n",
       "      <th>1</th>\n",
       "      <td>116545157</td>\n",
       "      <td>NaN</td>\n",
       "      <td>E</td>\n",
       "      <td>NaN</td>\n",
       "      <td>PAZ_R</td>\n",
       "      <td>NaN</td>\n",
       "      <td>9.1/IA</td>\n",
       "      <td>23.12.2021</td>\n",
       "      <td>50</td>\n",
       "      <td>1.0</td>\n",
       "      <td>...</td>\n",
       "      <td>NaN</td>\n",
       "      <td>NaN</td>\n",
       "      <td>NaN</td>\n",
       "      <td>NaN</td>\n",
       "      <td>NaN</td>\n",
       "      <td>NaN</td>\n",
       "      <td>NaN</td>\n",
       "      <td>NaN</td>\n",
       "      <td>NaN</td>\n",
       "      <td>NaN</td>\n",
       "    </tr>\n",
       "    <tr>\n",
       "      <th>2</th>\n",
       "      <td>121545180</td>\n",
       "      <td>NaN</td>\n",
       "      <td>E</td>\n",
       "      <td>NaN</td>\n",
       "      <td>URDANETA</td>\n",
       "      <td>NaN</td>\n",
       "      <td>9.1/IA</td>\n",
       "      <td>30.07.2021</td>\n",
       "      <td>50</td>\n",
       "      <td>1.0</td>\n",
       "      <td>...</td>\n",
       "      <td>NaN</td>\n",
       "      <td>NaN</td>\n",
       "      <td>NaN</td>\n",
       "      <td>NaN</td>\n",
       "      <td>NaN</td>\n",
       "      <td>NaN</td>\n",
       "      <td>NaN</td>\n",
       "      <td>NaN</td>\n",
       "      <td>NaN</td>\n",
       "      <td>NaN</td>\n",
       "    </tr>\n",
       "    <tr>\n",
       "      <th>3</th>\n",
       "      <td>121545180</td>\n",
       "      <td>NaN</td>\n",
       "      <td>E</td>\n",
       "      <td>NaN</td>\n",
       "      <td>URDANETA</td>\n",
       "      <td>NaN</td>\n",
       "      <td>9.1/IA</td>\n",
       "      <td>30.07.2021</td>\n",
       "      <td>50</td>\n",
       "      <td>1.0</td>\n",
       "      <td>...</td>\n",
       "      <td>NaN</td>\n",
       "      <td>NaN</td>\n",
       "      <td>NaN</td>\n",
       "      <td>NaN</td>\n",
       "      <td>NaN</td>\n",
       "      <td>NaN</td>\n",
       "      <td>NaN</td>\n",
       "      <td>NaN</td>\n",
       "      <td>NaN</td>\n",
       "      <td>NaN</td>\n",
       "    </tr>\n",
       "    <tr>\n",
       "      <th>4</th>\n",
       "      <td>121545180</td>\n",
       "      <td>NaN</td>\n",
       "      <td>E</td>\n",
       "      <td>NaN</td>\n",
       "      <td>URDANETA</td>\n",
       "      <td>NaN</td>\n",
       "      <td>9.1/IA</td>\n",
       "      <td>30.07.2021</td>\n",
       "      <td>50</td>\n",
       "      <td>1.0</td>\n",
       "      <td>...</td>\n",
       "      <td>NaN</td>\n",
       "      <td>NaN</td>\n",
       "      <td>NaN</td>\n",
       "      <td>NaN</td>\n",
       "      <td>NaN</td>\n",
       "      <td>NaN</td>\n",
       "      <td>NaN</td>\n",
       "      <td>NaN</td>\n",
       "      <td>NaN</td>\n",
       "      <td>NaN</td>\n",
       "    </tr>\n",
       "  </tbody>\n",
       "</table>\n",
       "<p>5 rows × 45 columns</p>\n",
       "</div>"
      ]
     },
     "metadata": {},
     "output_type": "display_data"
    },
    {
     "name": "stdout",
     "output_type": "stream",
     "text": [
      "Index(['com_el.ntc_id', ' com_el.tgt_ntc_id', ' com_el.adm',\n",
      "       ' com_el.ntwk_org', ' com_el.sat_name', ' com_el.long_nom',\n",
      "       ' com_el.prov', ' com_el.d_rcv', ' com_el.st_cur', ' orbit.orb_id',\n",
      "       ' orbit.nbr_sat_pl', ' orbit.apog_km', ' orbit.perig_km',\n",
      "       ' orbit.op_ht_km', ' s_beam.emi_rcp', ' s_beam.beam_name',\n",
      "       ' grp.grp_id', ' grp.freq_min', ' grp.freq_max', ' grp.bdwdth',\n",
      "       ' grp.d_inuse', ' grp.d_reg_limit', ' grp.d_prot_eff', ' grp.f_biu',\n",
      "       ' emiss.seq_no', ' emiss.pwr_ds_max', ' emiss.design_emi',\n",
      "       ' carrier_fr.freq_carr', ' channel.bandwidth', ' channel.freq_min',\n",
      "       ' channel.freq_max', 'tpaconflicts', 'percentoverlap',\n",
      "       'TPA1.401.95525-401.96475_R', 'TPA1.401.9501-401.9699_R',\n",
      "       'TPA1.2055.475-2055.725_R', 'TPA1.401.89525-401.90475_R',\n",
      "       'TPA1.2237.0-2238.0_E', 'TPA1.2065.575-2065.825_R',\n",
      "       'TPA1.401.9501-401.9699_E', 'TPA1.401.8901-401.9099_R',\n",
      "       'TPA1.401.95525-401.96475_E', 'TPA1.401.8901-401.9099_E',\n",
      "       'TPA1.401.89525-401.90475_E', 'TPA1.2202.4-2203.4_E'],\n",
      "      dtype='object')\n"
     ]
    }
   ],
   "execution_count": 2
  },
  {
   "cell_type": "code",
   "id": "2fc2ec1588bdaf34",
   "metadata": {
    "ExecuteTime": {
     "end_time": "2025-05-07T10:57:23.496933Z",
     "start_time": "2025-05-07T10:57:23.482264Z"
    }
   },
   "source": [
    "# function to extract the table\n",
    "# Initialize pandarallel\n",
    "num_logical_processors = os.cpu_count()\n",
    "pandarallel.initialize(nb_workers=num_logical_processors, progress_bar=True)\n",
    "\n",
    "\n",
    "def pivot_table(df):\n",
    "    # Columns to keep\n",
    "    cols = [\n",
    "        ' com_el.sat_name',\n",
    "        ' s_beam.beam_name',\n",
    "        ' carrier_fr.freq_carr',\n",
    "        ' channel.bandwidth',\n",
    "        'tpaconflicts',\n",
    "        'percentoverlap'\n",
    "    ]\n",
    "    lookupnames = [\n",
    "        'UHFUP fc=401.96 bw=9K5',\n",
    "        'UHFUP fc=401.96 bw=19K8',\n",
    "        'SUP fc=2055.6 bw=250K',\n",
    "        'UHFUP fc=401.90 bw=9K5',\n",
    "        'SDN fc=2237.5 bw=1M',\n",
    "        'SUP fc=2065.7 bw=250k',\n",
    "        'UHFDN fc=401.96 bw=19K8',\n",
    "        'UHFUP fc=401.90 bw=19K8',\n",
    "        'UHFDN fc=401.96 bw=9K5',\n",
    "        'UHFDN fc=401.90 bw=19K8',\n",
    "        'UHFDN fc=401.90 bw=9K5',\n",
    "        'SDN fc=2202.9 bw=1M'\n",
    "    ]\n",
    "\n",
    "    df1 = df[cols].copy()\n",
    "    if df1.empty:\n",
    "        print(\"❗ DataFrame is empty\")\n",
    "        return pd.DataFrame()\n",
    "\n",
    "    def functiontoapply(row):\n",
    "        satname = row[' com_el.sat_name'].strip()\n",
    "        beamname = row[' s_beam.beam_name'].strip()\n",
    "        full_id = f\"{satname} - {beamname}\"\n",
    "\n",
    "        con = str(row['tpaconflicts']).split(':')\n",
    "        percent_str = str(row['percentoverlap']).split(':')\n",
    "        \n",
    "        conflict_idxs = [] \n",
    "        for c in con[:-1]:\n",
    "            conflict_idxs.append(int(c))\n",
    "        percents = str(row['percentoverlap']).split(':')\n",
    "        \n",
    "        \n",
    "                \n",
    "        if not conflict_idxs or not percents:\n",
    "            return pd.DataFrame(columns=['sat_beam', 'TPA1_beam', 'percent', 'count'])\n",
    "        # else:\n",
    "        #     print(conflict_idxs, percents)\n",
    "\n",
    "        min_len = min(len(conflict_idxs), len(percents))\n",
    "        fc = float(row[' carrier_fr.freq_carr'])\n",
    "        bw = float(row[' channel.bandwidth']) / 1e6  # Hz → MHz\n",
    "        data = [\n",
    "            {\n",
    "                'sat_beam': full_id,\n",
    "                'TPA1_beam': lookupnames[conflict_idxs[i]],\n",
    "                'percent': percents[i],\n",
    "                'count': 1,\n",
    "                'fc': fc,\n",
    "                'bw': bw\n",
    "            }\n",
    "            for i in range(min_len)\n",
    "                if 0 <= conflict_idxs[i] < len(lookupnames)\n",
    "        ]\n",
    "\n",
    "        return pd.DataFrame(data)\n",
    "\n",
    "    # Apply in parallel or serial depending on size\n",
    "    if len(df1) > 24:\n",
    "        expanded_rows = df1.parallel_apply(functiontoapply, axis=1)\n",
    "    else:\n",
    "        tqdm.pandas()\n",
    "        expanded_rows = df1.apply(functiontoapply, axis=1)\n",
    "    \n",
    "    # Flatten the list of DataFrames\n",
    "    df_expanded = pd.concat(expanded_rows.tolist(), ignore_index=True)\n",
    "    \n",
    "\n",
    "    if df_expanded.empty:\n",
    "        print(\"⚠️ No valid conflict data found.\")\n",
    "        return pd.DataFrame()\n",
    "\n",
    "    # Get the row with max percent per group\n",
    "    df_expanded.sort_values('percent', ascending=False, inplace=True)\n",
    "    grouped = df_expanded.groupby(['sat_beam', 'TPA1_beam'], as_index=False).first()\n",
    "\n",
    "    # Combine into a readable string\n",
    "    grouped['pivot_value'] = grouped.apply(\n",
    "        lambda row: f\"{row.percent}% @ fc={row.fc:.3f}MHz, BW={row.bw:.4f}MHz\", axis=1\n",
    "    )\n",
    "\n",
    "    # Create pivot\n",
    "    pivot = grouped.pivot_table(\n",
    "        index='sat_beam',\n",
    "        columns='TPA1_beam',\n",
    "        values='pivot_value',\n",
    "        aggfunc='first',\n",
    "        fill_value=''\n",
    "    )\n",
    "\n",
    "    return pivot\n"
   ],
   "outputs": [
    {
     "name": "stdout",
     "output_type": "stream",
     "text": [
      "INFO: Pandarallel will run on 8 workers.\n",
      "INFO: Pandarallel will use Memory file system to transfer data between the main process and workers.\n"
     ]
    }
   ],
   "execution_count": 3
  },
  {
   "cell_type": "code",
   "id": "6da3a4f1924925c0",
   "metadata": {
    "ExecuteTime": {
     "end_time": "2025-05-07T10:57:23.990694Z",
     "start_time": "2025-05-07T10:57:23.500171Z"
    }
   },
   "source": [
    "# usage\n",
    "pivot_df = pivot_table(df)\n",
    "pivot_df.to_csv('conflict_percent_pivot.csv')\n",
    "display(pivot_df)\n",
    "    "
   ],
   "outputs": [
    {
     "data": {
      "text/plain": [
       "VBox(children=(HBox(children=(IntProgress(value=0, description='0.00%', max=68), Label(value='0 / 68'))), HBox…"
      ],
      "application/vnd.jupyter.widget-view+json": {
       "version_major": 2,
       "version_minor": 0,
       "model_id": "e1c0f956f60b440eafa1bae58a030130"
      }
     },
     "metadata": {},
     "output_type": "display_data"
    },
    {
     "data": {
      "text/plain": [
       "TPA1_beam                                   SDN fc=2237.5 bw=1M  \\\n",
       "sat_beam                                                          \n",
       "HISPASAT-LEO-ATL-A - 2SRX                                         \n",
       "HISPASAT-LEO-ATL-A - 2STX  10.0% @ fc=2240.000MHz, BW=5.0000MHz   \n",
       "HISPASAT-LEO-ATL-A - SRX                                          \n",
       "HISPASAT-LEO-ATL-A - STX   10.0% @ fc=2240.000MHz, BW=5.0000MHz   \n",
       "SATLNET-03 - SDL3          11.0% @ fc=2235.000MHz, BW=5.1000MHz   \n",
       "SATLNET-03 - SUL4                                                 \n",
       "\n",
       "TPA1_beam                                 SUP fc=2055.6 bw=250K  \\\n",
       "sat_beam                                                          \n",
       "HISPASAT-LEO-ATL-A - 2SRX                                         \n",
       "HISPASAT-LEO-ATL-A - 2STX                                         \n",
       "HISPASAT-LEO-ATL-A - SRX                                          \n",
       "HISPASAT-LEO-ATL-A - STX                                          \n",
       "SATLNET-03 - SDL3                                                 \n",
       "SATLNET-03 - SUL4          12.0% @ fc=2055.000MHz, BW=2.1000MHz   \n",
       "\n",
       "TPA1_beam                                SUP fc=2065.7 bw=250k  \n",
       "sat_beam                                                        \n",
       "HISPASAT-LEO-ATL-A - 2SRX  6.0% @ fc=2067.000MHz, BW=4.0000MHz  \n",
       "HISPASAT-LEO-ATL-A - 2STX                                       \n",
       "HISPASAT-LEO-ATL-A - SRX   6.0% @ fc=2067.000MHz, BW=4.0000MHz  \n",
       "HISPASAT-LEO-ATL-A - STX                                        \n",
       "SATLNET-03 - SDL3                                               \n",
       "SATLNET-03 - SUL4                                               "
      ],
      "text/html": [
       "<div>\n",
       "<style scoped>\n",
       "    .dataframe tbody tr th:only-of-type {\n",
       "        vertical-align: middle;\n",
       "    }\n",
       "\n",
       "    .dataframe tbody tr th {\n",
       "        vertical-align: top;\n",
       "    }\n",
       "\n",
       "    .dataframe thead th {\n",
       "        text-align: right;\n",
       "    }\n",
       "</style>\n",
       "<table border=\"1\" class=\"dataframe\">\n",
       "  <thead>\n",
       "    <tr style=\"text-align: right;\">\n",
       "      <th>TPA1_beam</th>\n",
       "      <th>SDN fc=2237.5 bw=1M</th>\n",
       "      <th>SUP fc=2055.6 bw=250K</th>\n",
       "      <th>SUP fc=2065.7 bw=250k</th>\n",
       "    </tr>\n",
       "    <tr>\n",
       "      <th>sat_beam</th>\n",
       "      <th></th>\n",
       "      <th></th>\n",
       "      <th></th>\n",
       "    </tr>\n",
       "  </thead>\n",
       "  <tbody>\n",
       "    <tr>\n",
       "      <th>HISPASAT-LEO-ATL-A - 2SRX</th>\n",
       "      <td></td>\n",
       "      <td></td>\n",
       "      <td>6.0% @ fc=2067.000MHz, BW=4.0000MHz</td>\n",
       "    </tr>\n",
       "    <tr>\n",
       "      <th>HISPASAT-LEO-ATL-A - 2STX</th>\n",
       "      <td>10.0% @ fc=2240.000MHz, BW=5.0000MHz</td>\n",
       "      <td></td>\n",
       "      <td></td>\n",
       "    </tr>\n",
       "    <tr>\n",
       "      <th>HISPASAT-LEO-ATL-A - SRX</th>\n",
       "      <td></td>\n",
       "      <td></td>\n",
       "      <td>6.0% @ fc=2067.000MHz, BW=4.0000MHz</td>\n",
       "    </tr>\n",
       "    <tr>\n",
       "      <th>HISPASAT-LEO-ATL-A - STX</th>\n",
       "      <td>10.0% @ fc=2240.000MHz, BW=5.0000MHz</td>\n",
       "      <td></td>\n",
       "      <td></td>\n",
       "    </tr>\n",
       "    <tr>\n",
       "      <th>SATLNET-03 - SDL3</th>\n",
       "      <td>11.0% @ fc=2235.000MHz, BW=5.1000MHz</td>\n",
       "      <td></td>\n",
       "      <td></td>\n",
       "    </tr>\n",
       "    <tr>\n",
       "      <th>SATLNET-03 - SUL4</th>\n",
       "      <td></td>\n",
       "      <td>12.0% @ fc=2055.000MHz, BW=2.1000MHz</td>\n",
       "      <td></td>\n",
       "    </tr>\n",
       "  </tbody>\n",
       "</table>\n",
       "</div>"
      ]
     },
     "metadata": {},
     "output_type": "display_data"
    }
   ],
   "execution_count": 4
  },
  {
   "cell_type": "code",
   "id": "d361b65ca913144c",
   "metadata": {
    "ExecuteTime": {
     "end_time": "2025-05-07T11:14:18.653653Z",
     "start_time": "2025-05-07T10:57:23.992735Z"
    }
   },
   "source": [
    "import os\n",
    "import pandas as pd\n",
    "\n",
    "# === CONFIG ===\n",
    "tpafile = './databases/TPAtable.csv'\n",
    "tablesfolder = 'countriestables'\n",
    "outfolder = 'adm_conflicts'\n",
    "countrieslistfile = 'countrieslist.csv'\n",
    "\n",
    "# Load country codes\n",
    "with open(countrieslistfile, 'r') as f:\n",
    "    countries = f.read().strip().split(', ')\n",
    "\n",
    "\n",
    "# === PROCESS EACH COUNTRY ===\n",
    "for ccode in countries:\n",
    "    print(f\"\\n=== Processing {ccode} ===\")\n",
    "    \n",
    "    # outfolder (must already exist)\n",
    "    country_outfolder = os.path.join(outfolder, ccode)\n",
    "    \n",
    "    # Read data for the 'expanded_combined_tables_conflicts_lettersatnames.csv' file\n",
    "    adm = ccode\n",
    "    file = 'expanded_combined_tables_conflicts_lettersatnames.csv'\n",
    "    filepath = os.path.join('.', 'adm_conflicts', adm, file)\n",
    "    df = pd.read_csv(filepath, low_memory=False)\n",
    "\n",
    "    # Generate summary pivot table\n",
    "    summary_pivot = pivot_table(df)\n",
    "    outpath = os.path.join(country_outfolder, 'summary_pivot.csv')\n",
    "    summary_pivot.to_csv(outpath, index=True)\n",
    "    print('Summary pivot saved to ', outpath)\n",
    "\n",
    "    # Read data for the 'expanded_combined_tables_conflicts_othersatnames.csv' file\n",
    "    file = 'expanded_combined_tables_conflicts_othersatnames.csv'\n",
    "    filepath = os.path.join('.', 'adm_conflicts', adm, file)\n",
    "    df = pd.read_csv(filepath, low_memory=False)\n",
    "\n",
    "    # Generate summary pivot table for other satellite names\n",
    "    summary_pivot_othersatnames = pivot_table(df)\n",
    "    outpath = os.path.join(country_outfolder, 'summary_pivot_othersatnames.csv')\n",
    "    summary_pivot_othersatnames.to_csv(outpath, index=True)\n",
    "    print('Summary pivot for other satellite names saved to ', outpath)\n"
   ],
   "outputs": [
    {
     "name": "stdout",
     "output_type": "stream",
     "text": [
      "\n",
      "=== Processing AFS ===\n",
      "⚠️ No valid conflict data found.\n",
      "Summary pivot saved to  adm_conflicts/AFS/summary_pivot.csv\n",
      "⚠️ No valid conflict data found.\n",
      "Summary pivot for other satellite names saved to  adm_conflicts/AFS/summary_pivot_othersatnames.csv\n",
      "\n",
      "=== Processing ARS ===\n"
     ]
    },
    {
     "data": {
      "text/plain": [
       "VBox(children=(HBox(children=(IntProgress(value=0, description='0.00%', max=1442), Label(value='0 / 1442'))), …"
      ],
      "application/vnd.jupyter.widget-view+json": {
       "version_major": 2,
       "version_minor": 0,
       "model_id": "f9ef742871ec4d4fa4b5cad698c58e2b"
      }
     },
     "metadata": {},
     "output_type": "display_data"
    },
    {
     "name": "stdout",
     "output_type": "stream",
     "text": [
      "Summary pivot saved to  adm_conflicts/ARS/summary_pivot.csv\n"
     ]
    },
    {
     "data": {
      "text/plain": [
       "VBox(children=(HBox(children=(IntProgress(value=0, description='0.00%', max=5), Label(value='0 / 5'))), HBox(c…"
      ],
      "application/vnd.jupyter.widget-view+json": {
       "version_major": 2,
       "version_minor": 0,
       "model_id": "328a217db69149b69caf8a566b01ef3f"
      }
     },
     "metadata": {},
     "output_type": "display_data"
    },
    {
     "name": "stdout",
     "output_type": "stream",
     "text": [
      "Summary pivot for other satellite names saved to  adm_conflicts/ARS/summary_pivot_othersatnames.csv\n",
      "\n",
      "=== Processing AUS ===\n"
     ]
    },
    {
     "data": {
      "text/plain": [
       "VBox(children=(HBox(children=(IntProgress(value=0, description='0.00%', max=43761), Label(value='0 / 43761')))…"
      ],
      "application/vnd.jupyter.widget-view+json": {
       "version_major": 2,
       "version_minor": 0,
       "model_id": "8b78410f09b5468fb77581b686972557"
      }
     },
     "metadata": {},
     "output_type": "display_data"
    },
    {
     "name": "stdout",
     "output_type": "stream",
     "text": [
      "Summary pivot saved to  adm_conflicts/AUS/summary_pivot.csv\n"
     ]
    },
    {
     "data": {
      "text/plain": [
       "VBox(children=(HBox(children=(IntProgress(value=0, description='0.00%', max=4), Label(value='0 / 4'))), HBox(c…"
      ],
      "application/vnd.jupyter.widget-view+json": {
       "version_major": 2,
       "version_minor": 0,
       "model_id": "a4d74123c14d40cbb4999257d5575378"
      }
     },
     "metadata": {},
     "output_type": "display_data"
    },
    {
     "name": "stdout",
     "output_type": "stream",
     "text": [
      "Summary pivot for other satellite names saved to  adm_conflicts/AUS/summary_pivot_othersatnames.csv\n",
      "\n",
      "=== Processing CAN ===\n"
     ]
    },
    {
     "data": {
      "text/plain": [
       "VBox(children=(HBox(children=(IntProgress(value=0, description='0.00%', max=68), Label(value='0 / 68'))), HBox…"
      ],
      "application/vnd.jupyter.widget-view+json": {
       "version_major": 2,
       "version_minor": 0,
       "model_id": "0baa350737394689a7bbedf46eda379b"
      }
     },
     "metadata": {},
     "output_type": "display_data"
    },
    {
     "name": "stdout",
     "output_type": "stream",
     "text": [
      "Summary pivot saved to  adm_conflicts/CAN/summary_pivot.csv\n"
     ]
    },
    {
     "data": {
      "text/plain": [
       "VBox(children=(HBox(children=(IntProgress(value=0, description='0.00%', max=13), Label(value='0 / 13'))), HBox…"
      ],
      "application/vnd.jupyter.widget-view+json": {
       "version_major": 2,
       "version_minor": 0,
       "model_id": "4d0300313d534adea9da2a1c22254ca1"
      }
     },
     "metadata": {},
     "output_type": "display_data"
    },
    {
     "name": "stdout",
     "output_type": "stream",
     "text": [
      "Summary pivot for other satellite names saved to  adm_conflicts/CAN/summary_pivot_othersatnames.csv\n",
      "\n",
      "=== Processing CHN ===\n"
     ]
    },
    {
     "data": {
      "text/plain": [
       "VBox(children=(HBox(children=(IntProgress(value=0, description='0.00%', max=40168), Label(value='0 / 40168')))…"
      ],
      "application/vnd.jupyter.widget-view+json": {
       "version_major": 2,
       "version_minor": 0,
       "model_id": "852a7e2cfb6d4846ae1abc821955815d"
      }
     },
     "metadata": {},
     "output_type": "display_data"
    },
    {
     "name": "stdout",
     "output_type": "stream",
     "text": [
      "Summary pivot saved to  adm_conflicts/CHN/summary_pivot.csv\n"
     ]
    },
    {
     "data": {
      "text/plain": [
       "VBox(children=(HBox(children=(IntProgress(value=0, description='0.00%', max=51884), Label(value='0 / 51884')))…"
      ],
      "application/vnd.jupyter.widget-view+json": {
       "version_major": 2,
       "version_minor": 0,
       "model_id": "65f82b3a23cd4e11bd3ea2fb6c537c87"
      }
     },
     "metadata": {},
     "output_type": "display_data"
    },
    {
     "name": "stdout",
     "output_type": "stream",
     "text": [
      "Summary pivot for other satellite names saved to  adm_conflicts/CHN/summary_pivot_othersatnames.csv\n",
      "\n",
      "=== Processing D ===\n"
     ]
    },
    {
     "data": {
      "text/plain": [
       "VBox(children=(HBox(children=(IntProgress(value=0, description='0.00%', max=85264), Label(value='0 / 85264')))…"
      ],
      "application/vnd.jupyter.widget-view+json": {
       "version_major": 2,
       "version_minor": 0,
       "model_id": "2be3bc0cf74a4e9e83d9b53ed67d2e00"
      }
     },
     "metadata": {},
     "output_type": "display_data"
    },
    {
     "name": "stdout",
     "output_type": "stream",
     "text": [
      "Summary pivot saved to  adm_conflicts/D/summary_pivot.csv\n"
     ]
    },
    {
     "data": {
      "text/plain": [
       "VBox(children=(HBox(children=(IntProgress(value=0, description='0.00%', max=420), Label(value='0 / 420'))), HB…"
      ],
      "application/vnd.jupyter.widget-view+json": {
       "version_major": 2,
       "version_minor": 0,
       "model_id": "e140cce341e84bdb89b153d976d9af14"
      }
     },
     "metadata": {},
     "output_type": "display_data"
    },
    {
     "name": "stdout",
     "output_type": "stream",
     "text": [
      "Summary pivot for other satellite names saved to  adm_conflicts/D/summary_pivot_othersatnames.csv\n",
      "\n",
      "=== Processing E ===\n"
     ]
    },
    {
     "data": {
      "text/plain": [
       "VBox(children=(HBox(children=(IntProgress(value=0, description='0.00%', max=68), Label(value='0 / 68'))), HBox…"
      ],
      "application/vnd.jupyter.widget-view+json": {
       "version_major": 2,
       "version_minor": 0,
       "model_id": "f214d9ad1e9b42bab5eff0c2334df182"
      }
     },
     "metadata": {},
     "output_type": "display_data"
    },
    {
     "name": "stdout",
     "output_type": "stream",
     "text": [
      "Summary pivot saved to  adm_conflicts/E/summary_pivot.csv\n"
     ]
    },
    {
     "data": {
      "text/plain": [
       "VBox(children=(HBox(children=(IntProgress(value=0, description='0.00%', max=755), Label(value='0 / 755'))), HB…"
      ],
      "application/vnd.jupyter.widget-view+json": {
       "version_major": 2,
       "version_minor": 0,
       "model_id": "d69023b0c4154cae868d95de20124f38"
      }
     },
     "metadata": {},
     "output_type": "display_data"
    },
    {
     "name": "stdout",
     "output_type": "stream",
     "text": [
      "Summary pivot for other satellite names saved to  adm_conflicts/E/summary_pivot_othersatnames.csv\n",
      "\n",
      "=== Processing EGY ===\n",
      "❗ DataFrame is empty\n",
      "Summary pivot saved to  adm_conflicts/EGY/summary_pivot.csv\n"
     ]
    },
    {
     "data": {
      "text/plain": [
       "VBox(children=(HBox(children=(IntProgress(value=0, description='0.00%', max=5), Label(value='0 / 5'))), HBox(c…"
      ],
      "application/vnd.jupyter.widget-view+json": {
       "version_major": 2,
       "version_minor": 0,
       "model_id": "97f87387cadf4eaaae862163e7f505d6"
      }
     },
     "metadata": {},
     "output_type": "display_data"
    },
    {
     "name": "stdout",
     "output_type": "stream",
     "text": [
      "Summary pivot for other satellite names saved to  adm_conflicts/EGY/summary_pivot_othersatnames.csv\n",
      "\n",
      "=== Processing F ===\n"
     ]
    },
    {
     "data": {
      "text/plain": [
       "VBox(children=(HBox(children=(IntProgress(value=0, description='0.00%', max=89), Label(value='0 / 89'))), HBox…"
      ],
      "application/vnd.jupyter.widget-view+json": {
       "version_major": 2,
       "version_minor": 0,
       "model_id": "97ec66be13cc406e9cc9d0c27af2b0e6"
      }
     },
     "metadata": {},
     "output_type": "display_data"
    },
    {
     "name": "stdout",
     "output_type": "stream",
     "text": [
      "Summary pivot saved to  adm_conflicts/F/summary_pivot.csv\n"
     ]
    },
    {
     "data": {
      "text/plain": [
       "VBox(children=(HBox(children=(IntProgress(value=0, description='0.00%', max=11), Label(value='0 / 11'))), HBox…"
      ],
      "application/vnd.jupyter.widget-view+json": {
       "version_major": 2,
       "version_minor": 0,
       "model_id": "54b7b51fb06647b08e7a6d1159de7990"
      }
     },
     "metadata": {},
     "output_type": "display_data"
    },
    {
     "name": "stdout",
     "output_type": "stream",
     "text": [
      "Summary pivot for other satellite names saved to  adm_conflicts/F/summary_pivot_othersatnames.csv\n",
      "\n",
      "=== Processing G ===\n"
     ]
    },
    {
     "data": {
      "text/plain": [
       "VBox(children=(HBox(children=(IntProgress(value=0, description='0.00%', max=20976), Label(value='0 / 20976')))…"
      ],
      "application/vnd.jupyter.widget-view+json": {
       "version_major": 2,
       "version_minor": 0,
       "model_id": "fe38c27ca7364942b82c9012b548160e"
      }
     },
     "metadata": {},
     "output_type": "display_data"
    },
    {
     "name": "stdout",
     "output_type": "stream",
     "text": [
      "Summary pivot saved to  adm_conflicts/G/summary_pivot.csv\n"
     ]
    },
    {
     "data": {
      "text/plain": [
       "VBox(children=(HBox(children=(IntProgress(value=0, description='0.00%', max=57), Label(value='0 / 57'))), HBox…"
      ],
      "application/vnd.jupyter.widget-view+json": {
       "version_major": 2,
       "version_minor": 0,
       "model_id": "855bb2fac10049deb1a25681da01c2b0"
      }
     },
     "metadata": {},
     "output_type": "display_data"
    },
    {
     "name": "stdout",
     "output_type": "stream",
     "text": [
      "Summary pivot for other satellite names saved to  adm_conflicts/G/summary_pivot_othersatnames.csv\n",
      "\n",
      "=== Processing GRC ===\n",
      "⚠️ No valid conflict data found.\n",
      "Summary pivot saved to  adm_conflicts/GRC/summary_pivot.csv\n",
      "Summary pivot for other satellite names saved to  adm_conflicts/GRC/summary_pivot_othersatnames.csv\n",
      "\n",
      "=== Processing HOL ===\n",
      "❗ DataFrame is empty\n",
      "Summary pivot saved to  adm_conflicts/HOL/summary_pivot.csv\n",
      "⚠️ No valid conflict data found.\n",
      "Summary pivot for other satellite names saved to  adm_conflicts/HOL/summary_pivot_othersatnames.csv\n",
      "\n",
      "=== Processing I ===\n"
     ]
    },
    {
     "data": {
      "text/plain": [
       "VBox(children=(HBox(children=(IntProgress(value=0, description='0.00%', max=226), Label(value='0 / 226'))), HB…"
      ],
      "application/vnd.jupyter.widget-view+json": {
       "version_major": 2,
       "version_minor": 0,
       "model_id": "c567cb1aa8614df099350ffbaeaf4878"
      }
     },
     "metadata": {},
     "output_type": "display_data"
    },
    {
     "name": "stdout",
     "output_type": "stream",
     "text": [
      "⚠️ No valid conflict data found.\n",
      "Summary pivot saved to  adm_conflicts/I/summary_pivot.csv\n"
     ]
    },
    {
     "data": {
      "text/plain": [
       "VBox(children=(HBox(children=(IntProgress(value=0, description='0.00%', max=361), Label(value='0 / 361'))), HB…"
      ],
      "application/vnd.jupyter.widget-view+json": {
       "version_major": 2,
       "version_minor": 0,
       "model_id": "3bc2221efc3848c2a682e2cfffa8e5d4"
      }
     },
     "metadata": {},
     "output_type": "display_data"
    },
    {
     "name": "stdout",
     "output_type": "stream",
     "text": [
      "Summary pivot for other satellite names saved to  adm_conflicts/I/summary_pivot_othersatnames.csv\n",
      "\n",
      "=== Processing IRN ===\n"
     ]
    },
    {
     "data": {
      "text/plain": [
       "VBox(children=(HBox(children=(IntProgress(value=0, description='0.00%', max=5), Label(value='0 / 5'))), HBox(c…"
      ],
      "application/vnd.jupyter.widget-view+json": {
       "version_major": 2,
       "version_minor": 0,
       "model_id": "ec7b7ce51d7a47ddb4ead59f2ab2787f"
      }
     },
     "metadata": {},
     "output_type": "display_data"
    },
    {
     "name": "stdout",
     "output_type": "stream",
     "text": [
      "Summary pivot saved to  adm_conflicts/IRN/summary_pivot.csv\n",
      "❗ DataFrame is empty\n",
      "Summary pivot for other satellite names saved to  adm_conflicts/IRN/summary_pivot_othersatnames.csv\n",
      "\n",
      "=== Processing ISR ===\n"
     ]
    },
    {
     "data": {
      "text/plain": [
       "VBox(children=(HBox(children=(IntProgress(value=0, description='0.00%', max=35), Label(value='0 / 35'))), HBox…"
      ],
      "application/vnd.jupyter.widget-view+json": {
       "version_major": 2,
       "version_minor": 0,
       "model_id": "85d1d3ac641e423c9ece6103e6f24615"
      }
     },
     "metadata": {},
     "output_type": "display_data"
    },
    {
     "name": "stdout",
     "output_type": "stream",
     "text": [
      "Summary pivot saved to  adm_conflicts/ISR/summary_pivot.csv\n"
     ]
    },
    {
     "data": {
      "text/plain": [
       "VBox(children=(HBox(children=(IntProgress(value=0, description='0.00%', max=7), Label(value='0 / 7'))), HBox(c…"
      ],
      "application/vnd.jupyter.widget-view+json": {
       "version_major": 2,
       "version_minor": 0,
       "model_id": "0cb6be3f7e2147aea7928d78e031c4e8"
      }
     },
     "metadata": {},
     "output_type": "display_data"
    },
    {
     "name": "stdout",
     "output_type": "stream",
     "text": [
      "Summary pivot for other satellite names saved to  adm_conflicts/ISR/summary_pivot_othersatnames.csv\n",
      "\n",
      "=== Processing J ===\n"
     ]
    },
    {
     "data": {
      "text/plain": [
       "VBox(children=(HBox(children=(IntProgress(value=0, description='0.00%', max=67), Label(value='0 / 67'))), HBox…"
      ],
      "application/vnd.jupyter.widget-view+json": {
       "version_major": 2,
       "version_minor": 0,
       "model_id": "f139fa4c62284d018a2a2c94739413c8"
      }
     },
     "metadata": {},
     "output_type": "display_data"
    },
    {
     "name": "stdout",
     "output_type": "stream",
     "text": [
      "Summary pivot saved to  adm_conflicts/J/summary_pivot.csv\n"
     ]
    },
    {
     "data": {
      "text/plain": [
       "VBox(children=(HBox(children=(IntProgress(value=0, description='0.00%', max=63), Label(value='0 / 63'))), HBox…"
      ],
      "application/vnd.jupyter.widget-view+json": {
       "version_major": 2,
       "version_minor": 0,
       "model_id": "0ba3592ca930459fa4233a5c49247a73"
      }
     },
     "metadata": {},
     "output_type": "display_data"
    },
    {
     "name": "stdout",
     "output_type": "stream",
     "text": [
      "Summary pivot for other satellite names saved to  adm_conflicts/J/summary_pivot_othersatnames.csv\n",
      "\n",
      "=== Processing KAZ ===\n",
      "⚠️ No valid conflict data found.\n",
      "Summary pivot saved to  adm_conflicts/KAZ/summary_pivot.csv\n",
      "❗ DataFrame is empty\n",
      "Summary pivot for other satellite names saved to  adm_conflicts/KAZ/summary_pivot_othersatnames.csv\n",
      "\n",
      "=== Processing KOR ===\n"
     ]
    },
    {
     "data": {
      "text/plain": [
       "VBox(children=(HBox(children=(IntProgress(value=0, description='0.00%', max=349), Label(value='0 / 349'))), HB…"
      ],
      "application/vnd.jupyter.widget-view+json": {
       "version_major": 2,
       "version_minor": 0,
       "model_id": "3ca9c464c34e490087a2704598ec9b38"
      }
     },
     "metadata": {},
     "output_type": "display_data"
    },
    {
     "name": "stdout",
     "output_type": "stream",
     "text": [
      "Summary pivot saved to  adm_conflicts/KOR/summary_pivot.csv\n"
     ]
    },
    {
     "data": {
      "text/plain": [
       "VBox(children=(HBox(children=(IntProgress(value=0, description='0.00%', max=361), Label(value='0 / 361'))), HB…"
      ],
      "application/vnd.jupyter.widget-view+json": {
       "version_major": 2,
       "version_minor": 0,
       "model_id": "e05e76d2655642abb463e76a2dc2fc8b"
      }
     },
     "metadata": {},
     "output_type": "display_data"
    },
    {
     "name": "stdout",
     "output_type": "stream",
     "text": [
      "Summary pivot for other satellite names saved to  adm_conflicts/KOR/summary_pivot_othersatnames.csv\n",
      "\n",
      "=== Processing LUX ===\n"
     ]
    },
    {
     "data": {
      "text/plain": [
       "VBox(children=(HBox(children=(IntProgress(value=0, description='0.00%', max=1168), Label(value='0 / 1168'))), …"
      ],
      "application/vnd.jupyter.widget-view+json": {
       "version_major": 2,
       "version_minor": 0,
       "model_id": "eb83b93845764d8287099c1b91cee7f7"
      }
     },
     "metadata": {},
     "output_type": "display_data"
    },
    {
     "name": "stdout",
     "output_type": "stream",
     "text": [
      "Summary pivot saved to  adm_conflicts/LUX/summary_pivot.csv\n"
     ]
    },
    {
     "data": {
      "text/plain": [
       "VBox(children=(HBox(children=(IntProgress(value=0, description='0.00%', max=177), Label(value='0 / 177'))), HB…"
      ],
      "application/vnd.jupyter.widget-view+json": {
       "version_major": 2,
       "version_minor": 0,
       "model_id": "e6db231683884438a1133c57afb832be"
      }
     },
     "metadata": {},
     "output_type": "display_data"
    },
    {
     "name": "stdout",
     "output_type": "stream",
     "text": [
      "Summary pivot for other satellite names saved to  adm_conflicts/LUX/summary_pivot_othersatnames.csv\n",
      "\n",
      "=== Processing MLA ===\n",
      "❗ DataFrame is empty\n",
      "Summary pivot saved to  adm_conflicts/MLA/summary_pivot.csv\n"
     ]
    },
    {
     "data": {
      "text/plain": [
       "VBox(children=(HBox(children=(IntProgress(value=0, description='0.00%', max=4), Label(value='0 / 4'))), HBox(c…"
      ],
      "application/vnd.jupyter.widget-view+json": {
       "version_major": 2,
       "version_minor": 0,
       "model_id": "eccf2150bbd44aca8fceaad2133438ba"
      }
     },
     "metadata": {},
     "output_type": "display_data"
    },
    {
     "name": "stdout",
     "output_type": "stream",
     "text": [
      "⚠️ No valid conflict data found.\n",
      "Summary pivot for other satellite names saved to  adm_conflicts/MLA/summary_pivot_othersatnames.csv\n",
      "\n",
      "=== Processing MRC ===\n",
      "⚠️ No valid conflict data found.\n",
      "Summary pivot saved to  adm_conflicts/MRC/summary_pivot.csv\n",
      "⚠️ No valid conflict data found.\n",
      "Summary pivot for other satellite names saved to  adm_conflicts/MRC/summary_pivot_othersatnames.csv\n",
      "\n",
      "=== Processing NOR ===\n",
      "⚠️ No valid conflict data found.\n",
      "Summary pivot saved to  adm_conflicts/NOR/summary_pivot.csv\n"
     ]
    },
    {
     "data": {
      "text/plain": [
       "VBox(children=(HBox(children=(IntProgress(value=0, description='0.00%', max=50), Label(value='0 / 50'))), HBox…"
      ],
      "application/vnd.jupyter.widget-view+json": {
       "version_major": 2,
       "version_minor": 0,
       "model_id": "ba254334fe924ae1993c976d6424a264"
      }
     },
     "metadata": {},
     "output_type": "display_data"
    },
    {
     "name": "stdout",
     "output_type": "stream",
     "text": [
      "Summary pivot for other satellite names saved to  adm_conflicts/NOR/summary_pivot_othersatnames.csv\n",
      "\n",
      "=== Processing PAK ===\n"
     ]
    },
    {
     "data": {
      "text/plain": [
       "VBox(children=(HBox(children=(IntProgress(value=0, description='0.00%', max=131), Label(value='0 / 131'))), HB…"
      ],
      "application/vnd.jupyter.widget-view+json": {
       "version_major": 2,
       "version_minor": 0,
       "model_id": "2c2b9964bbf64d06851c939b73c892bc"
      }
     },
     "metadata": {},
     "output_type": "display_data"
    },
    {
     "name": "stdout",
     "output_type": "stream",
     "text": [
      "Summary pivot saved to  adm_conflicts/PAK/summary_pivot.csv\n"
     ]
    },
    {
     "data": {
      "text/plain": [
       "VBox(children=(HBox(children=(IntProgress(value=0, description='0.00%', max=17), Label(value='0 / 17'))), HBox…"
      ],
      "application/vnd.jupyter.widget-view+json": {
       "version_major": 2,
       "version_minor": 0,
       "model_id": "ba8ff8f710da4dbab5fabf9dc90f15cc"
      }
     },
     "metadata": {},
     "output_type": "display_data"
    },
    {
     "name": "stdout",
     "output_type": "stream",
     "text": [
      "Summary pivot for other satellite names saved to  adm_conflicts/PAK/summary_pivot_othersatnames.csv\n",
      "\n",
      "=== Processing POR ===\n",
      "⚠️ No valid conflict data found.\n",
      "Summary pivot saved to  adm_conflicts/POR/summary_pivot.csv\n",
      "⚠️ No valid conflict data found.\n",
      "Summary pivot for other satellite names saved to  adm_conflicts/POR/summary_pivot_othersatnames.csv\n",
      "\n",
      "=== Processing RUS ===\n"
     ]
    },
    {
     "data": {
      "text/plain": [
       "VBox(children=(HBox(children=(IntProgress(value=0, description='0.00%', max=1116), Label(value='0 / 1116'))), …"
      ],
      "application/vnd.jupyter.widget-view+json": {
       "version_major": 2,
       "version_minor": 0,
       "model_id": "c2eed6c6be2f40bf8f38549e1d796edf"
      }
     },
     "metadata": {},
     "output_type": "display_data"
    },
    {
     "name": "stdout",
     "output_type": "stream",
     "text": [
      "Summary pivot saved to  adm_conflicts/RUS/summary_pivot.csv\n",
      "❗ DataFrame is empty\n",
      "Summary pivot for other satellite names saved to  adm_conflicts/RUS/summary_pivot_othersatnames.csv\n",
      "\n",
      "=== Processing SLM ===\n",
      "❗ DataFrame is empty\n",
      "Summary pivot saved to  adm_conflicts/SLM/summary_pivot.csv\n"
     ]
    },
    {
     "data": {
      "text/plain": [
       "VBox(children=(HBox(children=(IntProgress(value=0, description='0.00%', max=167), Label(value='0 / 167'))), HB…"
      ],
      "application/vnd.jupyter.widget-view+json": {
       "version_major": 2,
       "version_minor": 0,
       "model_id": "0b53ada13af1447181eddd05dc82100a"
      }
     },
     "metadata": {},
     "output_type": "display_data"
    },
    {
     "name": "stdout",
     "output_type": "stream",
     "text": [
      "⚠️ No valid conflict data found.\n",
      "Summary pivot for other satellite names saved to  adm_conflicts/SLM/summary_pivot_othersatnames.csv\n",
      "\n",
      "=== Processing THA ===\n"
     ]
    },
    {
     "data": {
      "text/plain": [
       "VBox(children=(HBox(children=(IntProgress(value=0, description='0.00%', max=109), Label(value='0 / 109'))), HB…"
      ],
      "application/vnd.jupyter.widget-view+json": {
       "version_major": 2,
       "version_minor": 0,
       "model_id": "c2cc18de7bf242019560a3bc38315ba6"
      }
     },
     "metadata": {},
     "output_type": "display_data"
    },
    {
     "name": "stdout",
     "output_type": "stream",
     "text": [
      "Summary pivot saved to  adm_conflicts/THA/summary_pivot.csv\n",
      "❗ DataFrame is empty\n",
      "Summary pivot for other satellite names saved to  adm_conflicts/THA/summary_pivot_othersatnames.csv\n",
      "\n",
      "=== Processing USA ===\n",
      "❗ DataFrame is empty\n",
      "Summary pivot saved to  adm_conflicts/USA/summary_pivot.csv\n"
     ]
    },
    {
     "data": {
      "text/plain": [
       "VBox(children=(HBox(children=(IntProgress(value=0, description='0.00%', max=4573), Label(value='0 / 4573'))), …"
      ],
      "application/vnd.jupyter.widget-view+json": {
       "version_major": 2,
       "version_minor": 0,
       "model_id": "02e9f65ddb254760ab1bb53d124a5eec"
      }
     },
     "metadata": {},
     "output_type": "display_data"
    },
    {
     "name": "stdout",
     "output_type": "stream",
     "text": [
      "Summary pivot for other satellite names saved to  adm_conflicts/USA/summary_pivot_othersatnames.csv\n"
     ]
    }
   ],
   "execution_count": 5
  },
  {
   "cell_type": "code",
   "id": "4fac6ff7-361f-4950-83c9-a5bdd2a03579",
   "metadata": {
    "ExecuteTime": {
     "end_time": "2025-05-07T11:14:18.658401Z",
     "start_time": "2025-05-07T11:14:18.655450Z"
    }
   },
   "source": [],
   "outputs": [],
   "execution_count": 5
  }
 ],
 "metadata": {
  "kernelspec": {
   "display_name": "Python 3 (ipykernel)",
   "language": "python",
   "name": "python3"
  },
  "language_info": {
   "codemirror_mode": {
    "name": "ipython",
    "version": 3
   },
   "file_extension": ".py",
   "mimetype": "text/x-python",
   "name": "python",
   "nbconvert_exporter": "python",
   "pygments_lexer": "ipython3",
   "version": "3.10.12"
  }
 },
 "nbformat": 4,
 "nbformat_minor": 5
}
