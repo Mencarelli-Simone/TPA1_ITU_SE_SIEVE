{
 "cells": [
  {
   "cell_type": "markdown",
   "id": "51ff2892896a01d5",
   "metadata": {},
   "source": [
    "# two steps\n",
    "after importing the combined_table_conflicts.csv\n",
    "1. create the columns for every conflict type and for every chanel\n",
    "2. separate the conflict columns in individual tables with non empty conflict column for every conflict type in every conflict table find the worst case for every mission name and produce a reduced table with only one mission per column"
   ]
  },
  {
   "cell_type": "code",
   "id": "d62e763b95836284",
   "metadata": {
    "ExecuteTime": {
     "end_time": "2025-04-16T04:33:06.466572Z",
     "start_time": "2025-04-16T04:33:05.528652Z"
    }
   },
   "source": [
    "import pandas as pd\n",
    "import numpy as np\n",
    "import os\n",
    "from IPython.display import display\n",
    "from fuzzywuzzy import fuzz\n",
    "from fuzzywuzzy import process\n",
    "from ITUtils import *\n",
    "from tqdm.notebook import tqdm\n"
   ],
   "outputs": [],
   "execution_count": 1
  },
  {
   "metadata": {},
   "cell_type": "markdown",
   "source": [
    "## Step 1\n",
    "expand the conflicts table"
   ],
   "id": "196759396b28ec08"
  },
  {
   "cell_type": "markdown",
   "id": "db2aff2ca2f176e2",
   "metadata": {},
   "source": []
  },
  {
   "cell_type": "code",
   "id": "a2791111cce84f4b",
   "metadata": {
    "ExecuteTime": {
     "end_time": "2025-04-16T04:33:08.171369Z",
     "start_time": "2025-04-16T04:33:06.470888Z"
    }
   },
   "source": [
    "# load the dataframe\n",
    "filename = './databases/combined_tables_conflicts.csv'\n",
    "df = pd.read_csv(filename, low_memory=False)\n",
    "# load tpa dataframe\n",
    "tpafile = './databases/TPAtable.csv'\n",
    "tpadf = pd.read_csv(tpafile, low_memory=False)\n"
   ],
   "outputs": [],
   "execution_count": 2
  },
  {
   "cell_type": "code",
   "id": "1a9774830e04a2ca",
   "metadata": {
    "ExecuteTime": {
     "end_time": "2025-04-16T04:33:08.181381Z",
     "start_time": "2025-04-16T04:33:08.173769Z"
    }
   },
   "source": [
    "print(df.columns)"
   ],
   "outputs": [
    {
     "name": "stdout",
     "output_type": "stream",
     "text": [
      "Index(['com_el.ntc_id', ' com_el.tgt_ntc_id', ' com_el.adm',\n",
      "       ' com_el.ntwk_org', ' com_el.sat_name', ' com_el.long_nom',\n",
      "       ' com_el.prov', ' com_el.d_rcv', ' com_el.st_cur', ' orbit.orb_id',\n",
      "       ' orbit.nbr_sat_pl', ' orbit.apog_km', ' orbit.perig_km',\n",
      "       ' orbit.op_ht_km', ' s_beam.emi_rcp', ' s_beam.beam_name',\n",
      "       ' grp.grp_id', ' grp.freq_min', ' grp.freq_max', ' grp.bdwdth',\n",
      "       ' grp.d_inuse', ' grp.d_reg_limit', ' grp.d_prot_eff', ' grp.f_biu',\n",
      "       ' emiss.seq_no', ' emiss.pwr_ds_max', ' emiss.design_emi',\n",
      "       ' carrier_fr.freq_carr', ' channel.bandwidth', ' channel.freq_min',\n",
      "       ' channel.freq_max', 'tpaconflicts', 'percentoverlap'],\n",
      "      dtype='object')\n"
     ]
    }
   ],
   "execution_count": 3
  },
  {
   "cell_type": "code",
   "id": "126f6356a09a689c",
   "metadata": {
    "ExecuteTime": {
     "end_time": "2025-04-16T04:33:08.227754Z",
     "start_time": "2025-04-16T04:33:08.185549Z"
    }
   },
   "source": [
    "display(df.head(4))"
   ],
   "outputs": [
    {
     "data": {
      "text/plain": [
       "   com_el.ntc_id   com_el.tgt_ntc_id  com_el.adm  com_el.ntwk_org  \\\n",
       "0      119545208                 NaN         KOR              NaN   \n",
       "1      119545208                 NaN         KOR              NaN   \n",
       "2      119545208                 NaN         KOR              NaN   \n",
       "3      119545208                 NaN         KOR              NaN   \n",
       "\n",
       "   com_el.sat_name   com_el.long_nom  com_el.prov  com_el.d_rcv  \\\n",
       "0     KOREASAT 3-1               NaN       9.1/IA    13.11.2019   \n",
       "1     KOREASAT 3-1               NaN       9.1/IA    13.11.2019   \n",
       "2     KOREASAT 3-1               NaN       9.1/IA    13.11.2019   \n",
       "3     KOREASAT 3-1               NaN       9.1/IA    13.11.2019   \n",
       "\n",
       "    com_el.st_cur   orbit.orb_id  ...   grp.f_biu   emiss.seq_no  \\\n",
       "0              50            1.0  ...         NaN            1.0   \n",
       "1              50            1.0  ...         NaN            3.0   \n",
       "2              50            1.0  ...         NaN            1.0   \n",
       "3              50            3.0  ...         NaN            1.0   \n",
       "\n",
       "    emiss.pwr_ds_max   emiss.design_emi  carrier_fr.freq_carr  \\\n",
       "0              -21.2          20M0G7D--                2057.0   \n",
       "1              -56.0          90M0G7D--                2245.0   \n",
       "2              -21.2          20M0G7D--                2067.5   \n",
       "3              -21.2          20M0G7D--                2067.5   \n",
       "\n",
       "   channel.bandwidth   channel.freq_min   channel.freq_max  tpaconflicts  \\\n",
       "0         20000000.0             2047.0             2067.0          2:5:   \n",
       "1         90000000.0             2200.0             2290.0         4:11:   \n",
       "2         20000000.0             2057.5             2077.5            5:   \n",
       "3         20000000.0             2057.5             2077.5            5:   \n",
       "\n",
       "   percentoverlap  \n",
       "0         100:100  \n",
       "1         100:100  \n",
       "2             100  \n",
       "3             100  \n",
       "\n",
       "[4 rows x 33 columns]"
      ],
      "text/html": [
       "<div>\n",
       "<style scoped>\n",
       "    .dataframe tbody tr th:only-of-type {\n",
       "        vertical-align: middle;\n",
       "    }\n",
       "\n",
       "    .dataframe tbody tr th {\n",
       "        vertical-align: top;\n",
       "    }\n",
       "\n",
       "    .dataframe thead th {\n",
       "        text-align: right;\n",
       "    }\n",
       "</style>\n",
       "<table border=\"1\" class=\"dataframe\">\n",
       "  <thead>\n",
       "    <tr style=\"text-align: right;\">\n",
       "      <th></th>\n",
       "      <th>com_el.ntc_id</th>\n",
       "      <th>com_el.tgt_ntc_id</th>\n",
       "      <th>com_el.adm</th>\n",
       "      <th>com_el.ntwk_org</th>\n",
       "      <th>com_el.sat_name</th>\n",
       "      <th>com_el.long_nom</th>\n",
       "      <th>com_el.prov</th>\n",
       "      <th>com_el.d_rcv</th>\n",
       "      <th>com_el.st_cur</th>\n",
       "      <th>orbit.orb_id</th>\n",
       "      <th>...</th>\n",
       "      <th>grp.f_biu</th>\n",
       "      <th>emiss.seq_no</th>\n",
       "      <th>emiss.pwr_ds_max</th>\n",
       "      <th>emiss.design_emi</th>\n",
       "      <th>carrier_fr.freq_carr</th>\n",
       "      <th>channel.bandwidth</th>\n",
       "      <th>channel.freq_min</th>\n",
       "      <th>channel.freq_max</th>\n",
       "      <th>tpaconflicts</th>\n",
       "      <th>percentoverlap</th>\n",
       "    </tr>\n",
       "  </thead>\n",
       "  <tbody>\n",
       "    <tr>\n",
       "      <th>0</th>\n",
       "      <td>119545208</td>\n",
       "      <td>NaN</td>\n",
       "      <td>KOR</td>\n",
       "      <td>NaN</td>\n",
       "      <td>KOREASAT 3-1</td>\n",
       "      <td>NaN</td>\n",
       "      <td>9.1/IA</td>\n",
       "      <td>13.11.2019</td>\n",
       "      <td>50</td>\n",
       "      <td>1.0</td>\n",
       "      <td>...</td>\n",
       "      <td>NaN</td>\n",
       "      <td>1.0</td>\n",
       "      <td>-21.2</td>\n",
       "      <td>20M0G7D--</td>\n",
       "      <td>2057.0</td>\n",
       "      <td>20000000.0</td>\n",
       "      <td>2047.0</td>\n",
       "      <td>2067.0</td>\n",
       "      <td>2:5:</td>\n",
       "      <td>100:100</td>\n",
       "    </tr>\n",
       "    <tr>\n",
       "      <th>1</th>\n",
       "      <td>119545208</td>\n",
       "      <td>NaN</td>\n",
       "      <td>KOR</td>\n",
       "      <td>NaN</td>\n",
       "      <td>KOREASAT 3-1</td>\n",
       "      <td>NaN</td>\n",
       "      <td>9.1/IA</td>\n",
       "      <td>13.11.2019</td>\n",
       "      <td>50</td>\n",
       "      <td>1.0</td>\n",
       "      <td>...</td>\n",
       "      <td>NaN</td>\n",
       "      <td>3.0</td>\n",
       "      <td>-56.0</td>\n",
       "      <td>90M0G7D--</td>\n",
       "      <td>2245.0</td>\n",
       "      <td>90000000.0</td>\n",
       "      <td>2200.0</td>\n",
       "      <td>2290.0</td>\n",
       "      <td>4:11:</td>\n",
       "      <td>100:100</td>\n",
       "    </tr>\n",
       "    <tr>\n",
       "      <th>2</th>\n",
       "      <td>119545208</td>\n",
       "      <td>NaN</td>\n",
       "      <td>KOR</td>\n",
       "      <td>NaN</td>\n",
       "      <td>KOREASAT 3-1</td>\n",
       "      <td>NaN</td>\n",
       "      <td>9.1/IA</td>\n",
       "      <td>13.11.2019</td>\n",
       "      <td>50</td>\n",
       "      <td>1.0</td>\n",
       "      <td>...</td>\n",
       "      <td>NaN</td>\n",
       "      <td>1.0</td>\n",
       "      <td>-21.2</td>\n",
       "      <td>20M0G7D--</td>\n",
       "      <td>2067.5</td>\n",
       "      <td>20000000.0</td>\n",
       "      <td>2057.5</td>\n",
       "      <td>2077.5</td>\n",
       "      <td>5:</td>\n",
       "      <td>100</td>\n",
       "    </tr>\n",
       "    <tr>\n",
       "      <th>3</th>\n",
       "      <td>119545208</td>\n",
       "      <td>NaN</td>\n",
       "      <td>KOR</td>\n",
       "      <td>NaN</td>\n",
       "      <td>KOREASAT 3-1</td>\n",
       "      <td>NaN</td>\n",
       "      <td>9.1/IA</td>\n",
       "      <td>13.11.2019</td>\n",
       "      <td>50</td>\n",
       "      <td>3.0</td>\n",
       "      <td>...</td>\n",
       "      <td>NaN</td>\n",
       "      <td>1.0</td>\n",
       "      <td>-21.2</td>\n",
       "      <td>20M0G7D--</td>\n",
       "      <td>2067.5</td>\n",
       "      <td>20000000.0</td>\n",
       "      <td>2057.5</td>\n",
       "      <td>2077.5</td>\n",
       "      <td>5:</td>\n",
       "      <td>100</td>\n",
       "    </tr>\n",
       "  </tbody>\n",
       "</table>\n",
       "<p>4 rows × 33 columns</p>\n",
       "</div>"
      ]
     },
     "metadata": {},
     "output_type": "display_data"
    }
   ],
   "execution_count": 4
  },
  {
   "metadata": {
    "ExecuteTime": {
     "end_time": "2025-04-16T04:33:22.034827Z",
     "start_time": "2025-04-16T04:33:08.230508Z"
    }
   },
   "cell_type": "code",
   "source": [
    "# create the extra columns\n",
    "expanded = conflict_expander(df, tpadf)"
   ],
   "id": "807622da06599512",
   "outputs": [
    {
     "name": "stdout",
     "output_type": "stream",
     "text": [
      "INFO: Pandarallel will run on 8 workers.\n",
      "INFO: Pandarallel will use Memory file system to transfer data between the main process and workers.\n",
      "['TPA1.401.95525-401.96475_R', 'TPA1.401.9501-401.9699_R', 'TPA1.2055.475-2055.725_R', 'TPA1.401.89525-401.90475_R', 'TPA1.2237.0-2238.0_E', 'TPA1.2065.575-2065.825_R', 'TPA1.401.9501-401.9699_E', 'TPA1.401.8901-401.9099_R', 'TPA1.401.95525-401.96475_E', 'TPA1.401.8901-401.9099_E', 'TPA1.401.89525-401.90475_E', 'TPA1.2202.4-2203.4_E']\n"
     ]
    },
    {
     "data": {
      "text/plain": [
       "VBox(children=(HBox(children=(IntProgress(value=0, description='0.00%', max=26557), Label(value='0 / 26557')))…"
      ],
      "application/vnd.jupyter.widget-view+json": {
       "version_major": 2,
       "version_minor": 0,
       "model_id": "6d1515403523445490acd817d5aef9fa"
      }
     },
     "metadata": {},
     "output_type": "display_data"
    }
   ],
   "execution_count": 5
  },
  {
   "metadata": {
    "ExecuteTime": {
     "end_time": "2025-04-16T04:33:29.789120Z",
     "start_time": "2025-04-16T04:33:22.037617Z"
    }
   },
   "cell_type": "code",
   "source": [
    "# save\n",
    "filenameout = './databases/expanded_combined_tables_conflicts.csv'\n",
    "expanded.to_csv(filenameout, index=False)\n",
    "print('file saved to', filenameout)"
   ],
   "id": "e740ecfcaf6d4d44",
   "outputs": [
    {
     "name": "stdout",
     "output_type": "stream",
     "text": [
      "file saved to ./databases/expanded_combined_tables_conflicts.csv\n"
     ]
    }
   ],
   "execution_count": 6
  },
  {
   "metadata": {},
   "cell_type": "markdown",
   "source": "## Step 1.5 filter database for desired names",
   "id": "f149c27305763124"
  },
  {
   "metadata": {
    "ExecuteTime": {
     "end_time": "2025-04-16T04:33:38.339818Z",
     "start_time": "2025-04-16T04:33:29.792345Z"
    }
   },
   "cell_type": "code",
   "source": [
    "expanded, rejected, biglist = sat_names_isolator(expanded, os.path.join('.','satellitenames'))\n",
    "\n",
    "filenameout = './databases/expanded_combined_tables_conflicts.csv'\n",
    "expanded.to_csv(filenameout, index=False)\n",
    "print('file saved to', filenameout)\n",
    "\n",
    "filenamerej = './databases/expanded_combined_tables_conflicts_rejected.csv'\n",
    "rejected.to_csv(filenamerej, index=False)\n",
    "print('file saved to', filenamerej)\n",
    "print(biglist)"
   ],
   "id": "1adfea9460462981",
   "outputs": [
    {
     "name": "stdout",
     "output_type": "stream",
     "text": [
      "file saved to ./databases/expanded_combined_tables_conflicts.csv\n",
      "file saved to ./databases/expanded_combined_tables_conflicts_rejected.csv\n",
      "['MOHAMMED VI - AB', 'BUSANSAT', 'CAS500-3', 'CAS500-4', 'CAS500-5', 'CONTECSAT-A', 'CONTECSAT-S', 'GEO-KOMPSAT-2-128.2E', 'GK2-128.2E', 'KOMPSAT-2', 'KOMPSAT-3', 'KOMPSAT-6', 'KOMPSAT-7A', 'KOMPSAT-7', 'KOREASAT-11', 'KOREASAT-128.2A', 'KOREASAT-128.2E', 'KOREASAT-12', 'KOREASAT-13', 'KOREASAT-A', 'KOREASAT-C', 'KOREASAT-E', 'KOREASAT-T1', 'KOREASAT-T3', 'KOREASAT 3-1', 'KOREASAT 7-1', 'KPS-G1', 'KPS-NGSO', 'NEXTSAT-1', 'NEXTSAT-2', 'POLSIS', 'PVSAT', 'STSAT-3', 'GEMS02-AMETHYST', 'COSMO SKYMED', 'COSMOSKYMED-2', 'HERMES', 'ITA-LEO', 'ITASAT-1A', 'ITASAT-1B', 'ITASAT-1C', 'ITASAT-1D', 'SICRAL-2A', 'SICRAL-3A', 'SICRAL-3H', 'SICRAL-4-37E', 'GALILEO-M-NAVSTAR', 'PARS-1', 'ZAFAR', 'NAJM', 'HODHOD', 'IRN-ERS-1', '', 'ERMIS', 'MICE', 'SL-OMV-1', 'UKNETSAT-143W', 'JUKEBOX', 'TARD-1S', 'SPACECOMMS-L1', 'SATVU-1', 'SSG-CSL', 'FARADAY-1', 'TITANIA', 'AZRF', 'AC1', 'AAC-AIS', 'AAC-HSI', 'LIZZIE IOMSAT', 'ZSAT-S1', 'CDCSAT-1', 'ESAT 1', 'HMG-SAT-01A', 'SKYNET-4J', 'SKYNET-4K', 'SKYNET-4L', 'SKYNET-4M', 'SKYNET-5A', 'SKYNET-5B', 'SKYNET-5C', 'SKYNET-5D', 'SKYNET-5E', 'SKYNET-5H-KA2', 'Deimos-2', 'PAZ', 'PAZ_R', 'PAZ_2-A', 'URDANETA', 'SATLNET-02 ', 'SATLNET-03', 'STARTICAL-CONSTELLATION-A', 'XPLSAT-1', 'operator=EMAD', 'HISPASAT-2A X', 'HISPASAT-1', 'HISPASAT-LEO-ATL-A', 'CHALLENGEONE', 'SPUTNIX', 'CSDRN-M', 'WSDRN-M', 'VSSRD-2M', 'KANOPUS-V', 'UCTS-ISS', 'ESDRN-M', 'METEOR-3M', 'ARCTICA-M', 'GOMS-166E', 'GOMS-14.5W', 'GOMS-M', 'RASSVET', 'PROGNOZ-1', 'PROGNOZ-2', 'PROGNOZ-3', 'PROGNOZ-4', 'PROGNOZ-5', 'PROGNOZ-6', 'PROGNOZ-7', 'PROGNOZ-8', 'PROGNOZ-N', 'GEO-IK-2', 'GLONASS-M', '', 'ADS', 'BRITE-CANADA', 'CANSAT-LEO-S2', 'CANX-2', 'CANX-4-5', 'CASSIOPE-1A', 'CHORUS-C1', 'EV10', 'GHGSAT-CX', 'GHGSAT-D', 'GJP', 'HOTH', 'KELYPSIS', 'M3MSAT', 'NEOSSAT-1A', 'QEYSSAT', 'RADARSAT-2C', 'RADARSAT-3C', 'SAPPHIRE', 'SCISAT-1', 'JARVIS', 'JARVIS-2', 'NAOS', 'TRITON-X-LIS', '', 'LS-4', 'ASIOT_NBIOT22', 'NAMADGI', 'DIAMANT', 'PAX-1', 'AETHER-C', 'AETHER-K', 'BRINDABELLA', 'D-ISIPELE', 'D-LYRG1-1', 'EIS', 'FLAMINGO-1', 'GOSSAMER', 'HIVE', 'NAMADGI', 'ORASAT', 'SUPA-NGSO-1', 'KAZSTSAT', 'DZZ-MR', 'DZZ-HR', 'KAZEOSAT-MR', 'FY-2A', 'FY-2AS', 'FY-2B', 'FY-2BS', 'FY-2C', 'FY-2CS', 'FY-3', 'FY-3-A', 'FYGEOSAT-105E', 'FYGEOSAT-112E', 'FYGEOSAT-123.5E', 'FYGEOSAT-86.5E', 'FYGEOSAT-99.5E', 'FYGEOSAT-A-105E', 'FYGEOSAT-A-123.5E', 'FYGEOSAT-A-133E', 'FYGEOSAT-A-79E', 'FYGEOSAT-A-86.5E', 'CHNBSAT-K1-92.2E', 'CHNBSAT-K1-101.4E', 'CHNBSAT-K-134E', 'ASIASAT-NGSO-1', 'CHINASAT-E-33.5E', 'CHINASAT-E-85.5E', 'CHINASAT-F-41.6W', 'CHINASAT-F-87.5E', 'CHINASAT-F-110.5E', 'CHINASAT-F-126E', 'CHINASAT-F-163E', 'CHINASAT-F-164E', 'CHINASAT-G-87.5E', 'CHINASAT-G-115.5E', 'CHINASAT-G-125E', 'CHINASAT-G-12.4W', 'CHINASAT-G-72.6W', 'CHINASAT-H-113E', 'CHINASAT-H-125E', 'CHINASAT-H-163.4E', 'SPACEWAY', 'TSN-1A', 'C-SAT-LEO', 'CNSAT-152.8E', 'CNSAT-158E', 'CNSAT-174W', 'CNSAT-29.6E', 'CNSAT-72E', 'CNSAT-76.5W', 'CNSAT-89.8E', 'CSN-L1', 'CSN-L2', 'CSN-L3', 'CSN-V1-1', 'CSN-V1-2', 'CSN-V1-3', 'CSN-V2-1', 'CSN-V2-2', 'CSN-V3-1', 'CSN-V3-2', 'CSN-V4', 'CSN-V5', 'CSN-V6', 'CSN-V7', 'GW', 'GW-2', 'GW-A59', 'MCNT-02', 'MCNT-03', 'SIGNSAT-108E', 'SIGNSAT-10W', 'SIGNSAT-11E', 'SIGNSAT-127E', 'SIGNSAT-132E', 'SIGNSAT-148E', 'SIGNSAT-151E', 'SIGNSAT-151E_1', 'SIGNSAT-15E', 'SIGNSAT-15W', 'SIGNSAT-160E', 'SIGNSAT-18W', 'SIGNSAT-1E', 'SIGNSAT-25E', 'SIGNSAT-28W', 'SIGNSAT-2W', 'SIGNSAT-32E', 'SIGNSAT-33E', 'SIGNSAT-40E', 'SIGNSAT-40W', 'SIGNSAT-41E', 'SIGNSAT-43E', 'SIGNSAT-46W', 'SIGNSAT-50W', 'SIGNSAT-58W', 'SIGNSAT-66W', 'SIGNSAT-96E', 'SIGNSAT-96E_1', 'SIGNSAT-NGSO', 'GC-1', 'GC-11B', 'GC-8', 'HY-2N', 'GC-9', 'GC-5-02', 'GC-5-03', 'GC-17', 'GC-16', 'GC-TC05', 'GC-MEO', 'GC-2', 'GC-5', 'ZH-1', 'GC-7', 'ZH-1-02', 'SAILSPACE-2-A', 'SAILSPACE-2-B', 'SAILSPACE-2-C', 'ADF 104E IOR', 'ADF 140E POR', 'ADF 156E POR', 'ADF 88E IOR', 'ADF 95E IOR', 'ADF POR-1', 'ADF POR-2', 'WRESAT-2', 'MNSAT', 'A4NG', 'ANGELS-F', 'ASTROID', 'ASV', 'BRONET', 'CERES', 'CO3D', 'CSO', 'DORIS-2', 'ELISA', 'EYESAT', 'F-SAT-NG-12', 'F-SAT-NG-8', 'FUTUR-NAV-DEMO-A-B', 'HE2', 'JASON3', 'MICROCARB', 'MICROSCOPE', 'MISSION_POSSIBLE', 'NANODEMO1', 'PLEIADES', 'PROTEUS-TPFO', 'PROTOMETHEE', 'ROBUSTA-3A', 'SOAP-1', 'SPOT-2', 'SPOT-3', 'TARANIS-A', 'UVSQ-SAT-NG', 'FMS5-45.5E', 'FMS5-46E', 'FMS5-45E', 'FMS5-37.5E', 'FMS5-47E', 'FMS5-46E', 'FMS5-45.5E', 'FMS5-37E', 'FMS5-45E', 'FMS5-33E', 'FMS5-25E', 'FMS5-3E', 'FMS5-5W', 'FMS5-6W', 'FMS5-7W', 'FMS5-8W', 'ATHENA-FIDUS-38E', 'SYRACUSE-31H', 'SYRACUSE-31E', 'SYRACUSE-3E', 'SYRACUSE-3H', 'SYRACUSE-3H', 'SYRACUSE-3E', 'SOHO', 'ACES-2', 'XMM', 'MSATNAV-2', 'MSATNAV-3', 'MSATNAV-4', 'GALILEO-2G', 'GALILEO-L3', '', 'PAKTES-1', 'PAKTES-1B1', 'PRSC-EOS', 'K-HS1', 'K-S1', 'allGSOsatellites', 'GABRIEL-1', '', 'GOSAT-GW', 'QZSS-1', 'GOSAT-GW', 'QZSS-1', 'OPTI-KANSEN', 'LOGSATS', 'NAPA-2', 'RTAFSAT', 'THAIIOT', 'THEOS', 'THEOS2', 'THEOS2-SMALLSAT', 'MILSPACE2', 'SPACETOWER-1', 'EOS AGRISAT-1']\n"
     ]
    }
   ],
   "execution_count": 7
  },
  {
   "metadata": {},
   "cell_type": "markdown",
   "source": [
    "## Step 2 \n",
    "separate the conflicts"
   ],
   "id": "edbedefe78367854"
  },
  {
   "metadata": {},
   "cell_type": "markdown",
   "source": "",
   "id": "d3058ea594f14270"
  },
  {
   "metadata": {
    "ExecuteTime": {
     "end_time": "2025-04-16T04:33:47.526024Z",
     "start_time": "2025-04-16T04:33:38.344065Z"
    }
   },
   "cell_type": "code",
   "source": [
    "outfolder = 'output_tables'\n",
    "if not os.path.exists(outfolder):\n",
    "    os.makedirs(outfolder)\n",
    "conflict_tables_separator(expanded, tpadf, outfolder)"
   ],
   "id": "c299cdb35c2983cd",
   "outputs": [
    {
     "name": "stdout",
     "output_type": "stream",
     "text": [
      "INFO: Pandarallel will run on 8 workers.\n",
      "INFO: Pandarallel will use Memory file system to transfer data between the main process and workers.\n",
      "['TPA1.401.95525-401.96475_R', 'TPA1.401.9501-401.9699_R', 'TPA1.2055.475-2055.725_R', 'TPA1.401.89525-401.90475_R', 'TPA1.2237.0-2238.0_E', 'TPA1.2065.575-2065.825_R', 'TPA1.401.9501-401.9699_E', 'TPA1.401.8901-401.9099_R', 'TPA1.401.95525-401.96475_E', 'TPA1.401.8901-401.9099_E', 'TPA1.401.89525-401.90475_E', 'TPA1.2202.4-2203.4_E']\n",
      "table saved to output_tables/TPA1.401.95525-401.96475_R_E.csv\n",
      "table saved to output_tables/TPA1.401.95525-401.96475_R_R.csv\n",
      "table saved to output_tables/TPA1.401.95525-401.96475_R_E_worstcase.csv\n",
      "table saved to output_tables/TPA1.401.95525-401.96475_R_R_worstcase.csv\n",
      "table saved to output_tables/TPA1.401.9501-401.9699_R_E.csv\n",
      "table saved to output_tables/TPA1.401.9501-401.9699_R_R.csv\n",
      "table saved to output_tables/TPA1.401.9501-401.9699_R_E_worstcase.csv\n",
      "table saved to output_tables/TPA1.401.9501-401.9699_R_R_worstcase.csv\n",
      "table saved to output_tables/TPA1.2055.475-2055.725_R_R.csv\n",
      "table saved to output_tables/TPA1.2055.475-2055.725_R_R_worstcase.csv\n",
      "table saved to output_tables/TPA1.401.89525-401.90475_R_E.csv\n",
      "table saved to output_tables/TPA1.401.89525-401.90475_R_R.csv\n",
      "table saved to output_tables/TPA1.401.89525-401.90475_R_E_worstcase.csv\n",
      "table saved to output_tables/TPA1.401.89525-401.90475_R_R_worstcase.csv\n",
      "table saved to output_tables/TPA1.2237.0-2238.0_E_E.csv\n",
      "table saved to output_tables/TPA1.2237.0-2238.0_E_E_worstcase.csv\n",
      "table saved to output_tables/TPA1.2065.575-2065.825_R_R.csv\n",
      "table saved to output_tables/TPA1.2065.575-2065.825_R_R_worstcase.csv\n",
      "table saved to output_tables/TPA1.401.9501-401.9699_E_E.csv\n",
      "table saved to output_tables/TPA1.401.9501-401.9699_E_R.csv\n",
      "table saved to output_tables/TPA1.401.9501-401.9699_E_E_worstcase.csv\n",
      "table saved to output_tables/TPA1.401.9501-401.9699_E_R_worstcase.csv\n",
      "table saved to output_tables/TPA1.401.8901-401.9099_R_E.csv\n",
      "table saved to output_tables/TPA1.401.8901-401.9099_R_R.csv\n",
      "table saved to output_tables/TPA1.401.8901-401.9099_R_E_worstcase.csv\n",
      "table saved to output_tables/TPA1.401.8901-401.9099_R_R_worstcase.csv\n",
      "table saved to output_tables/TPA1.401.95525-401.96475_E_E.csv\n",
      "table saved to output_tables/TPA1.401.95525-401.96475_E_R.csv\n",
      "table saved to output_tables/TPA1.401.95525-401.96475_E_E_worstcase.csv\n",
      "table saved to output_tables/TPA1.401.95525-401.96475_E_R_worstcase.csv\n",
      "table saved to output_tables/TPA1.401.8901-401.9099_E_E.csv\n",
      "table saved to output_tables/TPA1.401.8901-401.9099_E_R.csv\n",
      "table saved to output_tables/TPA1.401.8901-401.9099_E_E_worstcase.csv\n",
      "table saved to output_tables/TPA1.401.8901-401.9099_E_R_worstcase.csv\n",
      "table saved to output_tables/TPA1.401.89525-401.90475_E_E.csv\n",
      "table saved to output_tables/TPA1.401.89525-401.90475_E_R.csv\n",
      "table saved to output_tables/TPA1.401.89525-401.90475_E_E_worstcase.csv\n",
      "table saved to output_tables/TPA1.401.89525-401.90475_E_R_worstcase.csv\n",
      "table saved to output_tables/TPA1.2202.4-2203.4_E_E.csv\n",
      "table saved to output_tables/TPA1.2202.4-2203.4_E_R.csv\n",
      "table saved to output_tables/TPA1.2202.4-2203.4_E_E_worstcase.csv\n",
      "table saved to output_tables/TPA1.2202.4-2203.4_E_R_worstcase.csv\n"
     ]
    }
   ],
   "execution_count": 8
  }
 ],
 "metadata": {
  "kernelspec": {
   "display_name": "Python 3 (ipykernel)",
   "language": "python",
   "name": "python3"
  },
  "language_info": {
   "codemirror_mode": {
    "name": "ipython",
    "version": 3
   },
   "file_extension": ".py",
   "mimetype": "text/x-python",
   "name": "python",
   "nbconvert_exporter": "python",
   "pygments_lexer": "ipython3",
   "version": "3.10.12"
  }
 },
 "nbformat": 4,
 "nbformat_minor": 5
}
