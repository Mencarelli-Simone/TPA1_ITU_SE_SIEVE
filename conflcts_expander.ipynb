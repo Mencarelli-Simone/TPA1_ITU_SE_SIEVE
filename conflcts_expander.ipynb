{
 "cells": [
  {
   "cell_type": "markdown",
   "id": "51ff2892896a01d5",
   "metadata": {},
   "source": [
    "# two steps\n",
    "after importing the combined_table_conflicts.csv\n",
    "1. create the columns for every conflict type and for every chanel\n",
    "2. separate the conflict columns in individual tables with non empty conflict column for every conflict type in every conflict table find the worst case for every mission name and produce a reduced table with only one mission per column"
   ]
  },
  {
   "cell_type": "code",
   "id": "d62e763b95836284",
   "metadata": {
    "ExecuteTime": {
     "end_time": "2025-04-16T03:43:51.184848Z",
     "start_time": "2025-04-16T03:43:51.170739Z"
    }
   },
   "source": [
    "import pandas as pd\n",
    "import numpy as np\n",
    "import os\n",
    "from IPython.display import display\n",
    "from fuzzywuzzy import fuzz\n",
    "from fuzzywuzzy import process\n",
    "from ITUtils import *\n",
    "from tqdm.notebook import tqdm\n"
   ],
   "outputs": [],
   "execution_count": 10
  },
  {
   "metadata": {},
   "cell_type": "markdown",
   "source": [
    "## Step 1\n",
    "expand the conflicts table"
   ],
   "id": "196759396b28ec08"
  },
  {
   "cell_type": "markdown",
   "id": "db2aff2ca2f176e2",
   "metadata": {},
   "source": []
  },
  {
   "cell_type": "code",
   "id": "a2791111cce84f4b",
   "metadata": {
    "ExecuteTime": {
     "end_time": "2025-04-16T03:43:52.887853Z",
     "start_time": "2025-04-16T03:43:51.238489Z"
    }
   },
   "source": [
    "# load the dataframe\n",
    "filename = './databases/combined_tables_conflicts.csv'\n",
    "df = pd.read_csv(filename, low_memory=False)\n",
    "# load tpa dataframe\n",
    "tpafile = './databases/TPAtable.csv'\n",
    "tpadf = pd.read_csv(tpafile, low_memory=False)\n"
   ],
   "outputs": [],
   "execution_count": 11
  },
  {
   "cell_type": "code",
   "id": "1a9774830e04a2ca",
   "metadata": {
    "ExecuteTime": {
     "end_time": "2025-04-16T03:43:52.899332Z",
     "start_time": "2025-04-16T03:43:52.891777Z"
    }
   },
   "source": [
    "print(df.columns)"
   ],
   "outputs": [
    {
     "name": "stdout",
     "output_type": "stream",
     "text": [
      "Index(['com_el.ntc_id', ' com_el.tgt_ntc_id', ' com_el.adm',\n",
      "       ' com_el.ntwk_org', ' com_el.sat_name', ' com_el.long_nom',\n",
      "       ' com_el.prov', ' com_el.d_rcv', ' com_el.st_cur', ' orbit.orb_id',\n",
      "       ' orbit.nbr_sat_pl', ' orbit.apog_km', ' orbit.perig_km',\n",
      "       ' orbit.op_ht_km', ' s_beam.emi_rcp', ' s_beam.beam_name',\n",
      "       ' grp.grp_id', ' grp.freq_min', ' grp.freq_max', ' grp.bdwdth',\n",
      "       ' grp.d_inuse', ' grp.d_reg_limit', ' grp.d_prot_eff', ' grp.f_biu',\n",
      "       ' emiss.seq_no', ' emiss.pwr_ds_max', ' emiss.design_emi',\n",
      "       ' carrier_fr.freq_carr', ' channel.bandwidth', ' channel.freq_min',\n",
      "       ' channel.freq_max', 'tpaconflicts', 'percentoverlap'],\n",
      "      dtype='object')\n"
     ]
    }
   ],
   "execution_count": 12
  },
  {
   "cell_type": "code",
   "id": "126f6356a09a689c",
   "metadata": {
    "ExecuteTime": {
     "end_time": "2025-04-16T03:43:52.951923Z",
     "start_time": "2025-04-16T03:43:52.909854Z"
    }
   },
   "source": [
    "display(df.head(4))"
   ],
   "outputs": [
    {
     "data": {
      "text/plain": [
       "   com_el.ntc_id   com_el.tgt_ntc_id  com_el.adm  com_el.ntwk_org  \\\n",
       "0      119545208                 NaN         KOR              NaN   \n",
       "1      119545208                 NaN         KOR              NaN   \n",
       "2      119545208                 NaN         KOR              NaN   \n",
       "3      119545208                 NaN         KOR              NaN   \n",
       "\n",
       "   com_el.sat_name   com_el.long_nom  com_el.prov  com_el.d_rcv  \\\n",
       "0     KOREASAT 3-1               NaN       9.1/IA    13.11.2019   \n",
       "1     KOREASAT 3-1               NaN       9.1/IA    13.11.2019   \n",
       "2     KOREASAT 3-1               NaN       9.1/IA    13.11.2019   \n",
       "3     KOREASAT 3-1               NaN       9.1/IA    13.11.2019   \n",
       "\n",
       "    com_el.st_cur   orbit.orb_id  ...   grp.f_biu   emiss.seq_no  \\\n",
       "0              50            1.0  ...         NaN            1.0   \n",
       "1              50            1.0  ...         NaN            3.0   \n",
       "2              50            1.0  ...         NaN            1.0   \n",
       "3              50            3.0  ...         NaN            1.0   \n",
       "\n",
       "    emiss.pwr_ds_max   emiss.design_emi  carrier_fr.freq_carr  \\\n",
       "0              -21.2          20M0G7D--                2057.0   \n",
       "1              -56.0          90M0G7D--                2245.0   \n",
       "2              -21.2          20M0G7D--                2067.5   \n",
       "3              -21.2          20M0G7D--                2067.5   \n",
       "\n",
       "   channel.bandwidth   channel.freq_min   channel.freq_max  tpaconflicts  \\\n",
       "0         20000000.0             2047.0             2067.0          2:5:   \n",
       "1         90000000.0             2200.0             2290.0         4:11:   \n",
       "2         20000000.0             2057.5             2077.5            5:   \n",
       "3         20000000.0             2057.5             2077.5            5:   \n",
       "\n",
       "   percentoverlap  \n",
       "0         100:100  \n",
       "1         100:100  \n",
       "2             100  \n",
       "3             100  \n",
       "\n",
       "[4 rows x 33 columns]"
      ],
      "text/html": [
       "<div>\n",
       "<style scoped>\n",
       "    .dataframe tbody tr th:only-of-type {\n",
       "        vertical-align: middle;\n",
       "    }\n",
       "\n",
       "    .dataframe tbody tr th {\n",
       "        vertical-align: top;\n",
       "    }\n",
       "\n",
       "    .dataframe thead th {\n",
       "        text-align: right;\n",
       "    }\n",
       "</style>\n",
       "<table border=\"1\" class=\"dataframe\">\n",
       "  <thead>\n",
       "    <tr style=\"text-align: right;\">\n",
       "      <th></th>\n",
       "      <th>com_el.ntc_id</th>\n",
       "      <th>com_el.tgt_ntc_id</th>\n",
       "      <th>com_el.adm</th>\n",
       "      <th>com_el.ntwk_org</th>\n",
       "      <th>com_el.sat_name</th>\n",
       "      <th>com_el.long_nom</th>\n",
       "      <th>com_el.prov</th>\n",
       "      <th>com_el.d_rcv</th>\n",
       "      <th>com_el.st_cur</th>\n",
       "      <th>orbit.orb_id</th>\n",
       "      <th>...</th>\n",
       "      <th>grp.f_biu</th>\n",
       "      <th>emiss.seq_no</th>\n",
       "      <th>emiss.pwr_ds_max</th>\n",
       "      <th>emiss.design_emi</th>\n",
       "      <th>carrier_fr.freq_carr</th>\n",
       "      <th>channel.bandwidth</th>\n",
       "      <th>channel.freq_min</th>\n",
       "      <th>channel.freq_max</th>\n",
       "      <th>tpaconflicts</th>\n",
       "      <th>percentoverlap</th>\n",
       "    </tr>\n",
       "  </thead>\n",
       "  <tbody>\n",
       "    <tr>\n",
       "      <th>0</th>\n",
       "      <td>119545208</td>\n",
       "      <td>NaN</td>\n",
       "      <td>KOR</td>\n",
       "      <td>NaN</td>\n",
       "      <td>KOREASAT 3-1</td>\n",
       "      <td>NaN</td>\n",
       "      <td>9.1/IA</td>\n",
       "      <td>13.11.2019</td>\n",
       "      <td>50</td>\n",
       "      <td>1.0</td>\n",
       "      <td>...</td>\n",
       "      <td>NaN</td>\n",
       "      <td>1.0</td>\n",
       "      <td>-21.2</td>\n",
       "      <td>20M0G7D--</td>\n",
       "      <td>2057.0</td>\n",
       "      <td>20000000.0</td>\n",
       "      <td>2047.0</td>\n",
       "      <td>2067.0</td>\n",
       "      <td>2:5:</td>\n",
       "      <td>100:100</td>\n",
       "    </tr>\n",
       "    <tr>\n",
       "      <th>1</th>\n",
       "      <td>119545208</td>\n",
       "      <td>NaN</td>\n",
       "      <td>KOR</td>\n",
       "      <td>NaN</td>\n",
       "      <td>KOREASAT 3-1</td>\n",
       "      <td>NaN</td>\n",
       "      <td>9.1/IA</td>\n",
       "      <td>13.11.2019</td>\n",
       "      <td>50</td>\n",
       "      <td>1.0</td>\n",
       "      <td>...</td>\n",
       "      <td>NaN</td>\n",
       "      <td>3.0</td>\n",
       "      <td>-56.0</td>\n",
       "      <td>90M0G7D--</td>\n",
       "      <td>2245.0</td>\n",
       "      <td>90000000.0</td>\n",
       "      <td>2200.0</td>\n",
       "      <td>2290.0</td>\n",
       "      <td>4:11:</td>\n",
       "      <td>100:100</td>\n",
       "    </tr>\n",
       "    <tr>\n",
       "      <th>2</th>\n",
       "      <td>119545208</td>\n",
       "      <td>NaN</td>\n",
       "      <td>KOR</td>\n",
       "      <td>NaN</td>\n",
       "      <td>KOREASAT 3-1</td>\n",
       "      <td>NaN</td>\n",
       "      <td>9.1/IA</td>\n",
       "      <td>13.11.2019</td>\n",
       "      <td>50</td>\n",
       "      <td>1.0</td>\n",
       "      <td>...</td>\n",
       "      <td>NaN</td>\n",
       "      <td>1.0</td>\n",
       "      <td>-21.2</td>\n",
       "      <td>20M0G7D--</td>\n",
       "      <td>2067.5</td>\n",
       "      <td>20000000.0</td>\n",
       "      <td>2057.5</td>\n",
       "      <td>2077.5</td>\n",
       "      <td>5:</td>\n",
       "      <td>100</td>\n",
       "    </tr>\n",
       "    <tr>\n",
       "      <th>3</th>\n",
       "      <td>119545208</td>\n",
       "      <td>NaN</td>\n",
       "      <td>KOR</td>\n",
       "      <td>NaN</td>\n",
       "      <td>KOREASAT 3-1</td>\n",
       "      <td>NaN</td>\n",
       "      <td>9.1/IA</td>\n",
       "      <td>13.11.2019</td>\n",
       "      <td>50</td>\n",
       "      <td>3.0</td>\n",
       "      <td>...</td>\n",
       "      <td>NaN</td>\n",
       "      <td>1.0</td>\n",
       "      <td>-21.2</td>\n",
       "      <td>20M0G7D--</td>\n",
       "      <td>2067.5</td>\n",
       "      <td>20000000.0</td>\n",
       "      <td>2057.5</td>\n",
       "      <td>2077.5</td>\n",
       "      <td>5:</td>\n",
       "      <td>100</td>\n",
       "    </tr>\n",
       "  </tbody>\n",
       "</table>\n",
       "<p>4 rows × 33 columns</p>\n",
       "</div>"
      ]
     },
     "metadata": {},
     "output_type": "display_data"
    }
   ],
   "execution_count": 13
  },
  {
   "metadata": {
    "ExecuteTime": {
     "end_time": "2025-04-16T03:44:07.377755Z",
     "start_time": "2025-04-16T03:43:52.957799Z"
    }
   },
   "cell_type": "code",
   "source": [
    "# create the extra columns\n",
    "expanded = conflict_expander(df, tpadf)"
   ],
   "id": "807622da06599512",
   "outputs": [
    {
     "name": "stdout",
     "output_type": "stream",
     "text": [
      "INFO: Pandarallel will run on 8 workers.\n",
      "INFO: Pandarallel will use Memory file system to transfer data between the main process and workers.\n",
      "['TPA1.401.95525-401.96475_R', 'TPA1.401.9501-401.9699_R', 'TPA1.2055.475-2055.725_R', 'TPA1.401.89525-401.90475_R', 'TPA1.2237.0-2238.0_E', 'TPA1.2065.575-2065.825_R', 'TPA1.401.9501-401.9699_E', 'TPA1.401.8901-401.9099_R', 'TPA1.401.95525-401.96475_E', 'TPA1.401.8901-401.9099_E', 'TPA1.401.89525-401.90475_E', 'TPA1.2202.4-2203.4_E']\n"
     ]
    },
    {
     "data": {
      "text/plain": [
       "VBox(children=(HBox(children=(IntProgress(value=0, description='0.00%', max=26557), Label(value='0 / 26557')))…"
      ],
      "application/vnd.jupyter.widget-view+json": {
       "version_major": 2,
       "version_minor": 0,
       "model_id": "b5fdd2fe3a9c4fa29eae65260b7a204d"
      }
     },
     "metadata": {},
     "output_type": "display_data"
    }
   ],
   "execution_count": 14
  },
  {
   "metadata": {
    "ExecuteTime": {
     "end_time": "2025-04-16T03:44:15.140108Z",
     "start_time": "2025-04-16T03:44:07.381139Z"
    }
   },
   "cell_type": "code",
   "source": [
    "# save\n",
    "filenameout = './databases/expanded_combined_tables_conflicts.csv'\n",
    "expanded.to_csv(filenameout, index=False)\n",
    "print('file saved to', filenameout)"
   ],
   "id": "e740ecfcaf6d4d44",
   "outputs": [
    {
     "name": "stdout",
     "output_type": "stream",
     "text": [
      "file saved to ./databases/expanded_combined_tables_conflicts.csv\n"
     ]
    }
   ],
   "execution_count": 15
  },
  {
   "metadata": {},
   "cell_type": "markdown",
   "source": "## Step 1.5 filter database for desired names",
   "id": "f149c27305763124"
  },
  {
   "metadata": {
    "ExecuteTime": {
     "end_time": "2025-04-16T03:44:23.007522Z",
     "start_time": "2025-04-16T03:44:15.142671Z"
    }
   },
   "cell_type": "code",
   "source": [
    "expanded, rejected = sat_names_isolator(expanded, os.path.join('.','satellitenames'))\n",
    "\n",
    "filenameout = './databases/expanded_combined_tables_conflicts.csv'\n",
    "expanded.to_csv(filenameout, index=False)\n",
    "print('file saved to', filenameout)\n",
    "\n",
    "filenamerej = './databases/expanded_combined_tables_conflicts_rejected.csv'\n",
    "rejected.to_csv(filenamerej, index=False)\n",
    "print('file saved to', filenamerej)"
   ],
   "id": "1adfea9460462981",
   "outputs": [
    {
     "name": "stdout",
     "output_type": "stream",
     "text": [
      "file saved to ./databases/expanded_combined_tables_conflicts.csv\n",
      "file saved to ./databases/expanded_combined_tables_conflicts_rejected.csv\n"
     ]
    }
   ],
   "execution_count": 16
  },
  {
   "metadata": {},
   "cell_type": "markdown",
   "source": [
    "## Step 2 \n",
    "separate the conflicts"
   ],
   "id": "edbedefe78367854"
  },
  {
   "metadata": {},
   "cell_type": "markdown",
   "source": "",
   "id": "d3058ea594f14270"
  },
  {
   "metadata": {
    "ExecuteTime": {
     "end_time": "2025-04-16T03:44:23.235470Z",
     "start_time": "2025-04-16T03:44:23.009828Z"
    }
   },
   "cell_type": "code",
   "source": [
    "outfolder = 'output_tables'\n",
    "if not os.path.exists(outfolder):\n",
    "    os.makedirs(outfolder)\n",
    "conflict_tables_separator(expanded, tpadf, outfolder)"
   ],
   "id": "c299cdb35c2983cd",
   "outputs": [
    {
     "name": "stdout",
     "output_type": "stream",
     "text": [
      "INFO: Pandarallel will run on 8 workers.\n",
      "INFO: Pandarallel will use Memory file system to transfer data between the main process and workers.\n",
      "['TPA1.401.95525-401.96475_R', 'TPA1.401.9501-401.9699_R', 'TPA1.2055.475-2055.725_R', 'TPA1.401.89525-401.90475_R', 'TPA1.2237.0-2238.0_E', 'TPA1.2065.575-2065.825_R', 'TPA1.401.9501-401.9699_E', 'TPA1.401.8901-401.9099_R', 'TPA1.401.95525-401.96475_E', 'TPA1.401.8901-401.9099_E', 'TPA1.401.89525-401.90475_E', 'TPA1.2202.4-2203.4_E']\n",
      "table saved to output_tables/TPA1.401.95525-401.96475_R_E.csv\n",
      "table saved to output_tables/TPA1.401.95525-401.96475_R_R.csv\n",
      "table saved to output_tables/TPA1.401.95525-401.96475_R_E_worstcase.csv\n",
      "table saved to output_tables/TPA1.401.95525-401.96475_R_R_worstcase.csv\n",
      "table saved to output_tables/TPA1.401.9501-401.9699_R_E.csv\n",
      "table saved to output_tables/TPA1.401.9501-401.9699_R_R.csv\n",
      "table saved to output_tables/TPA1.401.9501-401.9699_R_E_worstcase.csv\n",
      "table saved to output_tables/TPA1.401.9501-401.9699_R_R_worstcase.csv\n",
      "table saved to output_tables/TPA1.2055.475-2055.725_R_R.csv\n",
      "table saved to output_tables/TPA1.2055.475-2055.725_R_R_worstcase.csv\n",
      "table saved to output_tables/TPA1.401.89525-401.90475_R_E.csv\n",
      "table saved to output_tables/TPA1.401.89525-401.90475_R_R.csv\n",
      "table saved to output_tables/TPA1.401.89525-401.90475_R_E_worstcase.csv\n",
      "table saved to output_tables/TPA1.401.89525-401.90475_R_R_worstcase.csv\n",
      "table saved to output_tables/TPA1.2237.0-2238.0_E_E.csv\n",
      "table saved to output_tables/TPA1.2237.0-2238.0_E_E_worstcase.csv\n",
      "table saved to output_tables/TPA1.2065.575-2065.825_R_R.csv\n",
      "table saved to output_tables/TPA1.2065.575-2065.825_R_R_worstcase.csv\n",
      "table saved to output_tables/TPA1.401.9501-401.9699_E_E.csv\n",
      "table saved to output_tables/TPA1.401.9501-401.9699_E_R.csv\n",
      "table saved to output_tables/TPA1.401.9501-401.9699_E_E_worstcase.csv\n",
      "table saved to output_tables/TPA1.401.9501-401.9699_E_R_worstcase.csv\n",
      "table saved to output_tables/TPA1.401.8901-401.9099_R_E.csv\n",
      "table saved to output_tables/TPA1.401.8901-401.9099_R_R.csv\n",
      "table saved to output_tables/TPA1.401.8901-401.9099_R_E_worstcase.csv\n",
      "table saved to output_tables/TPA1.401.8901-401.9099_R_R_worstcase.csv\n",
      "table saved to output_tables/TPA1.401.95525-401.96475_E_E.csv\n",
      "table saved to output_tables/TPA1.401.95525-401.96475_E_R.csv\n",
      "table saved to output_tables/TPA1.401.95525-401.96475_E_E_worstcase.csv\n",
      "table saved to output_tables/TPA1.401.95525-401.96475_E_R_worstcase.csv\n",
      "table saved to output_tables/TPA1.401.8901-401.9099_E_E.csv\n",
      "table saved to output_tables/TPA1.401.8901-401.9099_E_R.csv\n",
      "table saved to output_tables/TPA1.401.8901-401.9099_E_E_worstcase.csv\n",
      "table saved to output_tables/TPA1.401.8901-401.9099_E_R_worstcase.csv\n",
      "table saved to output_tables/TPA1.401.89525-401.90475_E_E.csv\n",
      "table saved to output_tables/TPA1.401.89525-401.90475_E_R.csv\n",
      "table saved to output_tables/TPA1.401.89525-401.90475_E_E_worstcase.csv\n",
      "table saved to output_tables/TPA1.401.89525-401.90475_E_R_worstcase.csv\n",
      "table saved to output_tables/TPA1.2202.4-2203.4_E_E.csv\n",
      "table saved to output_tables/TPA1.2202.4-2203.4_E_E_worstcase.csv\n"
     ]
    }
   ],
   "execution_count": 17
  }
 ],
 "metadata": {
  "kernelspec": {
   "display_name": "Python 3 (ipykernel)",
   "language": "python",
   "name": "python3"
  },
  "language_info": {
   "codemirror_mode": {
    "name": "ipython",
    "version": 3
   },
   "file_extension": ".py",
   "mimetype": "text/x-python",
   "name": "python",
   "nbconvert_exporter": "python",
   "pygments_lexer": "ipython3",
   "version": "3.10.12"
  }
 },
 "nbformat": 4,
 "nbformat_minor": 5
}
